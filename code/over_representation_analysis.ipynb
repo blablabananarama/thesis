{
 "cells": [
  {
   "cell_type": "markdown",
   "metadata": {},
   "source": [
    "# Over-Representation Analysis\n",
    "\n",
    "Notebook for performing an over-representation analysis on the top and bottom strains, in terms of redness and normalized redness.\n",
    "\n",
    "2020-02-26\n",
    "\n",
    "## Initial boilerplate"
   ]
  },
  {
   "cell_type": "code",
   "execution_count": 1,
   "metadata": {},
   "outputs": [
    {
     "name": "stdout",
     "output_type": "stream",
     "text": [
      "Standard variables loaded, you are good to go!\n"
     ]
    }
   ],
   "source": [
    "import os\n",
    "from dotenv import load_dotenv, find_dotenv\n",
    "from os.path import join, dirname, basename, exists, isdir\n",
    "\n",
    "### Load environmental variables from the project root directory ###\n",
    "# find .env automagically by walking up directories until it's found\n",
    "dotenv_path = find_dotenv()\n",
    "\n",
    "# load up the entries as environment variables\n",
    "load_dotenv(dotenv_path)\n",
    "\n",
    "# now you can get the variables using their names\n",
    "\n",
    "# Check whether a network drive has been specified\n",
    "DATABASE = os.environ.get(\"NETWORK_URL\")\n",
    "if DATABASE == 'None':\n",
    "    pass\n",
    "else:\n",
    "    pass\n",
    "    #mount network drive here\n",
    "\n",
    "# set up directory paths\n",
    "CURRENT_DIR = os.getcwd()\n",
    "PROJ = dirname(dotenv_path) # project root directory\n",
    "\n",
    "DATA = join(PROJ, 'data') #data directory\n",
    "RAW_EXTERNAL = join(DATA, 'raw_external') # external data raw directory\n",
    "RAW_INTERNAL = join(DATA, 'raw_internal') # internal data raw directory\n",
    "INTERMEDIATE = join(DATA, 'intermediate') # intermediate data directory\n",
    "FINAL = join(DATA, 'final') # final data directory\n",
    "\n",
    "RESULTS = join(PROJ, 'results') # output directory\n",
    "FIGURES = join(RESULTS, 'figures') # figure output directory\n",
    "PICTURES = join(RESULTS, 'pictures') # picture output directory\n",
    "\n",
    "\n",
    "# make folders specific for certain data\n",
    "folder_name = ''\n",
    "if folder_name != '':\n",
    "    #make folders if they don't exist\n",
    "    if not exists(join(RAW_EXTERNAL, folder_name)):\n",
    "        os.makedirs(join(RAW_EXTERNAL, folder_name))\n",
    "\n",
    "    if not exists(join(INTERMEDIATE, folder_name)):\n",
    "        os.makedirs(join(INTERMEDIATE, folder_name))\n",
    "\n",
    "    if not exists(join(FINAL, folder_name)):\n",
    "        os.makedirs(join(FINAL, folder_name))\n",
    "\n",
    "print('Standard variables loaded, you are good to go!')"
   ]
  },
  {
   "cell_type": "markdown",
   "metadata": {},
   "source": [
    "## 1. Load data\n",
    "\n",
    "We will use:\n",
    "* 4 lists (generated manually):\n",
    "  * Top 500 genes in terms of redness, with size $\\geq$ 180 and count > 1.\n",
    "  * Top 500 genes in terms of normalized redness, with size $\\geq$ 260.\n",
    "  * Bottom 500 genes in terms of redness, with size $\\geq$ 180 and count > 1.\n",
    "  * Bottom 500 genes in terms of normalized redness, with size $\\geq$ 180 and count > 1.\n",
    "* The lookup table connecting positions in the 384-well plate to gene ids, as it has all GO-terms associated to each gene ID."
   ]
  },
  {
   "cell_type": "code",
   "execution_count": 2,
   "metadata": {},
   "outputs": [
    {
     "name": "stdout",
     "output_type": "stream",
     "text": [
      "    top_redness top_norm_redness bottom_redness bottom_norm_redness\n",
      "0          CSE2             GAS5          IBA57                OPY1\n",
      "1          MLC2             YOR1           OPY1                RIM8\n",
      "2          YOR1          YJL175W        YCR090C               IBA57\n",
      "3          NTA1             SKY1           HTD2                BUD8\n",
      "4       YOL153C          YIL096C           DIA3               RPL9A\n",
      "..          ...              ...            ...                 ...\n",
      "495        PTK1             TRP1          SPO74                RTC2\n",
      "496     YBR287W          YPR071W        YDL211C                IPK1\n",
      "497        PLB2             BPT1           YCH1             YMR160W\n",
      "498        TRP1             NEJ1           YSP2                STP2\n",
      "499     YKR070W             REX3        YIL012W             YGL152C\n",
      "\n",
      "[500 rows x 4 columns]\n"
     ]
    }
   ],
   "source": [
    "import pandas as pd\n",
    "\n",
    "data = pd.read_csv(join(INTERMEDIATE,\"top_and_bottom_500.csv\"))\n",
    "print(data)"
   ]
  },
  {
   "cell_type": "code",
   "execution_count": 3,
   "metadata": {},
   "outputs": [
    {
     "name": "stdout",
     "output_type": "stream",
     "text": [
      "            ORF       Gene                                         Decription  \\\n",
      "0       YLL040C      VPS13  Protein of unknown function; heterooligomeric ...   \n",
      "1       YAL068C       PAU8  Protein of unknown function, member of the ser...   \n",
      "2       YAL067C       SEO1  Putative permease, member of the allantoate tr...   \n",
      "3       YLL041C       SDH2  Iron-sulfur protein subunit of succinate dehyd...   \n",
      "4       YAL066W    YAL066W  Dubious open reading frame unlikely to encode ...   \n",
      "...         ...        ...                                                ...   \n",
      "4842    YER122C       GLO3  ADP-ribosylation factor GTPase activating prot...   \n",
      "4843    YJL075C      APQ13  Dubious open reading frame, unlikely to encode...   \n",
      "4844    YBR035C       PDX3  Pyridoxine (pyridoxamine) phosphate oxidase, h...   \n",
      "4845    YPR072W       NOT5  Subunit of the CCR4-NOT complex, which is a gl...   \n",
      "4846  YOR008C-A  YOR008C-A  Putative protein of unknown function, includes...   \n",
      "\n",
      "                                  GO Biological Process  \\\n",
      "0     transport, sporulation resulting in formation ...   \n",
      "1     sporulation resulting in formation of a cellul...   \n",
      "2                                             transport   \n",
      "3     cofactor metabolic process, generation of prec...   \n",
      "4                                    biological_process   \n",
      "...                                                 ...   \n",
      "4842  transport, vesicle organization, vesicle-media...   \n",
      "4843                                 biological_process   \n",
      "4844                   cellular lipid metabolic process   \n",
      "4845  transcription, protein modification process, R...   \n",
      "4846                                 biological_process   \n",
      "\n",
      "          GO Molecular Function  \\\n",
      "0            molecular_function   \n",
      "1            molecular_function   \n",
      "2          transporter activity   \n",
      "3       oxidoreductase activity   \n",
      "4            molecular_function   \n",
      "...                         ...   \n",
      "4842  enzyme regulator activity   \n",
      "4843         molecular_function   \n",
      "4844    oxidoreductase activity   \n",
      "4845            ligase activity   \n",
      "4846         molecular_function   \n",
      "\n",
      "                                  GO Cellular Component  \n",
      "0                    mitochondrion, membrane, cytoplasm  \n",
      "1                                    cellular_component  \n",
      "2                                              membrane  \n",
      "3     mitochondrion, membrane, mitochondrial envelop...  \n",
      "4                                    cellular_component  \n",
      "...                                                 ...  \n",
      "4842  endomembrane system, cytoplasmic membrane-boun...  \n",
      "4843                                 cellular_component  \n",
      "4844                                 cellular_component  \n",
      "4845                                 nucleus, cytoplasm  \n",
      "4846                                 cellular_component  \n",
      "\n",
      "[4847 rows x 6 columns]\n"
     ]
    }
   ],
   "source": [
    "gene_ids = pd.read_csv(join(RAW_EXTERNAL,\"geneIDs.txt\"), sep=\"\\t\")\n",
    "gene_ids = gene_ids[gene_ids[\"Gene\"] != \"Blank\"]  # filter out blank data\n",
    "gene_ids = gene_ids.drop(columns=[\"Plate #\", \"Row\", \"Column\", \"96-position\"])  # remove unused columns\n",
    "gene_ids.index = range(0,len(gene_ids.index))  # re-index for consistency later on\n",
    "print(gene_ids)"
   ]
  },
  {
   "cell_type": "markdown",
   "metadata": {},
   "source": [
    "## 2. GO terms\n",
    "\n",
    "We will first collect all GO terms in a single list, to be able to iterate through later."
   ]
  },
  {
   "cell_type": "code",
   "execution_count": 4,
   "metadata": {},
   "outputs": [
    {
     "name": "stdout",
     "output_type": "stream",
     "text": [
      "['-', 'DNA metabolic process', 'RNA metabolic process', 'biological_process', 'cell budding', 'cell cycle', 'cellular amino acid and derivative metabolic process', 'cellular aromatic compound metabolic process', 'cellular carbohydrate metabolic process', 'cellular component morphogenesis', 'cellular homeostasis', 'cellular lipid metabolic process', 'cellular membrane organization', 'cellular protein catabolic process', 'cellular respiration', 'chromosome organization', 'chromosome segregation', 'cofactor metabolic process', 'conjugation', 'cytokinesis', 'cytoskeleton organization', 'fungal-type cell wall organization', 'generation of precursor metabolites and energy', 'heterocycle metabolic process', 'meiosis', 'mitochondrion organization', 'nucleus organization', 'other', 'peroxisome organization', 'protein complex biogenesis', 'protein folding', 'protein modification process', 'pseudohyphal growth', 'response to chemical stimulus', 'response to stress', 'ribosome biogenesis', 'signal transduction', 'sporulation resulting in formation of a cellular spore', 'transcription', 'translation', 'transport', 'transposition', 'vacuole organization', 'vesicle organization', 'vesicle-mediated transport', 'vitamin metabolic process']\n"
     ]
    }
   ],
   "source": [
    "GOterms = []\n",
    "for (idx, row) in gene_ids.iterrows():\n",
    "    row[\"GO Biological Process\"] = row[\"GO Biological Process\"].split(\", \")\n",
    "    GOterms.extend(row[\"GO Biological Process\"])\n",
    "GOterms = list(set(GOterms))\n",
    "GOterms.sort()\n",
    "print(GOterms)\n",
    "GOterms.remove('-')"
   ]
  },
  {
   "cell_type": "markdown",
   "metadata": {},
   "source": [
    "## 3. Over-Representation Analysis\n",
    "\n",
    "We need a function for the over-representation analysis. For each GO term the Fisher matrix is constructed as:\n",
    "\n",
    "|   | Selected in group | Not selected |\n",
    "|:-:|:-----------------:|:------------:|\n",
    "| With GO term | F[0][0] | F[0][1] |\n",
    "| Without GO term | F[1][0] | F[1][1] |\n",
    "\n",
    "And then the alternative hypothesis is that there is a higher percentage of genes in the selected group with the GO term Vs without the GO term."
   ]
  },
  {
   "cell_type": "code",
   "execution_count": 5,
   "metadata": {},
   "outputs": [],
   "source": [
    "from fisher import pvalue\n",
    "\n",
    "# over-representation function:\n",
    "def over_rep(group, gene_ids, GOterms):\n",
    "    pvalues = pd.DataFrame()\n",
    "    for GOterm in GOterms:\n",
    "        F = [[0, 0], [0, 0]]\n",
    "        for (idx, row) in gene_ids.iterrows():\n",
    "            i = 0 if GOterm in row[\"GO Biological Process\"] else 1\n",
    "            j = 0 if row[\"Gene\"] in group else 1\n",
    "            F[i][j] += 1\n",
    "        pval = pvalue(F[0][0], F[0][1], F[1][0], F[1][1]).right_tail\n",
    "        new_row = pd.DataFrame(data={\"genes.selected\":F[0][0], \"genes.total\":F[0][0] + F[0][1], \"p.value\": pval}, index=[GOterm])\n",
    "        pvalues = pvalues.append(new_row)\n",
    "    return pvalues"
   ]
  },
  {
   "cell_type": "markdown",
   "metadata": {},
   "source": [
    "Now we can call the function for all 4 groups:"
   ]
  },
  {
   "cell_type": "code",
   "execution_count": 6,
   "metadata": {},
   "outputs": [
    {
     "data": {
      "text/html": [
       "<div>\n",
       "<style scoped>\n",
       "    .dataframe tbody tr th:only-of-type {\n",
       "        vertical-align: middle;\n",
       "    }\n",
       "\n",
       "    .dataframe tbody tr th {\n",
       "        vertical-align: top;\n",
       "    }\n",
       "\n",
       "    .dataframe thead th {\n",
       "        text-align: right;\n",
       "    }\n",
       "</style>\n",
       "<table border=\"1\" class=\"dataframe\">\n",
       "  <thead>\n",
       "    <tr style=\"text-align: right;\">\n",
       "      <th></th>\n",
       "      <th>genes.selected</th>\n",
       "      <th>genes.total</th>\n",
       "      <th>p.value</th>\n",
       "    </tr>\n",
       "  </thead>\n",
       "  <tbody>\n",
       "  </tbody>\n",
       "</table>\n",
       "</div>"
      ],
      "text/plain": [
       "Empty DataFrame\n",
       "Columns: [genes.selected, genes.total, p.value]\n",
       "Index: []"
      ]
     },
     "execution_count": 6,
     "metadata": {},
     "output_type": "execute_result"
    }
   ],
   "source": [
    "top_redness = list(data[\"top_redness\"])\n",
    "p_values_top_redness = over_rep(top_redness, gene_ids, GOterms)\n",
    "p_values_top_redness[p_values_top_redness[\"p.value\"] < 0.05]"
   ]
  },
  {
   "cell_type": "code",
   "execution_count": 7,
   "metadata": {},
   "outputs": [
    {
     "data": {
      "text/html": [
       "<div>\n",
       "<style scoped>\n",
       "    .dataframe tbody tr th:only-of-type {\n",
       "        vertical-align: middle;\n",
       "    }\n",
       "\n",
       "    .dataframe tbody tr th {\n",
       "        vertical-align: top;\n",
       "    }\n",
       "\n",
       "    .dataframe thead th {\n",
       "        text-align: right;\n",
       "    }\n",
       "</style>\n",
       "<table border=\"1\" class=\"dataframe\">\n",
       "  <thead>\n",
       "    <tr style=\"text-align: right;\">\n",
       "      <th></th>\n",
       "      <th>genes.selected</th>\n",
       "      <th>genes.total</th>\n",
       "      <th>p.value</th>\n",
       "    </tr>\n",
       "  </thead>\n",
       "  <tbody>\n",
       "    <tr>\n",
       "      <th>biological_process</th>\n",
       "      <td>173</td>\n",
       "      <td>1405</td>\n",
       "      <td>0.004948</td>\n",
       "    </tr>\n",
       "  </tbody>\n",
       "</table>\n",
       "</div>"
      ],
      "text/plain": [
       "                    genes.selected  genes.total   p.value\n",
       "biological_process             173         1405  0.004948"
      ]
     },
     "execution_count": 7,
     "metadata": {},
     "output_type": "execute_result"
    }
   ],
   "source": [
    "top_norm_redness = list(data[\"top_norm_redness\"])\n",
    "p_values_top_norm_redness = over_rep(top_norm_redness, gene_ids, GOterms)\n",
    "p_values_top_norm_redness[p_values_top_norm_redness[\"p.value\"] < 0.05]"
   ]
  },
  {
   "cell_type": "code",
   "execution_count": 8,
   "metadata": {},
   "outputs": [
    {
     "data": {
      "text/html": [
       "<div>\n",
       "<style scoped>\n",
       "    .dataframe tbody tr th:only-of-type {\n",
       "        vertical-align: middle;\n",
       "    }\n",
       "\n",
       "    .dataframe tbody tr th {\n",
       "        vertical-align: top;\n",
       "    }\n",
       "\n",
       "    .dataframe thead th {\n",
       "        text-align: right;\n",
       "    }\n",
       "</style>\n",
       "<table border=\"1\" class=\"dataframe\">\n",
       "  <thead>\n",
       "    <tr style=\"text-align: right;\">\n",
       "      <th></th>\n",
       "      <th>genes.selected</th>\n",
       "      <th>genes.total</th>\n",
       "      <th>p.value</th>\n",
       "    </tr>\n",
       "  </thead>\n",
       "  <tbody>\n",
       "    <tr>\n",
       "      <th>protein modification process</th>\n",
       "      <td>56</td>\n",
       "      <td>410</td>\n",
       "      <td>0.026396</td>\n",
       "    </tr>\n",
       "  </tbody>\n",
       "</table>\n",
       "</div>"
      ],
      "text/plain": [
       "                              genes.selected  genes.total   p.value\n",
       "protein modification process              56          410  0.026396"
      ]
     },
     "execution_count": 8,
     "metadata": {},
     "output_type": "execute_result"
    }
   ],
   "source": [
    "bottom_redness = list(data[\"bottom_redness\"])\n",
    "p_values_bottom_redness = over_rep(bottom_redness, gene_ids, GOterms)\n",
    "p_values_bottom_redness[p_values_bottom_redness[\"p.value\"] < 0.05]"
   ]
  },
  {
   "cell_type": "code",
   "execution_count": 9,
   "metadata": {},
   "outputs": [
    {
     "data": {
      "text/html": [
       "<div>\n",
       "<style scoped>\n",
       "    .dataframe tbody tr th:only-of-type {\n",
       "        vertical-align: middle;\n",
       "    }\n",
       "\n",
       "    .dataframe tbody tr th {\n",
       "        vertical-align: top;\n",
       "    }\n",
       "\n",
       "    .dataframe thead th {\n",
       "        text-align: right;\n",
       "    }\n",
       "</style>\n",
       "<table border=\"1\" class=\"dataframe\">\n",
       "  <thead>\n",
       "    <tr style=\"text-align: right;\">\n",
       "      <th></th>\n",
       "      <th>genes.selected</th>\n",
       "      <th>genes.total</th>\n",
       "      <th>p.value</th>\n",
       "    </tr>\n",
       "  </thead>\n",
       "  <tbody>\n",
       "    <tr>\n",
       "      <th>vitamin metabolic process</th>\n",
       "      <td>9</td>\n",
       "      <td>46</td>\n",
       "      <td>0.049671</td>\n",
       "    </tr>\n",
       "  </tbody>\n",
       "</table>\n",
       "</div>"
      ],
      "text/plain": [
       "                           genes.selected  genes.total   p.value\n",
       "vitamin metabolic process               9           46  0.049671"
      ]
     },
     "execution_count": 9,
     "metadata": {},
     "output_type": "execute_result"
    }
   ],
   "source": [
    "bottom_norm_redness = list(data[\"bottom_norm_redness\"])\n",
    "p_values_bottom_norm_redness = over_rep(bottom_norm_redness, gene_ids, GOterms)\n",
    "p_values_bottom_norm_redness[p_values_bottom_norm_redness[\"p.value\"] < 0.05]"
   ]
  },
  {
   "cell_type": "markdown",
   "metadata": {},
   "source": [
    "Results don't look very promising... most likely because there are not many GO terms included in the original file.\n",
    "\n",
    "## 4. Using GOATOOLS\n",
    "\n",
    "Let's try using more GO terms, via GOATOOLS. For that, we first need Entrez IDs for all genes both from the total list of _S. cerevisiae_ genes and from the 4 selected groups. We can get them using the `mygene` package ([Wu et al. 2014](https://www.biorxiv.org/content/10.1101/009332v1)), querying the original ORFs:"
   ]
  },
  {
   "cell_type": "code",
   "execution_count": 10,
   "metadata": {},
   "outputs": [
    {
     "name": "stdout",
     "output_type": "stream",
     "text": [
      "querying 1-1000...done.\n",
      "querying 1001-2000...done.\n",
      "querying 2001-3000...done.\n",
      "querying 3001-4000...done.\n",
      "querying 4001-4847...done.\n",
      "Finished.\n",
      "45 input query terms found dup hits:\n",
      "\t[('YML086C', 2), ('YMR169C', 2), ('YMR174C', 2), ('YMR175W', 2), ('YML035C', 2), ('YMR191W', 2), ('Y\n",
      "411 input query terms found no hit:\n",
      "\t['YAL066W', 'YLL047W', 'YLR123C', 'YLR124W', 'YML089C', 'YAL045C', 'YAL043C-a', 'YML084W', 'YMR151W'\n",
      "Pass \"returnall=True\" to return complete lists of duplicate or missing query terms.\n"
     ]
    },
    {
     "data": {
      "text/plain": [
       "[{'query': 'YLL040C',\n",
       "  '_id': '850619',\n",
       "  '_score': 12.898697,\n",
       "  'entrezgene': '850619'},\n",
       " {'query': 'YAL068C',\n",
       "  '_id': '851229',\n",
       "  '_score': 12.88437,\n",
       "  'entrezgene': '851229'},\n",
       " {'query': 'YAL067C',\n",
       "  '_id': '851230',\n",
       "  '_score': 13.23507,\n",
       "  'entrezgene': '851230'},\n",
       " {'query': 'YLL041C',\n",
       "  '_id': '850685',\n",
       "  '_score': 13.233125,\n",
       "  'entrezgene': '850685'},\n",
       " {'query': 'YAL066W', 'notfound': True},\n",
       " {'query': 'YLL042C',\n",
       "  '_id': '850684',\n",
       "  '_score': 13.22153,\n",
       "  'entrezgene': '850684'},\n",
       " {'query': 'YAL065C',\n",
       "  '_id': '851232',\n",
       "  '_score': 13.740374,\n",
       "  'entrezgene': '851232'},\n",
       " {'query': 'YLL043W',\n",
       "  '_id': '850683',\n",
       "  '_score': 13.2291975,\n",
       "  'entrezgene': '850683'},\n",
       " {'query': 'YAL062W',\n",
       "  '_id': '851237',\n",
       "  '_score': 13.228214,\n",
       "  'entrezgene': '851237'},\n",
       " {'query': 'YLL045C',\n",
       "  '_id': '850682',\n",
       "  '_score': 13.233941,\n",
       "  'entrezgene': '850682'}]"
      ]
     },
     "execution_count": 10,
     "metadata": {},
     "output_type": "execute_result"
    }
   ],
   "source": [
    "import mygene\n",
    "mg = mygene.MyGeneInfo()\n",
    "geneORFs = list(gene_ids[\"ORF\"])\n",
    "entrezIDs = mg.querymany(geneORFs, scopes='locus_tag', fields='entrezgene', species=559292)  # S. cerevisiae S288C\n",
    "entrezIDs[:10]"
   ]
  },
  {
   "cell_type": "markdown",
   "metadata": {},
   "source": [
    "Note that several entries are either duplicated or don't match to anything. Also, `entrezIDs` is in dictionary format, but we need it as a list of just `entrezgene` ids. So we will create a list with just that (that we will call `population`) and translate all genes in the selected groups:"
   ]
  },
  {
   "cell_type": "code",
   "execution_count": 11,
   "metadata": {},
   "outputs": [
    {
     "name": "stdout",
     "output_type": "stream",
     "text": [
      "4436\n"
     ]
    },
    {
     "data": {
      "text/html": [
       "<div>\n",
       "<style scoped>\n",
       "    .dataframe tbody tr th:only-of-type {\n",
       "        vertical-align: middle;\n",
       "    }\n",
       "\n",
       "    .dataframe tbody tr th {\n",
       "        vertical-align: top;\n",
       "    }\n",
       "\n",
       "    .dataframe thead th {\n",
       "        text-align: right;\n",
       "    }\n",
       "</style>\n",
       "<table border=\"1\" class=\"dataframe\">\n",
       "  <thead>\n",
       "    <tr style=\"text-align: right;\">\n",
       "      <th></th>\n",
       "      <th>top_redness</th>\n",
       "      <th>top_norm_redness</th>\n",
       "      <th>bottom_redness</th>\n",
       "      <th>bottom_norm_redness</th>\n",
       "    </tr>\n",
       "  </thead>\n",
       "  <tbody>\n",
       "    <tr>\n",
       "      <th>0</th>\n",
       "      <td>855744</td>\n",
       "      <td>854127</td>\n",
       "      <td>853586</td>\n",
       "      <td>852426</td>\n",
       "    </tr>\n",
       "    <tr>\n",
       "      <th>1</th>\n",
       "      <td>856318</td>\n",
       "      <td>853198</td>\n",
       "      <td>852426</td>\n",
       "      <td>852837</td>\n",
       "    </tr>\n",
       "    <tr>\n",
       "      <th>2</th>\n",
       "      <td>853198</td>\n",
       "      <td>YJL175W</td>\n",
       "      <td>850452</td>\n",
       "      <td>853586</td>\n",
       "    </tr>\n",
       "    <tr>\n",
       "      <th>3</th>\n",
       "      <td>853525</td>\n",
       "      <td>855256</td>\n",
       "      <td>856464</td>\n",
       "      <td>851067</td>\n",
       "    </tr>\n",
       "    <tr>\n",
       "      <th>4</th>\n",
       "      <td>854012</td>\n",
       "      <td>854711</td>\n",
       "      <td>851537</td>\n",
       "      <td>852730</td>\n",
       "    </tr>\n",
       "    <tr>\n",
       "      <th>...</th>\n",
       "      <td>...</td>\n",
       "      <td>...</td>\n",
       "      <td>...</td>\n",
       "      <td>...</td>\n",
       "    </tr>\n",
       "    <tr>\n",
       "      <th>495</th>\n",
       "      <td>853635</td>\n",
       "      <td>851570</td>\n",
       "      <td>852705</td>\n",
       "      <td>852444</td>\n",
       "    </tr>\n",
       "    <tr>\n",
       "      <th>496</th>\n",
       "      <td>852590</td>\n",
       "      <td>856184</td>\n",
       "      <td>851315</td>\n",
       "      <td>851910</td>\n",
       "    </tr>\n",
       "    <tr>\n",
       "      <th>497</th>\n",
       "      <td>855018</td>\n",
       "      <td>850645</td>\n",
       "      <td>853117</td>\n",
       "      <td>855195</td>\n",
       "    </tr>\n",
       "    <tr>\n",
       "      <th>498</th>\n",
       "      <td>851570</td>\n",
       "      <td>850970</td>\n",
       "      <td>851926</td>\n",
       "      <td>856397</td>\n",
       "    </tr>\n",
       "    <tr>\n",
       "      <th>499</th>\n",
       "      <td>853944</td>\n",
       "      <td>850797</td>\n",
       "      <td>854803</td>\n",
       "      <td>YGL152C</td>\n",
       "    </tr>\n",
       "  </tbody>\n",
       "</table>\n",
       "<p>500 rows × 4 columns</p>\n",
       "</div>"
      ],
      "text/plain": [
       "    top_redness top_norm_redness bottom_redness bottom_norm_redness\n",
       "0        855744           854127         853586              852426\n",
       "1        856318           853198         852426              852837\n",
       "2        853198          YJL175W         850452              853586\n",
       "3        853525           855256         856464              851067\n",
       "4        854012           854711         851537              852730\n",
       "..          ...              ...            ...                 ...\n",
       "495      853635           851570         852705              852444\n",
       "496      852590           856184         851315              851910\n",
       "497      855018           850645         853117              855195\n",
       "498      851570           850970         851926              856397\n",
       "499      853944           850797         854803             YGL152C\n",
       "\n",
       "[500 rows x 4 columns]"
      ]
     },
     "execution_count": 11,
     "metadata": {},
     "output_type": "execute_result"
    }
   ],
   "source": [
    "population = []\n",
    "for (idx, row) in gene_ids.iterrows():\n",
    "    gene = entrezIDs[idx]\n",
    "    if \"entrezgene\" in gene:\n",
    "        entrezID = int(gene[\"entrezgene\"])\n",
    "        population.append(entrezID)  # Add to population\n",
    "        data = data.replace(to_replace=row[\"Gene\"], value=entrezID)  # Replace in all selected groups\n",
    "        \n",
    "print(len(population))\n",
    "data"
   ]
  },
  {
   "cell_type": "markdown",
   "metadata": {},
   "source": [
    "Note that not all genes are added to the selected genes, due to missing IDs, but the coverage is good enough (above 90% in all cases):"
   ]
  },
  {
   "cell_type": "code",
   "execution_count": 12,
   "metadata": {},
   "outputs": [
    {
     "name": "stdout",
     "output_type": "stream",
     "text": [
      "top_redness: 462\n",
      "top_norm_redness: 458\n",
      "bottom_redness: 461\n",
      "bottom_norm_redness: 458\n"
     ]
    }
   ],
   "source": [
    "for col in data:\n",
    "    mapped_genes = sum(map(lambda x : type(x) is int, list(data[col])))\n",
    "    print(col + \": \" + str(mapped_genes))"
   ]
  },
  {
   "cell_type": "markdown",
   "metadata": {},
   "source": [
    " So let's proceed. We now need a list of all ontologies, and a list of all associations gene/ontology. The package GOATOOLS ([Klopfenstein et al. 2019](https://doi.org/10.1038/s41598-018-28948-z)) provides that, together with improved enrichment tools (corrected p-values, additional tests, etc), so we will from here forward use that."
   ]
  },
  {
   "cell_type": "code",
   "execution_count": 13,
   "metadata": {},
   "outputs": [
    {
     "name": "stdout",
     "output_type": "stream",
     "text": [
      "requests.get(http://purl.obolibrary.org/obo/go/go-basic.obo, stream=True)\n",
      "  WROTE: go-basic.obo\n",
      "\n",
      "go-basic.obo: fmt(1.2) rel(2020-02-21) 47,245 GO Terms\n",
      "FTP RETR ftp.ncbi.nlm.nih.gov gene/DATA gene2go.gz -> gene2go.gz\n",
      "  gunzip gene2go.gz\n",
      "HMS:0:00:02.819932  94,086 annotations,  6,349 genes,  6,156 GOs, 1 taxids READ: gene2go \n"
     ]
    }
   ],
   "source": [
    "# Get ontologies (from http://geneontology.org/ontology/go-basic.obo)\n",
    "from goatools.base import download_go_basic_obo\n",
    "from goatools.obo_parser import GODag\n",
    "obo_fname = download_go_basic_obo()  # Download data\n",
    "obodag = GODag(obo_fname)  # Load data\n",
    "\n",
    "# Get associations genes <-> ontologies (from ftp://ftp.ncbi.nlm.nih.gov/gene/DATA/gene2go.gz)\n",
    "from goatools.base import download_ncbi_associations\n",
    "from goatools.anno.genetogo_reader import Gene2GoReader\n",
    "gene2go_fname = download_ncbi_associations()  # Download data\n",
    "objanno = Gene2GoReader(gene2go_fname, taxids=[559292])  # Read data (only for Saccharomyces cerevisiae S288C)\n",
    "ns2assoc = objanno.get_ns2assc()\n",
    "\n",
    "#Remove downloaded data:\n",
    "os.remove(obo_fname)\n",
    "os.remove(gene2go_fname)"
   ]
  },
  {
   "cell_type": "markdown",
   "metadata": {},
   "source": [
    "Now we create an over-representation object, with all genes, ontologies, associations and settings included in it. This object will be used for every single analysis to perform later on:"
   ]
  },
  {
   "cell_type": "code",
   "execution_count": 14,
   "metadata": {},
   "outputs": [
    {
     "name": "stdout",
     "output_type": "stream",
     "text": [
      "\n",
      "Load BP Gene Ontology Analysis ...\n",
      " 88%  3,887 of  4,436 population items found in association\n",
      "\n",
      "Load CC Gene Ontology Analysis ...\n",
      " 93%  4,141 of  4,436 population items found in association\n",
      "\n",
      "Load MF Gene Ontology Analysis ...\n",
      " 75%  3,338 of  4,436 population items found in association\n"
     ]
    }
   ],
   "source": [
    "# Over-representation object:\n",
    "from goatools.goea.go_enrichment_ns import GOEnrichmentStudyNS\n",
    "goeaobj = GOEnrichmentStudyNS(\n",
    "    population,  # Population (all mapped yeast genes in Entrez format)\n",
    "    ns2assoc,  # geneid/GO associations\n",
    "    obodag,  # Ontologies\n",
    "    propagate_counts = False,  # ???\n",
    "    alpha = 0.05,  # default significance cut-off\n",
    "    methods = ['fdr_bh'])  # default multipletest correction method"
   ]
  },
  {
   "cell_type": "markdown",
   "metadata": {},
   "source": [
    "Using this object, we can repeat the analysis from before for all 4 groups:"
   ]
  },
  {
   "cell_type": "code",
   "execution_count": 15,
   "metadata": {},
   "outputs": [
    {
     "name": "stdout",
     "output_type": "stream",
     "text": [
      "\n",
      "Run BP Gene Ontology Analysis: current study set of 500 IDs ...\n",
      " 88%    405 of    461 study items found in association\n",
      " 92%    461 of    500 study items found in population(4436)\n",
      "Calculating 2,845 uncorrected p-values using fisher\n",
      "   2,845 GO terms are associated with  3,845 of  4,436 population items\n",
      "     902 GO terms are associated with    405 of    499 study items\n",
      "  METHOD fdr_bh:\n",
      "       0 GO terms found significant (< 0.05=alpha) (  0 enriched +   0 purified): statsmodels fdr_bh\n",
      "       0 study items associated with significant GO IDs (enriched)\n",
      "       0 study items associated with significant GO IDs (purified)\n",
      "\n",
      "Run CC Gene Ontology Analysis: current study set of 500 IDs ...\n",
      " 91%    418 of    461 study items found in association\n",
      " 92%    461 of    500 study items found in population(4436)\n",
      "Calculating 712 uncorrected p-values using fisher\n",
      "     712 GO terms are associated with  4,099 of  4,436 population items\n",
      "     238 GO terms are associated with    418 of    499 study items\n",
      "  METHOD fdr_bh:\n",
      "       0 GO terms found significant (< 0.05=alpha) (  0 enriched +   0 purified): statsmodels fdr_bh\n",
      "       0 study items associated with significant GO IDs (enriched)\n",
      "       0 study items associated with significant GO IDs (purified)\n",
      "\n",
      "Run MF Gene Ontology Analysis: current study set of 500 IDs ...\n",
      " 73%    338 of    461 study items found in association\n",
      " 92%    461 of    500 study items found in population(4436)\n",
      "Calculating 1,793 uncorrected p-values using fisher\n",
      "   1,793 GO terms are associated with  3,299 of  4,436 population items\n",
      "     516 GO terms are associated with    338 of    499 study items\n",
      "  METHOD fdr_bh:\n",
      "       0 GO terms found significant (< 0.05=alpha) (  0 enriched +   0 purified): statsmodels fdr_bh\n",
      "       0 study items associated with significant GO IDs (enriched)\n",
      "       0 study items associated with significant GO IDs (purified)\n",
      "     58 items WROTE: C:\\Users\\bejsab\\Documents\\repos\\phenobooth-analysis\\data\\final\\p_values_top_redness.tsv\n"
     ]
    }
   ],
   "source": [
    "def goea(data, group_name):\n",
    "    goea_results_all = goeaobj.run_study(list(data[group_name]))\n",
    "    goea_results_sig = [r for r in goea_results_all if r.p_uncorrected < 0.05]\n",
    "    goea_results_sig.sort(key=lambda x: (x.NS, x.GO))\n",
    "    goeaobj.wr_tsv(join(FINAL, \"p_values_\" + group_name + \".tsv\"), goea_results_sig)\n",
    "\n",
    "goea(data, \"top_redness\")"
   ]
  },
  {
   "cell_type": "code",
   "execution_count": 16,
   "metadata": {},
   "outputs": [
    {
     "name": "stdout",
     "output_type": "stream",
     "text": [
      "\n",
      "Run BP Gene Ontology Analysis: current study set of 500 IDs ...\n",
      " 84%    387 of    458 study items found in association\n",
      " 92%    458 of    500 study items found in population(4436)\n",
      "Calculating 2,845 uncorrected p-values using fisher\n",
      "   2,845 GO terms are associated with  3,845 of  4,436 population items\n",
      "     876 GO terms are associated with    387 of    500 study items\n",
      "  METHOD fdr_bh:\n",
      "       0 GO terms found significant (< 0.05=alpha) (  0 enriched +   0 purified): statsmodels fdr_bh\n",
      "       0 study items associated with significant GO IDs (enriched)\n",
      "       0 study items associated with significant GO IDs (purified)\n",
      "\n",
      "Run CC Gene Ontology Analysis: current study set of 500 IDs ...\n",
      " 92%    423 of    458 study items found in association\n",
      " 92%    458 of    500 study items found in population(4436)\n",
      "Calculating 712 uncorrected p-values using fisher\n",
      "     712 GO terms are associated with  4,099 of  4,436 population items\n",
      "     224 GO terms are associated with    423 of    500 study items\n",
      "  METHOD fdr_bh:\n",
      "       0 GO terms found significant (< 0.05=alpha) (  0 enriched +   0 purified): statsmodels fdr_bh\n",
      "       0 study items associated with significant GO IDs (enriched)\n",
      "       0 study items associated with significant GO IDs (purified)\n",
      "\n",
      "Run MF Gene Ontology Analysis: current study set of 500 IDs ...\n",
      " 73%    333 of    458 study items found in association\n",
      " 92%    458 of    500 study items found in population(4436)\n",
      "Calculating 1,793 uncorrected p-values using fisher\n",
      "   1,793 GO terms are associated with  3,299 of  4,436 population items\n",
      "     466 GO terms are associated with    333 of    500 study items\n",
      "  METHOD fdr_bh:\n",
      "       0 GO terms found significant (< 0.05=alpha) (  0 enriched +   0 purified): statsmodels fdr_bh\n",
      "       0 study items associated with significant GO IDs (enriched)\n",
      "       0 study items associated with significant GO IDs (purified)\n",
      "     88 items WROTE: C:\\Users\\bejsab\\Documents\\repos\\phenobooth-analysis\\data\\final\\p_values_top_norm_redness.tsv\n"
     ]
    }
   ],
   "source": [
    "goea(data, \"top_norm_redness\")"
   ]
  },
  {
   "cell_type": "code",
   "execution_count": 17,
   "metadata": {},
   "outputs": [
    {
     "name": "stdout",
     "output_type": "stream",
     "text": [
      "\n",
      "Run BP Gene Ontology Analysis: current study set of 500 IDs ...\n",
      " 88%    406 of    461 study items found in association\n",
      " 92%    461 of    500 study items found in population(4436)\n",
      "Calculating 2,845 uncorrected p-values using fisher\n",
      "   2,845 GO terms are associated with  3,845 of  4,436 population items\n",
      "     872 GO terms are associated with    406 of    500 study items\n",
      "  METHOD fdr_bh:\n",
      "       0 GO terms found significant (< 0.05=alpha) (  0 enriched +   0 purified): statsmodels fdr_bh\n",
      "       0 study items associated with significant GO IDs (enriched)\n",
      "       0 study items associated with significant GO IDs (purified)\n",
      "\n",
      "Run CC Gene Ontology Analysis: current study set of 500 IDs ...\n",
      " 94%    435 of    461 study items found in association\n",
      " 92%    461 of    500 study items found in population(4436)\n",
      "Calculating 712 uncorrected p-values using fisher\n",
      "     712 GO terms are associated with  4,099 of  4,436 population items\n",
      "     281 GO terms are associated with    435 of    500 study items\n",
      "  METHOD fdr_bh:\n",
      "       0 GO terms found significant (< 0.05=alpha) (  0 enriched +   0 purified): statsmodels fdr_bh\n",
      "       0 study items associated with significant GO IDs (enriched)\n",
      "       0 study items associated with significant GO IDs (purified)\n",
      "\n",
      "Run MF Gene Ontology Analysis: current study set of 500 IDs ...\n",
      " 77%    356 of    461 study items found in association\n",
      " 92%    461 of    500 study items found in population(4436)\n",
      "Calculating 1,793 uncorrected p-values using fisher\n",
      "   1,793 GO terms are associated with  3,299 of  4,436 population items\n",
      "     479 GO terms are associated with    356 of    500 study items\n",
      "  METHOD fdr_bh:\n",
      "       0 GO terms found significant (< 0.05=alpha) (  0 enriched +   0 purified): statsmodels fdr_bh\n",
      "       0 study items associated with significant GO IDs (enriched)\n",
      "       0 study items associated with significant GO IDs (purified)\n",
      "     84 items WROTE: C:\\Users\\bejsab\\Documents\\repos\\phenobooth-analysis\\data\\final\\p_values_bottom_redness.tsv\n"
     ]
    }
   ],
   "source": [
    "goea(data, \"bottom_redness\")"
   ]
  },
  {
   "cell_type": "code",
   "execution_count": 18,
   "metadata": {},
   "outputs": [
    {
     "name": "stdout",
     "output_type": "stream",
     "text": [
      "\n",
      "Run BP Gene Ontology Analysis: current study set of 500 IDs ...\n",
      " 88%    404 of    458 study items found in association\n",
      " 92%    458 of    500 study items found in population(4436)\n",
      "Calculating 2,845 uncorrected p-values using fisher\n",
      "   2,845 GO terms are associated with  3,845 of  4,436 population items\n",
      "     861 GO terms are associated with    404 of    499 study items\n",
      "  METHOD fdr_bh:\n",
      "       0 GO terms found significant (< 0.05=alpha) (  0 enriched +   0 purified): statsmodels fdr_bh\n",
      "       0 study items associated with significant GO IDs (enriched)\n",
      "       0 study items associated with significant GO IDs (purified)\n",
      "\n",
      "Run CC Gene Ontology Analysis: current study set of 500 IDs ...\n",
      " 93%    426 of    458 study items found in association\n",
      " 92%    458 of    500 study items found in population(4436)\n",
      "Calculating 712 uncorrected p-values using fisher\n",
      "     712 GO terms are associated with  4,099 of  4,436 population items\n",
      "     282 GO terms are associated with    426 of    499 study items\n",
      "  METHOD fdr_bh:\n",
      "       0 GO terms found significant (< 0.05=alpha) (  0 enriched +   0 purified): statsmodels fdr_bh\n",
      "       0 study items associated with significant GO IDs (enriched)\n",
      "       0 study items associated with significant GO IDs (purified)\n",
      "\n",
      "Run MF Gene Ontology Analysis: current study set of 500 IDs ...\n",
      " 76%    349 of    458 study items found in association\n",
      " 92%    458 of    500 study items found in population(4436)\n",
      "Calculating 1,793 uncorrected p-values using fisher\n",
      "   1,793 GO terms are associated with  3,299 of  4,436 population items\n",
      "     489 GO terms are associated with    349 of    499 study items\n",
      "  METHOD fdr_bh:\n",
      "       0 GO terms found significant (< 0.05=alpha) (  0 enriched +   0 purified): statsmodels fdr_bh\n",
      "       0 study items associated with significant GO IDs (enriched)\n",
      "       0 study items associated with significant GO IDs (purified)\n",
      "     54 items WROTE: C:\\Users\\bejsab\\Documents\\repos\\phenobooth-analysis\\data\\final\\p_values_bottom_norm_redness.tsv\n"
     ]
    }
   ],
   "source": [
    "goea(data, \"bottom_norm_redness\")"
   ]
  },
  {
   "cell_type": "markdown",
   "metadata": {},
   "source": [
    "As observed, no ontology shows to be significant when looking at the corrected p-values. Some ontologies do show significance if we consider only the uncorrected p-values, but then false positives are to be expected. We should probably play with the number of genes inside of each group, as maybe 500 was too many..."
   ]
  },
  {
   "cell_type": "code",
   "execution_count": null,
   "metadata": {},
   "outputs": [],
   "source": []
  }
 ],
 "metadata": {
  "kernelspec": {
   "display_name": "Python 3",
   "language": "python",
   "name": "python3"
  },
  "language_info": {
   "codemirror_mode": {
    "name": "ipython",
    "version": 3
   },
   "file_extension": ".py",
   "mimetype": "text/x-python",
   "name": "python",
   "nbconvert_exporter": "python",
   "pygments_lexer": "ipython3",
   "version": "3.7.5"
  }
 },
 "nbformat": 4,
 "nbformat_minor": 2
}
