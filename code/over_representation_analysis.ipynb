{
 "cells": [
  {
   "cell_type": "markdown",
   "metadata": {},
   "source": [
    "# Over-Representation Analysis\n",
    "\n",
    "Notebook for performing an over-representation analysis on the top and bottom strains, in terms of redness and normalized redness.\n",
    "\n",
    "2020-02-26\n",
    "\n",
    "## Initial boilerplate"
   ]
  },
  {
   "cell_type": "code",
   "execution_count": 1,
   "metadata": {},
   "outputs": [
    {
     "name": "stdout",
     "output_type": "stream",
     "text": [
      "Standard variables loaded, you are good to go!\n"
     ]
    }
   ],
   "source": [
    "import os\n",
    "from dotenv import load_dotenv, find_dotenv\n",
    "from os.path import join, dirname, basename, exists, isdir\n",
    "\n",
    "### Load environmental variables from the project root directory ###\n",
    "# find .env automagically by walking up directories until it's found\n",
    "dotenv_path = find_dotenv()\n",
    "\n",
    "# load up the entries as environment variables\n",
    "load_dotenv(dotenv_path)\n",
    "\n",
    "# now you can get the variables using their names\n",
    "\n",
    "# Check whether a network drive has been specified\n",
    "DATABASE = os.environ.get(\"NETWORK_URL\")\n",
    "if DATABASE == 'None':\n",
    "    pass\n",
    "else:\n",
    "    pass\n",
    "    #mount network drive here\n",
    "\n",
    "# set up directory paths\n",
    "CURRENT_DIR = os.getcwd()\n",
    "PROJ = dirname(dotenv_path) # project root directory\n",
    "\n",
    "DATA = join(PROJ, 'data') #data directory\n",
    "RAW_EXTERNAL = join(DATA, 'raw_external') # external data raw directory\n",
    "RAW_INTERNAL = join(DATA, 'raw_internal') # internal data raw directory\n",
    "INTERMEDIATE = join(DATA, 'intermediate') # intermediate data directory\n",
    "FINAL = join(DATA, 'final') # final data directory\n",
    "\n",
    "RESULTS = join(PROJ, 'results') # output directory\n",
    "FIGURES = join(RESULTS, 'figures') # figure output directory\n",
    "PICTURES = join(RESULTS, 'pictures') # picture output directory\n",
    "\n",
    "\n",
    "# make folders specific for certain data\n",
    "folder_name = ''\n",
    "if folder_name != '':\n",
    "    #make folders if they don't exist\n",
    "    if not exists(join(RAW_EXTERNAL, folder_name)):\n",
    "        os.makedirs(join(RAW_EXTERNAL, folder_name))\n",
    "\n",
    "    if not exists(join(INTERMEDIATE, folder_name)):\n",
    "        os.makedirs(join(INTERMEDIATE, folder_name))\n",
    "\n",
    "    if not exists(join(FINAL, folder_name)):\n",
    "        os.makedirs(join(FINAL, folder_name))\n",
    "\n",
    "print('Standard variables loaded, you are good to go!')"
   ]
  },
  {
   "cell_type": "markdown",
   "metadata": {},
   "source": [
    "## 1. Load data\n",
    "\n",
    "We will use:\n",
    "* 4 lists (generated manually):\n",
    "  * Top 500 genes in terms of redness, with size $\\geq$ 180 and count > 1.\n",
    "  * Top 500 genes in terms of normalized redness, with size $\\geq$ 260.\n",
    "  * Bottom 500 genes in terms of redness, with size $\\geq$ 180 and count > 1.\n",
    "  * Bottom 500 genes in terms of normalized redness, with size $\\geq$ 180 and count > 1.\n",
    "* The lookup table connecting positions in the 384-well plate to gene ids, as it has all GO-terms associated to each gene ID."
   ]
  },
  {
   "cell_type": "code",
   "execution_count": 2,
   "metadata": {},
   "outputs": [
    {
     "name": "stdout",
     "output_type": "stream",
     "text": [
      "    top_redness top_norm_redness bottom_redness bottom_norm_redness\n",
      "0          CSE2             GAS5          IBA57                OPY1\n",
      "1          MLC2             YOR1           OPY1                RIM8\n",
      "2          YOR1          YJL175W        YCR090C               IBA57\n",
      "3          NTA1             SKY1           HTD2                BUD8\n",
      "4       YOL153C          YIL096C           DIA3               RPL9A\n",
      "..          ...              ...            ...                 ...\n",
      "495        PTK1             TRP1          SPO74                RTC2\n",
      "496     YBR287W          YPR071W        YDL211C                IPK1\n",
      "497        PLB2             BPT1           YCH1             YMR160W\n",
      "498        TRP1             NEJ1           YSP2                STP2\n",
      "499     YKR070W             REX3        YIL012W             YGL152C\n",
      "\n",
      "[500 rows x 4 columns]\n"
     ]
    }
   ],
   "source": [
    "import pandas as pd\n",
    "\n",
    "data = pd.read_csv(join(INTERMEDIATE,\"top_and_bottom_500.csv\"))\n",
    "print(data)"
   ]
  },
  {
   "cell_type": "code",
   "execution_count": 3,
   "metadata": {},
   "outputs": [
    {
     "name": "stdout",
     "output_type": "stream",
     "text": [
      "           Gene                                         Decription  \\\n",
      "1         VPS13  Protein of unknown function; heterooligomeric ...   \n",
      "2          PAU8  Protein of unknown function, member of the ser...   \n",
      "4          SEO1  Putative permease, member of the allantoate tr...   \n",
      "5          SDH2  Iron-sulfur protein subunit of succinate dehyd...   \n",
      "6       YAL066W  Dubious open reading frame unlikely to encode ...   \n",
      "...         ...                                                ...   \n",
      "4982       GLO3  ADP-ribosylation factor GTPase activating prot...   \n",
      "4984      APQ13  Dubious open reading frame, unlikely to encode...   \n",
      "4986       PDX3  Pyridoxine (pyridoxamine) phosphate oxidase, h...   \n",
      "4988       NOT5  Subunit of the CCR4-NOT complex, which is a gl...   \n",
      "4990  YOR008C-A  Putative protein of unknown function, includes...   \n",
      "\n",
      "                                  GO Biological Process  \\\n",
      "1     transport, sporulation resulting in formation ...   \n",
      "2     sporulation resulting in formation of a cellul...   \n",
      "4                                             transport   \n",
      "5     cofactor metabolic process, generation of prec...   \n",
      "6                                    biological_process   \n",
      "...                                                 ...   \n",
      "4982  transport, vesicle organization, vesicle-media...   \n",
      "4984                                 biological_process   \n",
      "4986                   cellular lipid metabolic process   \n",
      "4988  transcription, protein modification process, R...   \n",
      "4990                                 biological_process   \n",
      "\n",
      "          GO Molecular Function  \\\n",
      "1            molecular_function   \n",
      "2            molecular_function   \n",
      "4          transporter activity   \n",
      "5       oxidoreductase activity   \n",
      "6            molecular_function   \n",
      "...                         ...   \n",
      "4982  enzyme regulator activity   \n",
      "4984         molecular_function   \n",
      "4986    oxidoreductase activity   \n",
      "4988            ligase activity   \n",
      "4990         molecular_function   \n",
      "\n",
      "                                  GO Cellular Component  \n",
      "1                    mitochondrion, membrane, cytoplasm  \n",
      "2                                    cellular_component  \n",
      "4                                              membrane  \n",
      "5     mitochondrion, membrane, mitochondrial envelop...  \n",
      "6                                    cellular_component  \n",
      "...                                                 ...  \n",
      "4982  endomembrane system, cytoplasmic membrane-boun...  \n",
      "4984                                 cellular_component  \n",
      "4986                                 cellular_component  \n",
      "4988                                 nucleus, cytoplasm  \n",
      "4990                                 cellular_component  \n",
      "\n",
      "[4847 rows x 5 columns]\n"
     ]
    }
   ],
   "source": [
    "gene_ids = pd.read_csv(join(RAW_EXTERNAL,\"geneIDs.txt\"), sep=\"\\t\")\n",
    "gene_ids = gene_ids[gene_ids[\"Gene\"] != \"Blank\"]  # filter out blank data\n",
    "gene_ids = gene_ids.drop(columns=[\"Plate #\", \"Row\", \"Column\", \"ORF\", \"96-position\"])  # remove unused columns\n",
    "print(gene_ids)"
   ]
  },
  {
   "cell_type": "markdown",
   "metadata": {},
   "source": [
    "## 2. GO terms\n",
    "\n",
    "We will first collect all GO terms in a single list, to be able to iterate through later."
   ]
  },
  {
   "cell_type": "code",
   "execution_count": 4,
   "metadata": {},
   "outputs": [
    {
     "name": "stdout",
     "output_type": "stream",
     "text": [
      "['cell budding', 'chromosome organization', 'cytoskeleton organization', 'transport', 'mitochondrion organization', 'protein complex biogenesis', 'vacuole organization', 'cytokinesis', 'conjugation', 'protein modification process', 'translation', 'pseudohyphal growth', 'cellular component morphogenesis', 'cellular carbohydrate metabolic process', 'chromosome segregation', 'vesicle-mediated transport', 'fungal-type cell wall organization', '-', 'sporulation resulting in formation of a cellular spore', 'cellular respiration', 'cellular protein catabolic process', 'nucleus organization', 'meiosis', 'peroxisome organization', 'generation of precursor metabolites and energy', 'cellular homeostasis', 'ribosome biogenesis', 'signal transduction', 'heterocycle metabolic process', 'DNA metabolic process', 'protein folding', 'other', 'cellular aromatic compound metabolic process', 'cellular amino acid and derivative metabolic process', 'transposition', 'cell cycle', 'RNA metabolic process', 'cellular membrane organization', 'cellular lipid metabolic process', 'response to stress', 'biological_process', 'cofactor metabolic process', 'vesicle organization', 'response to chemical stimulus', 'transcription', 'vitamin metabolic process']\n"
     ]
    }
   ],
   "source": [
    "GOterms = []\n",
    "for (idx, row) in gene_ids.iterrows():\n",
    "    row[\"GO Biological Process\"] = row[\"GO Biological Process\"].split(\", \")\n",
    "    GOterms.extend(row[\"GO Biological Process\"])\n",
    "GOterms = list(set(GOterms))\n",
    "print(GOterms)\n",
    "GOterms.remove('-')"
   ]
  },
  {
   "cell_type": "markdown",
   "metadata": {},
   "source": [
    "## 3. Over-Representation Analysis\n",
    "\n",
    "We need a function for the over-representation analysis. For each GO term the Fisher matrix is constructed as:\n",
    "\n",
    "|   | Selected in group | Not selected |\n",
    "|:-:|:-----------------:|:------------:|\n",
    "| With GO term | F[0][0] | F[0][1] |\n",
    "| Without GO term | F[1][0] | F[1][1] |\n",
    "\n",
    "And then the alternative hypothesis is that there is a higher percentage of genes in the selected group with the GO term Vs without the GO term."
   ]
  },
  {
   "cell_type": "code",
   "execution_count": 5,
   "metadata": {},
   "outputs": [],
   "source": [
    "from fisher import pvalue\n",
    "\n",
    "# over-representation function:\n",
    "def over_rep(group, gene_ids, GOterms):\n",
    "    pvalues = pd.DataFrame()\n",
    "    for GOterm in GOterms:\n",
    "        F = [[0, 0], [0, 0]]\n",
    "        for (idx, row) in gene_ids.iterrows():\n",
    "            i = 0 if GOterm in row[\"GO Biological Process\"] else 1\n",
    "            j = 0 if row[\"Gene\"] in group else 1\n",
    "            F[i][j] += 1\n",
    "        pval = pvalue(F[0][0], F[0][1], F[1][0], F[1][1]).right_tail\n",
    "        new_row = pd.DataFrame(data={\"genes.selected\":F[0][0], \"genes.total\":F[0][0] + F[0][1], \"p.value\": pval}, index=[GOterm])\n",
    "        pvalues = pvalues.append(new_row)\n",
    "    return pvalues"
   ]
  },
  {
   "cell_type": "markdown",
   "metadata": {},
   "source": [
    "Now we can call the function for all 4 groups:"
   ]
  },
  {
   "cell_type": "code",
   "execution_count": 6,
   "metadata": {},
   "outputs": [
    {
     "data": {
      "text/html": [
       "<div>\n",
       "<style scoped>\n",
       "    .dataframe tbody tr th:only-of-type {\n",
       "        vertical-align: middle;\n",
       "    }\n",
       "\n",
       "    .dataframe tbody tr th {\n",
       "        vertical-align: top;\n",
       "    }\n",
       "\n",
       "    .dataframe thead th {\n",
       "        text-align: right;\n",
       "    }\n",
       "</style>\n",
       "<table border=\"1\" class=\"dataframe\">\n",
       "  <thead>\n",
       "    <tr style=\"text-align: right;\">\n",
       "      <th></th>\n",
       "      <th>genes.selected</th>\n",
       "      <th>genes.total</th>\n",
       "      <th>p.value</th>\n",
       "    </tr>\n",
       "  </thead>\n",
       "  <tbody>\n",
       "  </tbody>\n",
       "</table>\n",
       "</div>"
      ],
      "text/plain": [
       "Empty DataFrame\n",
       "Columns: [genes.selected, genes.total, p.value]\n",
       "Index: []"
      ]
     },
     "execution_count": 6,
     "metadata": {},
     "output_type": "execute_result"
    }
   ],
   "source": [
    "top_redness = list(data[\"top_redness\"])\n",
    "p_values_top_redness = over_rep(top_redness, gene_ids, GOterms)\n",
    "p_values_top_redness[p_values_top_redness[\"p.value\"] < 0.05]"
   ]
  },
  {
   "cell_type": "code",
   "execution_count": 7,
   "metadata": {},
   "outputs": [
    {
     "data": {
      "text/html": [
       "<div>\n",
       "<style scoped>\n",
       "    .dataframe tbody tr th:only-of-type {\n",
       "        vertical-align: middle;\n",
       "    }\n",
       "\n",
       "    .dataframe tbody tr th {\n",
       "        vertical-align: top;\n",
       "    }\n",
       "\n",
       "    .dataframe thead th {\n",
       "        text-align: right;\n",
       "    }\n",
       "</style>\n",
       "<table border=\"1\" class=\"dataframe\">\n",
       "  <thead>\n",
       "    <tr style=\"text-align: right;\">\n",
       "      <th></th>\n",
       "      <th>genes.selected</th>\n",
       "      <th>genes.total</th>\n",
       "      <th>p.value</th>\n",
       "    </tr>\n",
       "  </thead>\n",
       "  <tbody>\n",
       "    <tr>\n",
       "      <th>biological_process</th>\n",
       "      <td>173</td>\n",
       "      <td>1405</td>\n",
       "      <td>0.004948</td>\n",
       "    </tr>\n",
       "  </tbody>\n",
       "</table>\n",
       "</div>"
      ],
      "text/plain": [
       "                    genes.selected  genes.total   p.value\n",
       "biological_process             173         1405  0.004948"
      ]
     },
     "execution_count": 7,
     "metadata": {},
     "output_type": "execute_result"
    }
   ],
   "source": [
    "top_norm_redness = list(data[\"top_norm_redness\"])\n",
    "p_values_top_norm_redness = over_rep(top_norm_redness, gene_ids, GOterms)\n",
    "p_values_top_norm_redness[p_values_top_norm_redness[\"p.value\"] < 0.05]"
   ]
  },
  {
   "cell_type": "code",
   "execution_count": 8,
   "metadata": {},
   "outputs": [
    {
     "data": {
      "text/html": [
       "<div>\n",
       "<style scoped>\n",
       "    .dataframe tbody tr th:only-of-type {\n",
       "        vertical-align: middle;\n",
       "    }\n",
       "\n",
       "    .dataframe tbody tr th {\n",
       "        vertical-align: top;\n",
       "    }\n",
       "\n",
       "    .dataframe thead th {\n",
       "        text-align: right;\n",
       "    }\n",
       "</style>\n",
       "<table border=\"1\" class=\"dataframe\">\n",
       "  <thead>\n",
       "    <tr style=\"text-align: right;\">\n",
       "      <th></th>\n",
       "      <th>genes.selected</th>\n",
       "      <th>genes.total</th>\n",
       "      <th>p.value</th>\n",
       "    </tr>\n",
       "  </thead>\n",
       "  <tbody>\n",
       "    <tr>\n",
       "      <th>protein modification process</th>\n",
       "      <td>56</td>\n",
       "      <td>410</td>\n",
       "      <td>0.026396</td>\n",
       "    </tr>\n",
       "  </tbody>\n",
       "</table>\n",
       "</div>"
      ],
      "text/plain": [
       "                              genes.selected  genes.total   p.value\n",
       "protein modification process              56          410  0.026396"
      ]
     },
     "execution_count": 8,
     "metadata": {},
     "output_type": "execute_result"
    }
   ],
   "source": [
    "bottom_redness = list(data[\"bottom_redness\"])\n",
    "p_values_bottom_redness = over_rep(bottom_redness, gene_ids, GOterms)\n",
    "p_values_bottom_redness[p_values_bottom_redness[\"p.value\"] < 0.05]"
   ]
  },
  {
   "cell_type": "code",
   "execution_count": 9,
   "metadata": {},
   "outputs": [
    {
     "data": {
      "text/html": [
       "<div>\n",
       "<style scoped>\n",
       "    .dataframe tbody tr th:only-of-type {\n",
       "        vertical-align: middle;\n",
       "    }\n",
       "\n",
       "    .dataframe tbody tr th {\n",
       "        vertical-align: top;\n",
       "    }\n",
       "\n",
       "    .dataframe thead th {\n",
       "        text-align: right;\n",
       "    }\n",
       "</style>\n",
       "<table border=\"1\" class=\"dataframe\">\n",
       "  <thead>\n",
       "    <tr style=\"text-align: right;\">\n",
       "      <th></th>\n",
       "      <th>genes.selected</th>\n",
       "      <th>genes.total</th>\n",
       "      <th>p.value</th>\n",
       "    </tr>\n",
       "  </thead>\n",
       "  <tbody>\n",
       "    <tr>\n",
       "      <th>vitamin metabolic process</th>\n",
       "      <td>9</td>\n",
       "      <td>46</td>\n",
       "      <td>0.049671</td>\n",
       "    </tr>\n",
       "  </tbody>\n",
       "</table>\n",
       "</div>"
      ],
      "text/plain": [
       "                           genes.selected  genes.total   p.value\n",
       "vitamin metabolic process               9           46  0.049671"
      ]
     },
     "execution_count": 9,
     "metadata": {},
     "output_type": "execute_result"
    }
   ],
   "source": [
    "bottom_norm_redness = list(data[\"bottom_norm_redness\"])\n",
    "p_values_bottom_norm_redness = over_rep(bottom_norm_redness, gene_ids, GOterms)\n",
    "p_values_bottom_norm_redness[p_values_bottom_norm_redness[\"p.value\"] < 0.05]"
   ]
  },
  {
   "cell_type": "markdown",
   "metadata": {},
   "source": [
    "## 4. Save results"
   ]
  },
  {
   "cell_type": "code",
   "execution_count": 10,
   "metadata": {},
   "outputs": [],
   "source": [
    "# Export datasets:\n",
    "p_values_top_redness.to_csv(join(FINAL, \"p_values_top_redness.csv\"))\n",
    "p_values_top_norm_redness.to_csv(join(FINAL, \"p_values_top_norm_redness.csv\"))\n",
    "p_values_bottom_redness.to_csv(join(FINAL, \"p_values_bottom_redness.csv\"))\n",
    "p_values_bottom_norm_redness.to_csv(join(FINAL, \"p_values_bottom_norm_redness.csv\"))"
   ]
  }
 ],
 "metadata": {
  "kernelspec": {
   "display_name": "Python 3",
   "language": "python",
   "name": "python3"
  },
  "language_info": {
   "codemirror_mode": {
    "name": "ipython",
    "version": 3
   },
   "file_extension": ".py",
   "mimetype": "text/x-python",
   "name": "python",
   "nbconvert_exporter": "python",
   "pygments_lexer": "ipython3",
   "version": "3.7.5"
  }
 },
 "nbformat": 4,
 "nbformat_minor": 2
}
