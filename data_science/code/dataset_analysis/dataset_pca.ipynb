{
 "cells": [
  {
   "cell_type": "code",
   "execution_count": 1,
   "metadata": {},
   "outputs": [
    {
     "name": "stdout",
     "output_type": "stream",
     "text": [
      "Standard variables loaded, you are good to go!\n"
     ]
    }
   ],
   "source": [
    "import os\n",
    "from dotenv import load_dotenv, find_dotenv\n",
    "from os.path import join, dirname, basename, exists, isdir\n",
    "\n",
    "### Load environmental variables from the project root directory ###\n",
    "# find .env automagically by walking up directories until it's found\n",
    "dotenv_path = find_dotenv()\n",
    "\n",
    "# load up the entries as environment variables\n",
    "load_dotenv(dotenv_path)\n",
    "\n",
    "# now you can get the variables using their names\n",
    "\n",
    "# Check whether a network drive has been specified\n",
    "DATABASE = os.environ.get(\"NETWORK_URL\")\n",
    "if DATABASE == 'None':\n",
    "    pass\n",
    "else:\n",
    "    pass\n",
    "    #mount network drive here\n",
    "\n",
    "# set up directory pathsa\n",
    "CURRENT_DIR = os.getcwd()\n",
    "PROJ = dirname(dotenv_path) # project root directory\n",
    "\n",
    "DATA = join(PROJ, 'data') #data directory\n",
    "RAW_EXTERNAL = join(DATA, 'raw_external') # external data raw directory\n",
    "RAW_INTERNAL = join(DATA, 'raw_internal') # internal data raw directory\n",
    "INTERMEDIATE = join(DATA, 'intermediate') # intermediate data directory\n",
    "FINAL = join(DATA, 'final') # final data directory\n",
    "\n",
    "RESULTS = join(PROJ, 'results') # output directory\n",
    "FIGURES = join(RESULTS, 'figures') # figure output directory\n",
    "PICTURES = join(RESULTS, 'pictures') # picture output directory\n",
    "\n",
    "\n",
    "# make folders specific for certain data\n",
    "folder_name = ''\n",
    "if folder_name != '':\n",
    "    #make folders if they don't exist\n",
    "    if not exists(join(RAW_EXTERNAL, folder_name)):\n",
    "        os.makedirs(join(RAW_EXTERNAL, folder_name))\n",
    "\n",
    "    if not exists(join(INTERMEDIATE, folder_name)):\n",
    "        os.makedirs(join(INTERMEDIATE, folder_name))\n",
    "\n",
    "    if not exists(join(FINAL, folder_name)):\n",
    "        os.makedirs(join(FINAL, folder_name))\n",
    "\n",
    "\n",
    "print('Standard variables loaded, you are good to go!')"
   ]
  },
  {
   "cell_type": "code",
   "execution_count": 12,
   "metadata": {},
   "outputs": [],
   "source": [
    "import pandas as pd\n",
    "import numpy as np; np.random.seed(42)\n",
    "import matplotlib.pyplot as plt\n",
    "import seaborn as sns\n"
   ]
  },
  {
   "cell_type": "code",
   "execution_count": 16,
   "metadata": {},
   "outputs": [
    {
     "data": {
      "text/plain": [
       "Index(['lb', 'lb1', 'lb2', 'glucose', 'glucose1', 'glucose2', 'glycerolaa',\n",
       "       'glycerolaa1', 'glycerolaa2', 'acetate', 'acetate1', 'acetate2',\n",
       "       'fumarate', 'fumarate1', 'fumarate2', 'glucosamine', 'glucosamine1',\n",
       "       'glucosamine2', 'glycerol', 'glycerol1', 'glycerol2', 'pyruvate',\n",
       "       'pyruvate1', 'pyruvate2', 'chemostatµ05', 'chemostatµ051',\n",
       "       'chemostatµ052', 'chemostatµ035', 'chemostatµ0351', 'chemostatµ0352',\n",
       "       'chemostatµ020', 'chemostatµ0201', 'chemostatµ0202', 'chemostatµ012',\n",
       "       'chemostatµ0121', 'chemostatµ0122', 'stationary1day', 'stationary1day1',\n",
       "       'stationary1day2', 'stationary3days', 'stationary3days1',\n",
       "       'stationary3days2', 'glucose3', 'glucose4', 'glucose5', '50mmnacl',\n",
       "       '50mmnacl1', '50mmnacl2', '42c', '42c1', '42c2', 'ph6', 'ph61', 'ph62',\n",
       "       'xylose', 'xylose1', 'xylose2', 'mannose', 'mannose1', 'mannose2',\n",
       "       'galactose', 'galactose1', 'galactose2', 'succinate', 'succinate1',\n",
       "       'succinate2', 'fructose', 'fructose1', 'fructose2'],\n",
       "      dtype='object')"
      ]
     },
     "execution_count": 16,
     "metadata": {},
     "output_type": "execute_result"
    }
   ],
   "source": [
    "proteomics_dataset = f\"{INTERMEDIATE}/proteomics/proteomics_concentrations.csv\"\n",
    "pca_df_all_proteomics_and_pyr = pd.read_csv(proteomics_dataset, index_col=\"UP\")#.loc[df.index,:]\n",
    "principalDf.index"
   ]
  },
  {
   "cell_type": "code",
   "execution_count": 37,
   "metadata": {},
   "outputs": [
    {
     "name": "stderr",
     "output_type": "stream",
     "text": [
      "/Library/Python/3.7/site-packages/pandas/core/indexing.py:961 \u001b[1;31mFutureWarning\u001b[0m: \n",
      "Passing list-likes to .loc or [] with any missing label will raise\n",
      "KeyError in the future, you can use .reindex() as an alternative.\n",
      "\n",
      "See the documentation here:\n",
      "https://pandas.pydata.org/pandas-docs/stable/user_guide/indexing.html#deprecate-loc-reindex-listlike\n"
     ]
    },
    {
     "data": {
      "image/png": "[encoded data removed]",
      "text/plain": [
       "<Figure size 576x576 with 1 Axes>"
      ]
     },
     "metadata": {
      "needs_background": "light"
     },
     "output_type": "display_data"
    }
   ],
   "source": [
    "from sklearn.preprocessing import StandardScaler\n",
    "\n",
    "# standardize data for pca \n",
    "# #features = ['sepal length', 'sepal width', 'petal length', 'petal width']# Separating out the features\n",
    "pca_df_all_proteomics_and_pyr = pd.read_csv(proteomics_dataset, index_col=\"UP\")#.loc[df.index,:]\n",
    "\n",
    "#pca_df_all_proteomics_and_pyr['pyr_1'] = abs_usages_1\n",
    "pca_df_all_proteomics_and_pyr = pca_df_all_proteomics_and_pyr.T.dropna(axis='columns')\n",
    "x = pca_df_all_proteomics_and_pyr.values\n",
    "x = StandardScaler().fit_transform(x)\n",
    "\n",
    "# run pca\n",
    "from sklearn.decomposition import PCA\n",
    "pca = PCA(n_components=2)\n",
    "principalComponents = pca.fit_transform(x)\n",
    "principalDf = pd.DataFrame(data = principalComponents, columns = ['principal component 1', 'principal component 2'])\n",
    "principalDf.index = pca_df_all_proteomics_and_pyr.index\n",
    "\n",
    "\n",
    "fig = plt.figure(figsize = (8,8))\n",
    "ax = fig.add_subplot(1,1,1) \n",
    "ax.set_xlabel('Principal Component 1', fontsize = 15)\n",
    "ax.set_ylabel('Principal Component 2', fontsize = 15)\n",
    "ax.set_title('2 component PCA with zero values', fontsize = 20)\n",
    "\n",
    "# colors with the whole thing going on\n",
    "carbon_sources = [principalDf.index[i] for i in list(range(0,len(principalDf.index), 3))]\n",
    "carbon_sources = ['lb','glucose', 'glycerolaa', 'acetate', 'fumarate',\\\n",
    "                  'glucosamine', 'glycerol', 'pyruvate', 'xylose',\\\n",
    "                  'mannose', 'galactose', 'succinate', 'fructose']\n",
    "chemostats = ['chemostatµ05', 'chemostatµ035', 'chemostatµ020', 'chemostatµ012']\n",
    "stress = [ '50mmnacl', '42c', 'ph6']\n",
    "stationary = ['stationary1day', 'stationary3days']\n",
    "conditions = [carbon_sources, chemostats, stress, stationary]\n",
    "colors = [\"red\", \"green\", \"blue\", \"yellow\"]\n",
    "\n",
    "amount = len(principalDf.index)\n",
    "# for i in range(amount):\n",
    "#     c = [float(i)/float(amount), 0.0, float(amount-i)/float(amount)] #R,G,B\n",
    "#     ax.scatter(principalDf.loc[principalDf.index[i], 'principal component 1']\n",
    "#            , principalDf.loc[principalDf.index[i], 'principal component 2']\n",
    "#            , color = c \n",
    "#            , s = 50)\n",
    "# ax.scatter(principalDf.loc[\"pyruvate1\", 'principal component 1']\n",
    "#            , principalDf.loc[principalDf.index[i], 'principal component 2']\n",
    "#            , color = \"green\"\n",
    "#            , s = 50)\n",
    "j = 0\n",
    "for i in conditions:\n",
    "    cur_list = \n",
    "    i.extend([k + \"1\" for k in i])\n",
    "    i.extend([l + \"2\" for l in i])\n",
    "    ax.scatter(principalDf.loc[i, 'principal component 1']\n",
    "           , principalDf.loc[i, 'principal component 2']\n",
    "           , color = colors[j]\n",
    "           , s = 50)\n",
    "    j += 1\n",
    "\n",
    "\n",
    "#ax.legend(pca_df_all_proteomics_and_pyr.index)\n",
    "ax.grid()\n",
    "#plt.savefig(f'{FIGURES}/')\n"
   ]
  },
  {
   "cell_type": "code",
   "execution_count": 36,
   "metadata": {},
   "outputs": [
    {
     "data": {
      "text/plain": [
       "['chemostatµ05',\n",
       " 'chemostatµ035',\n",
       " 'chemostatµ020',\n",
       " 'chemostatµ012',\n",
       " 'chemostatµ051',\n",
       " 'chemostatµ0351',\n",
       " 'chemostatµ0201',\n",
       " 'chemostatµ0121',\n",
       " 'chemostatµ051',\n",
       " 'chemostatµ0351',\n",
       " 'chemostatµ0201',\n",
       " 'chemostatµ0121',\n",
       " 'chemostatµ0511',\n",
       " 'chemostatµ03511',\n",
       " 'chemostatµ02011',\n",
       " 'chemostatµ01211']"
      ]
     },
     "execution_count": 36,
     "metadata": {},
     "output_type": "execute_result"
    }
   ],
   "source": [
    "chemostats.extend()\n",
    "chemostats"
   ]
  }
 ],
 "metadata": {
  "kernelspec": {
   "display_name": "Python 3",
   "language": "python",
   "name": "python3"
  },
  "language_info": {
   "codemirror_mode": {
    "name": "ipython",
    "version": 3
   },
   "file_extension": ".py",
   "mimetype": "text/x-python",
   "name": "python",
   "nbconvert_exporter": "python",
   "pygments_lexer": "ipython3",
   "version": "3.7.3"
  }
 },
 "nbformat": 4,
 "nbformat_minor": 4
}
