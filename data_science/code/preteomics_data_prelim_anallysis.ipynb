{
 "cells": [
  {
   "cell_type": "code",
   "execution_count": 2,
   "metadata": {},
   "outputs": [],
   "source": [
    "import pandas as pd\n",
    "import numpy as np\n",
    "import re\n",
    "import matplotlib.pyplot as plt\n",
    "from sklearn import linear_model, datasets\n",
    "import plotly.graph_objects as go\n",
    "from plotly.subplots import make_subplots"
   ]
  },
  {
   "cell_type": "code",
   "execution_count": 4,
   "metadata": {},
   "outputs": [
    {
     "ename": "FileNotFoundError",
     "evalue": "[Errno 2] File b'../data/proteomics/protein_values.csv' does not exist: b'../data/proteomics/protein_values.csv'",
     "output_type": "error",
     "traceback": [
      "\u001b[0;31m---------------------------------------------------------------------------\u001b[0m",
      "\u001b[0;31mFileNotFoundError\u001b[0m                         Traceback (most recent call last)",
      "\u001b[0;32m<ipython-input-4-09cea43ad4ec>\u001b[0m in \u001b[0;36m<module>\u001b[0;34m\u001b[0m\n\u001b[1;32m      1\u001b[0m \u001b[0;31m# proteomics data\u001b[0m\u001b[0;34m\u001b[0m\u001b[0;34m\u001b[0m\u001b[0;34m\u001b[0m\u001b[0m\n\u001b[0;32m----> 2\u001b[0;31m \u001b[0mproteomics_data_raw\u001b[0m \u001b[0;34m=\u001b[0m \u001b[0mpd\u001b[0m\u001b[0;34m.\u001b[0m\u001b[0mread_csv\u001b[0m\u001b[0;34m(\u001b[0m\u001b[0;34m\"../data/proteomics/protein_values.csv\"\u001b[0m\u001b[0;34m)\u001b[0m\u001b[0;34m\u001b[0m\u001b[0;34m\u001b[0m\u001b[0m\n\u001b[0m\u001b[1;32m      3\u001b[0m \u001b[0;34m\u001b[0m\u001b[0m\n\u001b[1;32m      4\u001b[0m \u001b[0;31m# getting only the values for the second dataset\u001b[0m\u001b[0;34m\u001b[0m\u001b[0;34m\u001b[0m\u001b[0;34m\u001b[0m\u001b[0m\n\u001b[1;32m      5\u001b[0m \u001b[0mproteomics_data_raw_raw\u001b[0m \u001b[0;34m=\u001b[0m \u001b[0mpd\u001b[0m\u001b[0;34m.\u001b[0m\u001b[0mread_csv\u001b[0m\u001b[0;34m(\u001b[0m\u001b[0;34m\"../data/proteomics/protein_values.csv\"\u001b[0m\u001b[0;34m)\u001b[0m\u001b[0;34m\u001b[0m\u001b[0;34m\u001b[0m\u001b[0m\n",
      "\u001b[0;32m/Library/Python/3.7/site-packages/pandas/io/parsers.py\u001b[0m in \u001b[0;36mparser_f\u001b[0;34m(filepath_or_buffer, sep, delimiter, header, names, index_col, usecols, squeeze, prefix, mangle_dupe_cols, dtype, engine, converters, true_values, false_values, skipinitialspace, skiprows, skipfooter, nrows, na_values, keep_default_na, na_filter, verbose, skip_blank_lines, parse_dates, infer_datetime_format, keep_date_col, date_parser, dayfirst, cache_dates, iterator, chunksize, compression, thousands, decimal, lineterminator, quotechar, quoting, doublequote, escapechar, comment, encoding, dialect, error_bad_lines, warn_bad_lines, delim_whitespace, low_memory, memory_map, float_precision)\u001b[0m\n\u001b[1;32m    683\u001b[0m         )\n\u001b[1;32m    684\u001b[0m \u001b[0;34m\u001b[0m\u001b[0m\n\u001b[0;32m--> 685\u001b[0;31m         \u001b[0;32mreturn\u001b[0m \u001b[0m_read\u001b[0m\u001b[0;34m(\u001b[0m\u001b[0mfilepath_or_buffer\u001b[0m\u001b[0;34m,\u001b[0m \u001b[0mkwds\u001b[0m\u001b[0;34m)\u001b[0m\u001b[0;34m\u001b[0m\u001b[0;34m\u001b[0m\u001b[0m\n\u001b[0m\u001b[1;32m    686\u001b[0m \u001b[0;34m\u001b[0m\u001b[0m\n\u001b[1;32m    687\u001b[0m     \u001b[0mparser_f\u001b[0m\u001b[0;34m.\u001b[0m\u001b[0m__name__\u001b[0m \u001b[0;34m=\u001b[0m \u001b[0mname\u001b[0m\u001b[0;34m\u001b[0m\u001b[0;34m\u001b[0m\u001b[0m\n",
      "\u001b[0;32m/Library/Python/3.7/site-packages/pandas/io/parsers.py\u001b[0m in \u001b[0;36m_read\u001b[0;34m(filepath_or_buffer, kwds)\u001b[0m\n\u001b[1;32m    455\u001b[0m \u001b[0;34m\u001b[0m\u001b[0m\n\u001b[1;32m    456\u001b[0m     \u001b[0;31m# Create the parser.\u001b[0m\u001b[0;34m\u001b[0m\u001b[0;34m\u001b[0m\u001b[0;34m\u001b[0m\u001b[0m\n\u001b[0;32m--> 457\u001b[0;31m     \u001b[0mparser\u001b[0m \u001b[0;34m=\u001b[0m \u001b[0mTextFileReader\u001b[0m\u001b[0;34m(\u001b[0m\u001b[0mfp_or_buf\u001b[0m\u001b[0;34m,\u001b[0m \u001b[0;34m**\u001b[0m\u001b[0mkwds\u001b[0m\u001b[0;34m)\u001b[0m\u001b[0;34m\u001b[0m\u001b[0;34m\u001b[0m\u001b[0m\n\u001b[0m\u001b[1;32m    458\u001b[0m \u001b[0;34m\u001b[0m\u001b[0m\n\u001b[1;32m    459\u001b[0m     \u001b[0;32mif\u001b[0m \u001b[0mchunksize\u001b[0m \u001b[0;32mor\u001b[0m \u001b[0miterator\u001b[0m\u001b[0;34m:\u001b[0m\u001b[0;34m\u001b[0m\u001b[0;34m\u001b[0m\u001b[0m\n",
      "\u001b[0;32m/Library/Python/3.7/site-packages/pandas/io/parsers.py\u001b[0m in \u001b[0;36m__init__\u001b[0;34m(self, f, engine, **kwds)\u001b[0m\n\u001b[1;32m    893\u001b[0m             \u001b[0mself\u001b[0m\u001b[0;34m.\u001b[0m\u001b[0moptions\u001b[0m\u001b[0;34m[\u001b[0m\u001b[0;34m\"has_index_names\"\u001b[0m\u001b[0;34m]\u001b[0m \u001b[0;34m=\u001b[0m \u001b[0mkwds\u001b[0m\u001b[0;34m[\u001b[0m\u001b[0;34m\"has_index_names\"\u001b[0m\u001b[0;34m]\u001b[0m\u001b[0;34m\u001b[0m\u001b[0;34m\u001b[0m\u001b[0m\n\u001b[1;32m    894\u001b[0m \u001b[0;34m\u001b[0m\u001b[0m\n\u001b[0;32m--> 895\u001b[0;31m         \u001b[0mself\u001b[0m\u001b[0;34m.\u001b[0m\u001b[0m_make_engine\u001b[0m\u001b[0;34m(\u001b[0m\u001b[0mself\u001b[0m\u001b[0;34m.\u001b[0m\u001b[0mengine\u001b[0m\u001b[0;34m)\u001b[0m\u001b[0;34m\u001b[0m\u001b[0;34m\u001b[0m\u001b[0m\n\u001b[0m\u001b[1;32m    896\u001b[0m \u001b[0;34m\u001b[0m\u001b[0m\n\u001b[1;32m    897\u001b[0m     \u001b[0;32mdef\u001b[0m \u001b[0mclose\u001b[0m\u001b[0;34m(\u001b[0m\u001b[0mself\u001b[0m\u001b[0;34m)\u001b[0m\u001b[0;34m:\u001b[0m\u001b[0;34m\u001b[0m\u001b[0;34m\u001b[0m\u001b[0m\n",
      "\u001b[0;32m/Library/Python/3.7/site-packages/pandas/io/parsers.py\u001b[0m in \u001b[0;36m_make_engine\u001b[0;34m(self, engine)\u001b[0m\n\u001b[1;32m   1133\u001b[0m     \u001b[0;32mdef\u001b[0m \u001b[0m_make_engine\u001b[0m\u001b[0;34m(\u001b[0m\u001b[0mself\u001b[0m\u001b[0;34m,\u001b[0m \u001b[0mengine\u001b[0m\u001b[0;34m=\u001b[0m\u001b[0;34m\"c\"\u001b[0m\u001b[0;34m)\u001b[0m\u001b[0;34m:\u001b[0m\u001b[0;34m\u001b[0m\u001b[0;34m\u001b[0m\u001b[0m\n\u001b[1;32m   1134\u001b[0m         \u001b[0;32mif\u001b[0m \u001b[0mengine\u001b[0m \u001b[0;34m==\u001b[0m \u001b[0;34m\"c\"\u001b[0m\u001b[0;34m:\u001b[0m\u001b[0;34m\u001b[0m\u001b[0;34m\u001b[0m\u001b[0m\n\u001b[0;32m-> 1135\u001b[0;31m             \u001b[0mself\u001b[0m\u001b[0;34m.\u001b[0m\u001b[0m_engine\u001b[0m \u001b[0;34m=\u001b[0m \u001b[0mCParserWrapper\u001b[0m\u001b[0;34m(\u001b[0m\u001b[0mself\u001b[0m\u001b[0;34m.\u001b[0m\u001b[0mf\u001b[0m\u001b[0;34m,\u001b[0m \u001b[0;34m**\u001b[0m\u001b[0mself\u001b[0m\u001b[0;34m.\u001b[0m\u001b[0moptions\u001b[0m\u001b[0;34m)\u001b[0m\u001b[0;34m\u001b[0m\u001b[0;34m\u001b[0m\u001b[0m\n\u001b[0m\u001b[1;32m   1136\u001b[0m         \u001b[0;32melse\u001b[0m\u001b[0;34m:\u001b[0m\u001b[0;34m\u001b[0m\u001b[0;34m\u001b[0m\u001b[0m\n\u001b[1;32m   1137\u001b[0m             \u001b[0;32mif\u001b[0m \u001b[0mengine\u001b[0m \u001b[0;34m==\u001b[0m \u001b[0;34m\"python\"\u001b[0m\u001b[0;34m:\u001b[0m\u001b[0;34m\u001b[0m\u001b[0;34m\u001b[0m\u001b[0m\n",
      "\u001b[0;32m/Library/Python/3.7/site-packages/pandas/io/parsers.py\u001b[0m in \u001b[0;36m__init__\u001b[0;34m(self, src, **kwds)\u001b[0m\n\u001b[1;32m   1915\u001b[0m         \u001b[0mkwds\u001b[0m\u001b[0;34m[\u001b[0m\u001b[0;34m\"usecols\"\u001b[0m\u001b[0;34m]\u001b[0m \u001b[0;34m=\u001b[0m \u001b[0mself\u001b[0m\u001b[0;34m.\u001b[0m\u001b[0musecols\u001b[0m\u001b[0;34m\u001b[0m\u001b[0;34m\u001b[0m\u001b[0m\n\u001b[1;32m   1916\u001b[0m \u001b[0;34m\u001b[0m\u001b[0m\n\u001b[0;32m-> 1917\u001b[0;31m         \u001b[0mself\u001b[0m\u001b[0;34m.\u001b[0m\u001b[0m_reader\u001b[0m \u001b[0;34m=\u001b[0m \u001b[0mparsers\u001b[0m\u001b[0;34m.\u001b[0m\u001b[0mTextReader\u001b[0m\u001b[0;34m(\u001b[0m\u001b[0msrc\u001b[0m\u001b[0;34m,\u001b[0m \u001b[0;34m**\u001b[0m\u001b[0mkwds\u001b[0m\u001b[0;34m)\u001b[0m\u001b[0;34m\u001b[0m\u001b[0;34m\u001b[0m\u001b[0m\n\u001b[0m\u001b[1;32m   1918\u001b[0m         \u001b[0mself\u001b[0m\u001b[0;34m.\u001b[0m\u001b[0munnamed_cols\u001b[0m \u001b[0;34m=\u001b[0m \u001b[0mself\u001b[0m\u001b[0;34m.\u001b[0m\u001b[0m_reader\u001b[0m\u001b[0;34m.\u001b[0m\u001b[0munnamed_cols\u001b[0m\u001b[0;34m\u001b[0m\u001b[0;34m\u001b[0m\u001b[0m\n\u001b[1;32m   1919\u001b[0m \u001b[0;34m\u001b[0m\u001b[0m\n",
      "\u001b[0;32mpandas/_libs/parsers.pyx\u001b[0m in \u001b[0;36mpandas._libs.parsers.TextReader.__cinit__\u001b[0;34m()\u001b[0m\n",
      "\u001b[0;32mpandas/_libs/parsers.pyx\u001b[0m in \u001b[0;36mpandas._libs.parsers.TextReader._setup_parser_source\u001b[0;34m()\u001b[0m\n",
      "\u001b[0;31mFileNotFoundError\u001b[0m: [Errno 2] File b'../data/proteomics/protein_values.csv' does not exist: b'../data/proteomics/protein_values.csv'"
     ]
    }
   ],
   "source": [
    "\n",
    "# proteomics data \n",
    "proteomics_data_raw = pd.read_csv(\"../data/proteomics/protein_values.csv\")\n",
    "\n",
    "# getting only the values for the second dataset\n",
    "proteomics_data_raw_raw = pd.read_csv(\"../data/proteomics/protein_values.csv\")\n",
    "proteomics_data_raw = proteomics_data_raw[proteomics_data_raw[\"Dataset\"] == 2]\n",
    "\n",
    "# cell size data \n",
    "cell_size_data_raw = pd.read_csv(\"../data/proteomics/cell_volumes.csv\")\n",
    "cell_size_data = cell_size_data_raw[[\"Growth condition\" ,\"Total cell volume calculated (fl)1\"]]\n",
    "\n",
    "# cell growth data \n",
    "cell_growth_data_raw = pd.read_csv(\"../data/proteomics/growth_conditions.csv\")\n",
    "\n",
    "# molecular weight (g/mmol)\n",
    "mw = proteomics_data_raw[\"Molecular weight (Da)\"] / 1000\n",
    "\n",
    "# rename proteomics data \n",
    "proteomics_data_raw.columns = [re.sub(r'\\W+', '', \"_\".join(i.split()).lower()) for i in proteomics_data_raw.columns]\n",
    "\n",
    "\n",
    "# get additional information stored \n",
    "proteomics_data_additional_info = proteomics_data_raw.iloc[:, 0:5]\n",
    "negative_slice = list(map(lambda x: -1*x,list(range(1,4))))\n",
    "proteomics_data_additional_info = pd.concat([proteomics_data_additional_info, proteomics_data_raw.iloc[:, negative_slice]], axis=1)\n",
    "\n",
    "# get main information out of df\n",
    "start = proteomics_data_raw.columns.get_loc(\"glucose\")\n",
    "end = proteomics_data_raw.columns.get_loc(\"fructose\")\n",
    "proteomics_data = proteomics_data_raw.iloc[:, start:(end+1)]\n",
    "error_data = proteomics_data_raw.iloc[:, (start+22):(end+23)]\n",
    "\n"
   ]
  },
  {
   "cell_type": "code",
   "execution_count": 6,
   "metadata": {},
   "outputs": [
    {
     "data": {
      "text/plain": [
       "array([2, 1])"
      ]
     },
     "execution_count": 6,
     "metadata": {},
     "output_type": "execute_result"
    }
   ],
   "source": [
    "proteomics_data_raw_raw['Dataset'].unique()"
   ]
  },
  {
   "cell_type": "code",
   "execution_count": null,
   "metadata": {},
   "outputs": [],
   "source": []
  },
  {
   "cell_type": "code",
   "execution_count": null,
   "metadata": {},
   "outputs": [],
   "source": []
  },
  {
   "cell_type": "code",
   "execution_count": 7,
   "metadata": {},
   "outputs": [],
   "source": [
    "# replace names in errors and convert to n_molecules/cell\n",
    "replace_names = dict(zip(error_data.columns, [re.sub(r'.1$', '', i) for i in error_data.columns]))\n",
    "error_data.rename(columns=replace_names, inplace=True)\n",
    "error_data = proteomics_data / 100 * error_data\n",
    "replace_names = dict(zip(error_data.columns, [re.sub(r'$', '_uncertainty', i) for i in error_data.columns]))\n",
    "error_data.rename(columns=replace_names, inplace=True)"
   ]
  },
  {
   "cell_type": "code",
   "execution_count": 8,
   "metadata": {},
   "outputs": [
    {
     "data": {
      "text/html": [
       "<div>\n",
       "<style scoped>\n",
       "    .dataframe tbody tr th:only-of-type {\n",
       "        vertical-align: middle;\n",
       "    }\n",
       "\n",
       "    .dataframe tbody tr th {\n",
       "        vertical-align: top;\n",
       "    }\n",
       "\n",
       "    .dataframe thead th {\n",
       "        text-align: right;\n",
       "    }\n",
       "</style>\n",
       "<table border=\"1\" class=\"dataframe\">\n",
       "  <thead>\n",
       "    <tr style=\"text-align: right;\">\n",
       "      <th></th>\n",
       "      <th>uniprot_accession</th>\n",
       "      <th>description</th>\n",
       "      <th>gene</th>\n",
       "      <th>peptidesusedforquantitation</th>\n",
       "      <th>confidencescore</th>\n",
       "      <th>unnamed_78</th>\n",
       "      <th>annotated_functional_cog_class</th>\n",
       "      <th>annotated_functional_cog_group_description</th>\n",
       "    </tr>\n",
       "  </thead>\n",
       "  <tbody>\n",
       "    <tr>\n",
       "      <th>0</th>\n",
       "      <td>P0A8T7</td>\n",
       "      <td>DNA-directed RNA polymerase subunit beta' OS=E...</td>\n",
       "      <td>rpoC</td>\n",
       "      <td>91</td>\n",
       "      <td>6045.53</td>\n",
       "      <td>NaN</td>\n",
       "      <td>INFORMATION STORAGE AND PROCESSING</td>\n",
       "      <td>Transcription</td>\n",
       "    </tr>\n",
       "    <tr>\n",
       "      <th>1</th>\n",
       "      <td>P0A8V2</td>\n",
       "      <td>DNA-directed RNA polymerase subunit beta OS=Es...</td>\n",
       "      <td>rpoB</td>\n",
       "      <td>89</td>\n",
       "      <td>5061.29</td>\n",
       "      <td>NaN</td>\n",
       "      <td>INFORMATION STORAGE AND PROCESSING</td>\n",
       "      <td>Transcription</td>\n",
       "    </tr>\n",
       "    <tr>\n",
       "      <th>2</th>\n",
       "      <td>P36683</td>\n",
       "      <td>Aconitate hydratase 2 OS=Escherichia coli (str...</td>\n",
       "      <td>acnB</td>\n",
       "      <td>67</td>\n",
       "      <td>4505.67</td>\n",
       "      <td>NaN</td>\n",
       "      <td>METABOLISM</td>\n",
       "      <td>Energy production and conversion</td>\n",
       "    </tr>\n",
       "    <tr>\n",
       "      <th>3</th>\n",
       "      <td>P15254</td>\n",
       "      <td>Phosphoribosylformylglycinamidine synthase OS=...</td>\n",
       "      <td>purL</td>\n",
       "      <td>65</td>\n",
       "      <td>4277.71</td>\n",
       "      <td>NaN</td>\n",
       "      <td>METABOLISM</td>\n",
       "      <td>Nucleotide transport and metabolism</td>\n",
       "    </tr>\n",
       "    <tr>\n",
       "      <th>4</th>\n",
       "      <td>P09831</td>\n",
       "      <td>Glutamate synthase [NADPH] large chain OS=Esch...</td>\n",
       "      <td>gltB</td>\n",
       "      <td>64</td>\n",
       "      <td>4111.74</td>\n",
       "      <td>NaN</td>\n",
       "      <td>METABOLISM</td>\n",
       "      <td>Amino acid transport and metabolism</td>\n",
       "    </tr>\n",
       "    <tr>\n",
       "      <th>...</th>\n",
       "      <td>...</td>\n",
       "      <td>...</td>\n",
       "      <td>...</td>\n",
       "      <td>...</td>\n",
       "      <td>...</td>\n",
       "      <td>...</td>\n",
       "      <td>...</td>\n",
       "      <td>...</td>\n",
       "    </tr>\n",
       "    <tr>\n",
       "      <th>2352</th>\n",
       "      <td>P0A890</td>\n",
       "      <td>Sulfurtransferase tusA OS=Escherichia coli (st...</td>\n",
       "      <td>tusA</td>\n",
       "      <td>1</td>\n",
       "      <td>125.85</td>\n",
       "      <td>NaN</td>\n",
       "      <td>NaN</td>\n",
       "      <td>NaN</td>\n",
       "    </tr>\n",
       "    <tr>\n",
       "      <th>2353</th>\n",
       "      <td>P45531</td>\n",
       "      <td>Protein tusC OS=Escherichia coli (strain K12) ...</td>\n",
       "      <td>tusC</td>\n",
       "      <td>1</td>\n",
       "      <td>46.56</td>\n",
       "      <td>NaN</td>\n",
       "      <td>NaN</td>\n",
       "      <td>NaN</td>\n",
       "    </tr>\n",
       "    <tr>\n",
       "      <th>2355</th>\n",
       "      <td>P0AC78</td>\n",
       "      <td>Undecaprenyl-phosphate alpha-N-acetylglucosami...</td>\n",
       "      <td>wecA</td>\n",
       "      <td>1</td>\n",
       "      <td>37.97</td>\n",
       "      <td>NaN</td>\n",
       "      <td>NaN</td>\n",
       "      <td>NaN</td>\n",
       "    </tr>\n",
       "    <tr>\n",
       "      <th>2356</th>\n",
       "      <td>P76164</td>\n",
       "      <td>Uncharacterized protein ydfW in Qin prophage r...</td>\n",
       "      <td>ydfW</td>\n",
       "      <td>1</td>\n",
       "      <td>39.51</td>\n",
       "      <td>NaN</td>\n",
       "      <td>NaN</td>\n",
       "      <td>NaN</td>\n",
       "    </tr>\n",
       "    <tr>\n",
       "      <th>2357</th>\n",
       "      <td>P38506</td>\n",
       "      <td>Protein Xni OS=Escherichia coli (strain K12) G...</td>\n",
       "      <td>ygdG</td>\n",
       "      <td>1</td>\n",
       "      <td>30.22</td>\n",
       "      <td>NaN</td>\n",
       "      <td>NaN</td>\n",
       "      <td>NaN</td>\n",
       "    </tr>\n",
       "  </tbody>\n",
       "</table>\n",
       "<p>2058 rows × 8 columns</p>\n",
       "</div>"
      ],
      "text/plain": [
       "     uniprot_accession                                        description  \\\n",
       "0               P0A8T7  DNA-directed RNA polymerase subunit beta' OS=E...   \n",
       "1               P0A8V2  DNA-directed RNA polymerase subunit beta OS=Es...   \n",
       "2               P36683  Aconitate hydratase 2 OS=Escherichia coli (str...   \n",
       "3               P15254  Phosphoribosylformylglycinamidine synthase OS=...   \n",
       "4               P09831  Glutamate synthase [NADPH] large chain OS=Esch...   \n",
       "...                ...                                                ...   \n",
       "2352            P0A890  Sulfurtransferase tusA OS=Escherichia coli (st...   \n",
       "2353            P45531  Protein tusC OS=Escherichia coli (strain K12) ...   \n",
       "2355            P0AC78  Undecaprenyl-phosphate alpha-N-acetylglucosami...   \n",
       "2356            P76164  Uncharacterized protein ydfW in Qin prophage r...   \n",
       "2357            P38506  Protein Xni OS=Escherichia coli (strain K12) G...   \n",
       "\n",
       "      gene  peptidesusedforquantitation  confidencescore  unnamed_78  \\\n",
       "0     rpoC                           91          6045.53         NaN   \n",
       "1     rpoB                           89          5061.29         NaN   \n",
       "2     acnB                           67          4505.67         NaN   \n",
       "3     purL                           65          4277.71         NaN   \n",
       "4     gltB                           64          4111.74         NaN   \n",
       "...    ...                          ...              ...         ...   \n",
       "2352  tusA                            1           125.85         NaN   \n",
       "2353  tusC                            1            46.56         NaN   \n",
       "2355  wecA                            1            37.97         NaN   \n",
       "2356  ydfW                            1            39.51         NaN   \n",
       "2357  ygdG                            1            30.22         NaN   \n",
       "\n",
       "          annotated_functional_cog_class  \\\n",
       "0     INFORMATION STORAGE AND PROCESSING   \n",
       "1     INFORMATION STORAGE AND PROCESSING   \n",
       "2                             METABOLISM   \n",
       "3                             METABOLISM   \n",
       "4                             METABOLISM   \n",
       "...                                  ...   \n",
       "2352                                 NaN   \n",
       "2353                                 NaN   \n",
       "2355                                 NaN   \n",
       "2356                                 NaN   \n",
       "2357                                 NaN   \n",
       "\n",
       "     annotated_functional_cog_group_description  \n",
       "0                                 Transcription  \n",
       "1                                 Transcription  \n",
       "2              Energy production and conversion  \n",
       "3           Nucleotide transport and metabolism  \n",
       "4           Amino acid transport and metabolism  \n",
       "...                                         ...  \n",
       "2352                                        NaN  \n",
       "2353                                        NaN  \n",
       "2355                                        NaN  \n",
       "2356                                        NaN  \n",
       "2357                                        NaN  \n",
       "\n",
       "[2058 rows x 8 columns]"
      ]
     },
     "execution_count": 8,
     "metadata": {},
     "output_type": "execute_result"
    }
   ],
   "source": [
    "# protein counts to moles\n",
    "proteomics_data = proteomics_data / 6.022e+23 * 1000\n",
    "water_content = 0.3\n",
    "cell_density = 1.105e-12\n",
    "proteomics_data = proteomics_data / cell_density / water_content\n",
    "proteomics_data_additional_info"
   ]
  },
  {
   "cell_type": "code",
   "execution_count": 27,
   "metadata": {},
   "outputs": [],
   "source": [
    "# putting all the necessary data together for later export \n",
    "proteomics_data_combined = pd.concat([proteomics_data_raw[\"dataset\"], proteomics_data_additional_info['uniprot_accession'],proteomics_data, error_data], axis=1)\n",
    "\n",
    "# putting proteomics data together with cog for later plotting \n",
    "\n",
    "proteomics_data_to_plot = pd.concat([proteomics_data, proteomics_data_raw[\"annotated_functional_cog_group_description\"]],axis=1)\n",
    "\n",
    "# renaming for easier access \n",
    "#proteomics_data_combined.columns = [re.sub(r'\\W+', '', \"_\".join(i.split()).lower()) for i in proteomics_data_combined.columns]\n",
    "#proteomics_data.columns = [re.sub(r'\\W+', '', \"_\".join(i.split()).lower()) for i in proteomics_data.columns]\n",
    "\n"
   ]
  },
  {
   "cell_type": "code",
   "execution_count": 28,
   "metadata": {},
   "outputs": [
    {
     "name": "stderr",
     "output_type": "stream",
     "text": [
      "/Library/Python/3.7/site-packages/ipykernel_launcher.py:5: SettingWithCopyWarning:\n",
      "\n",
      "\n",
      "A value is trying to be set on a copy of a slice from a DataFrame.\n",
      "Try using .loc[row_indexer,col_indexer] = value instead\n",
      "\n",
      "See the caveats in the documentation: http://pandas.pydata.org/pandas-docs/stable/user_guide/indexing.html#returning-a-view-versus-a-copy\n",
      "\n"
     ]
    }
   ],
   "source": [
    "# cell growth data names to the same convention as the headers on the rest of the data as well as only from the common strain\n",
    "cell_growth_data = cell_growth_data_raw[cell_growth_data_raw[\"Strain\"] == \"BW25113\"]\n",
    "\n",
    "new_rows = [re.sub(r'\\W+', '', \"_\".join(i.split()).lower()).replace(\"glucose3\", \"glucose\") for i in cell_growth_data[\"Growth condition\"]]\n",
    "cell_growth_data[\"Growth condition\"] = new_rows"
   ]
  },
  {
   "cell_type": "code",
   "execution_count": 29,
   "metadata": {},
   "outputs": [],
   "source": [
    "# getting all data necessary for future work into one place\n",
    "data = cell_size_data['Total cell volume calculated (fl)1'] * water_content * cell_density * 1e12\n",
    "names = cell_size_data['Growth condition']\n"
   ]
  },
  {
   "cell_type": "code",
   "execution_count": 30,
   "metadata": {},
   "outputs": [
    {
     "data": {
      "text/html": [
       "<div>\n",
       "<style scoped>\n",
       "    .dataframe tbody tr th:only-of-type {\n",
       "        vertical-align: middle;\n",
       "    }\n",
       "\n",
       "    .dataframe tbody tr th {\n",
       "        vertical-align: top;\n",
       "    }\n",
       "\n",
       "    .dataframe thead th {\n",
       "        text-align: right;\n",
       "    }\n",
       "</style>\n",
       "<table border=\"1\" class=\"dataframe\">\n",
       "  <thead>\n",
       "    <tr style=\"text-align: right;\">\n",
       "      <th></th>\n",
       "      <th>uniprot_accession</th>\n",
       "      <th>description</th>\n",
       "      <th>gene</th>\n",
       "      <th>peptidesusedforquantitation</th>\n",
       "      <th>confidencescore</th>\n",
       "      <th>molecular_weight_da</th>\n",
       "      <th>dataset</th>\n",
       "      <th>glucose</th>\n",
       "      <th>lb</th>\n",
       "      <th>glycerol__aa</th>\n",
       "      <th>...</th>\n",
       "      <th>mannose2</th>\n",
       "      <th>galactose_2</th>\n",
       "      <th>succinate2</th>\n",
       "      <th>fructose2</th>\n",
       "      <th>gene1</th>\n",
       "      <th>bnumber</th>\n",
       "      <th>annotated_functional_cog_groups_letter</th>\n",
       "      <th>annotated_functional_cog_group_description</th>\n",
       "      <th>annotated_functional_cog_class</th>\n",
       "      <th>unnamed_78</th>\n",
       "    </tr>\n",
       "  </thead>\n",
       "  <tbody>\n",
       "    <tr>\n",
       "      <th>999</th>\n",
       "      <td>P63284</td>\n",
       "      <td>Chaperone protein ClpB OS=Escherichia coli (st...</td>\n",
       "      <td>clpB</td>\n",
       "      <td>6</td>\n",
       "      <td>3517.57</td>\n",
       "      <td>95507.92428</td>\n",
       "      <td>2</td>\n",
       "      <td>119</td>\n",
       "      <td>423</td>\n",
       "      <td>156.0</td>\n",
       "      <td>...</td>\n",
       "      <td>9.69</td>\n",
       "      <td>11.13</td>\n",
       "      <td>10.64</td>\n",
       "      <td>1.75</td>\n",
       "      <td>clpB</td>\n",
       "      <td>b2592</td>\n",
       "      <td>O</td>\n",
       "      <td>Posttranslational modification, protein turnov...</td>\n",
       "      <td>CELLULAR PROCESSES AND SIGNALING</td>\n",
       "      <td>NaN</td>\n",
       "    </tr>\n",
       "    <tr>\n",
       "      <th>2123</th>\n",
       "      <td>P63284</td>\n",
       "      <td>Isoform ClpB-3 of Chaperone protein ClpB OS=Es...</td>\n",
       "      <td>clpB</td>\n",
       "      <td>1</td>\n",
       "      <td>3038.05</td>\n",
       "      <td>95507.92428</td>\n",
       "      <td>2</td>\n",
       "      <td>0</td>\n",
       "      <td>1</td>\n",
       "      <td>0.0</td>\n",
       "      <td>...</td>\n",
       "      <td>9.69</td>\n",
       "      <td>11.13</td>\n",
       "      <td>10.64</td>\n",
       "      <td>1.75</td>\n",
       "      <td>clpB</td>\n",
       "      <td>b2592</td>\n",
       "      <td>O</td>\n",
       "      <td>Posttranslational modification, protein turnov...</td>\n",
       "      <td>CELLULAR PROCESSES AND SIGNALING</td>\n",
       "      <td>NaN</td>\n",
       "    </tr>\n",
       "  </tbody>\n",
       "</table>\n",
       "<p>2 rows × 79 columns</p>\n",
       "</div>"
      ],
      "text/plain": [
       "     uniprot_accession                                        description  \\\n",
       "999             P63284  Chaperone protein ClpB OS=Escherichia coli (st...   \n",
       "2123            P63284  Isoform ClpB-3 of Chaperone protein ClpB OS=Es...   \n",
       "\n",
       "      gene  peptidesusedforquantitation  confidencescore  molecular_weight_da  \\\n",
       "999   clpB                            6          3517.57          95507.92428   \n",
       "2123  clpB                            1          3038.05          95507.92428   \n",
       "\n",
       "      dataset  glucose   lb  glycerol__aa  ...  mannose2  galactose_2  \\\n",
       "999         2      119  423         156.0  ...      9.69        11.13   \n",
       "2123        2        0    1           0.0  ...      9.69        11.13   \n",
       "\n",
       "      succinate2  fructose2  gene1  bnumber  \\\n",
       "999        10.64       1.75   clpB    b2592   \n",
       "2123       10.64       1.75   clpB    b2592   \n",
       "\n",
       "      annotated_functional_cog_groups_letter  \\\n",
       "999                                        O   \n",
       "2123                                       O   \n",
       "\n",
       "             annotated_functional_cog_group_description  \\\n",
       "999   Posttranslational modification, protein turnov...   \n",
       "2123  Posttranslational modification, protein turnov...   \n",
       "\n",
       "        annotated_functional_cog_class  unnamed_78  \n",
       "999   CELLULAR PROCESSES AND SIGNALING         NaN  \n",
       "2123  CELLULAR PROCESSES AND SIGNALING         NaN  \n",
       "\n",
       "[2 rows x 79 columns]"
      ]
     },
     "execution_count": 30,
     "metadata": {},
     "output_type": "execute_result"
    }
   ],
   "source": [
    "proteomics_data_raw[proteomics_data_raw[\"uniprot_accession\"] == \"P63284\"]"
   ]
  },
  {
   "cell_type": "code",
   "execution_count": 31,
   "metadata": {},
   "outputs": [],
   "source": [
    "# saving proteomics data as well as growth data \n",
    "proteomics_data_combined.to_csv(\"../data/proteomics/proteomics_ecoli_combined.csv\")\n",
    "cell_growth_data.to_csv(\"../data/proteomics/proteomics_ecoli_growth_data_corrected_names.csv\")\n",
    "\n",
    "# generate tsvs for Proteomap\n",
    "# first translate the uniprot identifiers to eco\n",
    "translation_dict = pd.read_csv(\"../data/uniprot_to_eco.tsv\", sep=\"\\t\")\n",
    "translation_dict[\"uniprot eco\"] = translation_dict[\"uniprot eco\"].str.replace(\"eco:\", \"\")\n",
    "translation_dict.index = translation_dict.index.str.replace(\"up:\", \"\")\n",
    "translation_dict = translation_dict.to_dict()\n",
    "\n",
    "# \n",
    "proteomics_data_raw = proteomics_data_raw[proteomics_data_raw[\"uniprot_accession\"] != \"P63284\"]\n",
    "proteomaps_data_raw = proteomics_data_raw\n",
    "proteomaps_data_raw[\"uniprot_accession\"] = [translation_dict[i] if i in translation_dict else i for i in proteomaps_data_raw[\"uniprot_accession\"]]\n",
    "for i in proteomaps_data_raw.columns[proteomaps_data_raw.columns.get_loc(\"glucose\"):proteomaps_data_raw.columns.get_loc(\"fructose\")]:\n",
    "    proteomaps_data = proteomaps_data_raw[['uniprot_accession', i]][proteomaps_data_raw[\"dataset\"] == 2]\n",
    "    proteomaps_data.to_csv(\"../data/proteomics/proteomaps_{}.csv\".format(i), sep='\\t', index=False)\n",
    "    \n"
   ]
  },
  {
   "cell_type": "code",
   "execution_count": 32,
   "metadata": {},
   "outputs": [],
   "source": [
    "translation_dict = pd.read_csv(\"../data/uniprot_to_eco.tsv\", sep=\"\\t\")\n",
    "translation_dict[\"uniprot eco\"] = translation_dict[\"uniprot eco\"].str.replace(\"eco:\", \"\")\n",
    "translation_dict.index = translation_dict.index.str.replace(\"up:\", \"\")\n",
    "translation_dict = translation_dict.to_dict()"
   ]
  },
  {
   "cell_type": "code",
   "execution_count": 33,
   "metadata": {},
   "outputs": [
    {
     "data": {
      "text/html": [
       "<div>\n",
       "<style scoped>\n",
       "    .dataframe tbody tr th:only-of-type {\n",
       "        vertical-align: middle;\n",
       "    }\n",
       "\n",
       "    .dataframe tbody tr th {\n",
       "        vertical-align: top;\n",
       "    }\n",
       "\n",
       "    .dataframe thead th {\n",
       "        text-align: right;\n",
       "    }\n",
       "</style>\n",
       "<table border=\"1\" class=\"dataframe\">\n",
       "  <thead>\n",
       "    <tr style=\"text-align: right;\">\n",
       "      <th></th>\n",
       "      <th>glucose</th>\n",
       "      <th>lb</th>\n",
       "      <th>glycerol__aa</th>\n",
       "      <th>acetate</th>\n",
       "      <th>fumarate</th>\n",
       "      <th>glucosamine</th>\n",
       "      <th>glycerol</th>\n",
       "      <th>pyruvate</th>\n",
       "      <th>chemostat_µ05</th>\n",
       "      <th>chemostat_µ035</th>\n",
       "      <th>...</th>\n",
       "      <th>stationary_phase_3_days</th>\n",
       "      <th>osmoticstress_glucose</th>\n",
       "      <th>42c_glucose</th>\n",
       "      <th>ph6_glucose</th>\n",
       "      <th>xylose</th>\n",
       "      <th>mannose</th>\n",
       "      <th>galactose</th>\n",
       "      <th>succinate</th>\n",
       "      <th>fructose</th>\n",
       "      <th>annotated_functional_cog_group_description</th>\n",
       "    </tr>\n",
       "  </thead>\n",
       "  <tbody>\n",
       "    <tr>\n",
       "      <th>0</th>\n",
       "      <td>1.392080e-05</td>\n",
       "      <td>3.588652e-05</td>\n",
       "      <td>2.255681e-05</td>\n",
       "      <td>1.092024e-05</td>\n",
       "      <td>1.224269e-05</td>\n",
       "      <td>1.661079e-05</td>\n",
       "      <td>1.425141e-05</td>\n",
       "      <td>1.367535e-05</td>\n",
       "      <td>2.394438e-05</td>\n",
       "      <td>1.953621e-05</td>\n",
       "      <td>...</td>\n",
       "      <td>9.552706e-06</td>\n",
       "      <td>1.126087e-05</td>\n",
       "      <td>1.996200e-05</td>\n",
       "      <td>1.672600e-05</td>\n",
       "      <td>1.819372e-05</td>\n",
       "      <td>1.703658e-05</td>\n",
       "      <td>1.131096e-05</td>\n",
       "      <td>1.384566e-05</td>\n",
       "      <td>2.262694e-05</td>\n",
       "      <td>Transcription</td>\n",
       "    </tr>\n",
       "    <tr>\n",
       "      <th>1</th>\n",
       "      <td>1.982174e-05</td>\n",
       "      <td>4.452252e-05</td>\n",
       "      <td>2.604327e-05</td>\n",
       "      <td>1.332971e-05</td>\n",
       "      <td>1.602470e-05</td>\n",
       "      <td>2.003213e-05</td>\n",
       "      <td>1.877981e-05</td>\n",
       "      <td>1.860448e-05</td>\n",
       "      <td>2.627370e-05</td>\n",
       "      <td>2.198074e-05</td>\n",
       "      <td>...</td>\n",
       "      <td>1.115568e-05</td>\n",
       "      <td>1.630021e-05</td>\n",
       "      <td>2.466071e-05</td>\n",
       "      <td>2.019744e-05</td>\n",
       "      <td>2.222620e-05</td>\n",
       "      <td>2.075347e-05</td>\n",
       "      <td>1.412618e-05</td>\n",
       "      <td>1.931079e-05</td>\n",
       "      <td>2.639392e-05</td>\n",
       "      <td>Transcription</td>\n",
       "    </tr>\n",
       "    <tr>\n",
       "      <th>2</th>\n",
       "      <td>3.805053e-05</td>\n",
       "      <td>8.315413e-05</td>\n",
       "      <td>8.790293e-05</td>\n",
       "      <td>1.144321e-04</td>\n",
       "      <td>9.763597e-05</td>\n",
       "      <td>6.889269e-05</td>\n",
       "      <td>5.406020e-05</td>\n",
       "      <td>8.212722e-05</td>\n",
       "      <td>7.881108e-05</td>\n",
       "      <td>1.014931e-04</td>\n",
       "      <td>...</td>\n",
       "      <td>3.787019e-06</td>\n",
       "      <td>1.410114e-05</td>\n",
       "      <td>2.425496e-05</td>\n",
       "      <td>2.328816e-05</td>\n",
       "      <td>3.354718e-05</td>\n",
       "      <td>8.273836e-05</td>\n",
       "      <td>6.449454e-05</td>\n",
       "      <td>9.791649e-05</td>\n",
       "      <td>4.399154e-05</td>\n",
       "      <td>Energy production and conversion</td>\n",
       "    </tr>\n",
       "    <tr>\n",
       "      <th>3</th>\n",
       "      <td>1.230280e-05</td>\n",
       "      <td>4.112623e-06</td>\n",
       "      <td>1.171672e-05</td>\n",
       "      <td>7.203351e-06</td>\n",
       "      <td>1.037423e-05</td>\n",
       "      <td>9.813189e-06</td>\n",
       "      <td>1.035920e-05</td>\n",
       "      <td>1.356514e-05</td>\n",
       "      <td>1.144622e-05</td>\n",
       "      <td>8.666063e-06</td>\n",
       "      <td>...</td>\n",
       "      <td>3.681824e-06</td>\n",
       "      <td>6.602237e-06</td>\n",
       "      <td>9.442502e-06</td>\n",
       "      <td>8.555858e-06</td>\n",
       "      <td>8.620979e-06</td>\n",
       "      <td>8.836378e-06</td>\n",
       "      <td>7.864577e-06</td>\n",
       "      <td>9.582762e-06</td>\n",
       "      <td>1.205234e-05</td>\n",
       "      <td>Nucleotide transport and metabolism</td>\n",
       "    </tr>\n",
       "    <tr>\n",
       "      <th>4</th>\n",
       "      <td>1.432154e-05</td>\n",
       "      <td>3.025608e-06</td>\n",
       "      <td>3.266054e-06</td>\n",
       "      <td>6.827655e-06</td>\n",
       "      <td>6.416894e-06</td>\n",
       "      <td>9.903356e-06</td>\n",
       "      <td>1.104046e-05</td>\n",
       "      <td>8.470700e-06</td>\n",
       "      <td>1.162655e-05</td>\n",
       "      <td>9.813189e-06</td>\n",
       "      <td>...</td>\n",
       "      <td>9.166991e-07</td>\n",
       "      <td>4.177743e-06</td>\n",
       "      <td>1.492266e-05</td>\n",
       "      <td>1.364028e-05</td>\n",
       "      <td>1.250317e-05</td>\n",
       "      <td>1.041430e-05</td>\n",
       "      <td>7.002980e-06</td>\n",
       "      <td>7.779419e-06</td>\n",
       "      <td>1.932582e-05</td>\n",
       "      <td>Amino acid transport and metabolism</td>\n",
       "    </tr>\n",
       "    <tr>\n",
       "      <th>...</th>\n",
       "      <td>...</td>\n",
       "      <td>...</td>\n",
       "      <td>...</td>\n",
       "      <td>...</td>\n",
       "      <td>...</td>\n",
       "      <td>...</td>\n",
       "      <td>...</td>\n",
       "      <td>...</td>\n",
       "      <td>...</td>\n",
       "      <td>...</td>\n",
       "      <td>...</td>\n",
       "      <td>...</td>\n",
       "      <td>...</td>\n",
       "      <td>...</td>\n",
       "      <td>...</td>\n",
       "      <td>...</td>\n",
       "      <td>...</td>\n",
       "      <td>...</td>\n",
       "      <td>...</td>\n",
       "      <td>...</td>\n",
       "      <td>...</td>\n",
       "    </tr>\n",
       "    <tr>\n",
       "      <th>2352</th>\n",
       "      <td>1.372544e-06</td>\n",
       "      <td>1.848426e-06</td>\n",
       "      <td>1.217256e-06</td>\n",
       "      <td>1.462711e-06</td>\n",
       "      <td>1.572915e-06</td>\n",
       "      <td>1.542860e-06</td>\n",
       "      <td>1.282377e-06</td>\n",
       "      <td>1.532841e-06</td>\n",
       "      <td>1.432655e-06</td>\n",
       "      <td>1.337479e-06</td>\n",
       "      <td>...</td>\n",
       "      <td>8.215227e-07</td>\n",
       "      <td>1.377553e-06</td>\n",
       "      <td>1.758259e-06</td>\n",
       "      <td>1.572915e-06</td>\n",
       "      <td>1.838407e-06</td>\n",
       "      <td>1.808352e-06</td>\n",
       "      <td>1.537850e-06</td>\n",
       "      <td>2.133955e-06</td>\n",
       "      <td>1.848426e-06</td>\n",
       "      <td>NaN</td>\n",
       "    </tr>\n",
       "    <tr>\n",
       "      <th>2353</th>\n",
       "      <td>1.051950e-07</td>\n",
       "      <td>1.152135e-07</td>\n",
       "      <td>1.452693e-07</td>\n",
       "      <td>1.001857e-07</td>\n",
       "      <td>1.102043e-07</td>\n",
       "      <td>1.402600e-07</td>\n",
       "      <td>8.014856e-08</td>\n",
       "      <td>1.552878e-07</td>\n",
       "      <td>9.517641e-08</td>\n",
       "      <td>7.513927e-08</td>\n",
       "      <td>...</td>\n",
       "      <td>1.051950e-07</td>\n",
       "      <td>1.853435e-07</td>\n",
       "      <td>2.905385e-07</td>\n",
       "      <td>2.204085e-07</td>\n",
       "      <td>1.853435e-07</td>\n",
       "      <td>1.001857e-07</td>\n",
       "      <td>1.051950e-07</td>\n",
       "      <td>9.517641e-08</td>\n",
       "      <td>1.152135e-07</td>\n",
       "      <td>NaN</td>\n",
       "    </tr>\n",
       "    <tr>\n",
       "      <th>2355</th>\n",
       "      <td>5.009285e-09</td>\n",
       "      <td>0.000000e+00</td>\n",
       "      <td>0.000000e+00</td>\n",
       "      <td>2.003714e-08</td>\n",
       "      <td>1.502785e-08</td>\n",
       "      <td>1.001857e-08</td>\n",
       "      <td>2.003714e-08</td>\n",
       "      <td>3.005571e-08</td>\n",
       "      <td>4.508356e-08</td>\n",
       "      <td>2.003714e-08</td>\n",
       "      <td>...</td>\n",
       "      <td>0.000000e+00</td>\n",
       "      <td>0.000000e+00</td>\n",
       "      <td>0.000000e+00</td>\n",
       "      <td>0.000000e+00</td>\n",
       "      <td>0.000000e+00</td>\n",
       "      <td>0.000000e+00</td>\n",
       "      <td>0.000000e+00</td>\n",
       "      <td>0.000000e+00</td>\n",
       "      <td>0.000000e+00</td>\n",
       "      <td>NaN</td>\n",
       "    </tr>\n",
       "    <tr>\n",
       "      <th>2356</th>\n",
       "      <td>8.565877e-07</td>\n",
       "      <td>1.001857e-08</td>\n",
       "      <td>2.504642e-08</td>\n",
       "      <td>2.654921e-07</td>\n",
       "      <td>1.152135e-07</td>\n",
       "      <td>2.053807e-07</td>\n",
       "      <td>2.454550e-07</td>\n",
       "      <td>2.805199e-07</td>\n",
       "      <td>2.254178e-07</td>\n",
       "      <td>1.102043e-07</td>\n",
       "      <td>...</td>\n",
       "      <td>6.512070e-08</td>\n",
       "      <td>2.654921e-07</td>\n",
       "      <td>4.758820e-07</td>\n",
       "      <td>3.656778e-07</td>\n",
       "      <td>4.207799e-07</td>\n",
       "      <td>3.155849e-07</td>\n",
       "      <td>1.202228e-07</td>\n",
       "      <td>9.517641e-08</td>\n",
       "      <td>4.458263e-07</td>\n",
       "      <td>NaN</td>\n",
       "    </tr>\n",
       "    <tr>\n",
       "      <th>2357</th>\n",
       "      <td>1.502785e-08</td>\n",
       "      <td>3.005571e-08</td>\n",
       "      <td>2.003714e-08</td>\n",
       "      <td>1.001857e-08</td>\n",
       "      <td>1.502785e-08</td>\n",
       "      <td>1.001857e-08</td>\n",
       "      <td>1.001857e-08</td>\n",
       "      <td>1.502785e-08</td>\n",
       "      <td>1.001857e-08</td>\n",
       "      <td>1.001857e-08</td>\n",
       "      <td>...</td>\n",
       "      <td>0.000000e+00</td>\n",
       "      <td>0.000000e+00</td>\n",
       "      <td>0.000000e+00</td>\n",
       "      <td>5.009285e-09</td>\n",
       "      <td>0.000000e+00</td>\n",
       "      <td>0.000000e+00</td>\n",
       "      <td>0.000000e+00</td>\n",
       "      <td>0.000000e+00</td>\n",
       "      <td>0.000000e+00</td>\n",
       "      <td>NaN</td>\n",
       "    </tr>\n",
       "  </tbody>\n",
       "</table>\n",
       "<p>2058 rows × 23 columns</p>\n",
       "</div>"
      ],
      "text/plain": [
       "           glucose            lb  glycerol__aa       acetate      fumarate  \\\n",
       "0     1.392080e-05  3.588652e-05  2.255681e-05  1.092024e-05  1.224269e-05   \n",
       "1     1.982174e-05  4.452252e-05  2.604327e-05  1.332971e-05  1.602470e-05   \n",
       "2     3.805053e-05  8.315413e-05  8.790293e-05  1.144321e-04  9.763597e-05   \n",
       "3     1.230280e-05  4.112623e-06  1.171672e-05  7.203351e-06  1.037423e-05   \n",
       "4     1.432154e-05  3.025608e-06  3.266054e-06  6.827655e-06  6.416894e-06   \n",
       "...            ...           ...           ...           ...           ...   \n",
       "2352  1.372544e-06  1.848426e-06  1.217256e-06  1.462711e-06  1.572915e-06   \n",
       "2353  1.051950e-07  1.152135e-07  1.452693e-07  1.001857e-07  1.102043e-07   \n",
       "2355  5.009285e-09  0.000000e+00  0.000000e+00  2.003714e-08  1.502785e-08   \n",
       "2356  8.565877e-07  1.001857e-08  2.504642e-08  2.654921e-07  1.152135e-07   \n",
       "2357  1.502785e-08  3.005571e-08  2.003714e-08  1.001857e-08  1.502785e-08   \n",
       "\n",
       "       glucosamine      glycerol      pyruvate  chemostat_µ05  chemostat_µ035  \\\n",
       "0     1.661079e-05  1.425141e-05  1.367535e-05   2.394438e-05    1.953621e-05   \n",
       "1     2.003213e-05  1.877981e-05  1.860448e-05   2.627370e-05    2.198074e-05   \n",
       "2     6.889269e-05  5.406020e-05  8.212722e-05   7.881108e-05    1.014931e-04   \n",
       "3     9.813189e-06  1.035920e-05  1.356514e-05   1.144622e-05    8.666063e-06   \n",
       "4     9.903356e-06  1.104046e-05  8.470700e-06   1.162655e-05    9.813189e-06   \n",
       "...            ...           ...           ...            ...             ...   \n",
       "2352  1.542860e-06  1.282377e-06  1.532841e-06   1.432655e-06    1.337479e-06   \n",
       "2353  1.402600e-07  8.014856e-08  1.552878e-07   9.517641e-08    7.513927e-08   \n",
       "2355  1.001857e-08  2.003714e-08  3.005571e-08   4.508356e-08    2.003714e-08   \n",
       "2356  2.053807e-07  2.454550e-07  2.805199e-07   2.254178e-07    1.102043e-07   \n",
       "2357  1.001857e-08  1.001857e-08  1.502785e-08   1.001857e-08    1.001857e-08   \n",
       "\n",
       "      ...  stationary_phase_3_days  osmoticstress_glucose   42c_glucose  \\\n",
       "0     ...             9.552706e-06           1.126087e-05  1.996200e-05   \n",
       "1     ...             1.115568e-05           1.630021e-05  2.466071e-05   \n",
       "2     ...             3.787019e-06           1.410114e-05  2.425496e-05   \n",
       "3     ...             3.681824e-06           6.602237e-06  9.442502e-06   \n",
       "4     ...             9.166991e-07           4.177743e-06  1.492266e-05   \n",
       "...   ...                      ...                    ...           ...   \n",
       "2352  ...             8.215227e-07           1.377553e-06  1.758259e-06   \n",
       "2353  ...             1.051950e-07           1.853435e-07  2.905385e-07   \n",
       "2355  ...             0.000000e+00           0.000000e+00  0.000000e+00   \n",
       "2356  ...             6.512070e-08           2.654921e-07  4.758820e-07   \n",
       "2357  ...             0.000000e+00           0.000000e+00  0.000000e+00   \n",
       "\n",
       "       ph6_glucose        xylose       mannose     galactose     succinate  \\\n",
       "0     1.672600e-05  1.819372e-05  1.703658e-05  1.131096e-05  1.384566e-05   \n",
       "1     2.019744e-05  2.222620e-05  2.075347e-05  1.412618e-05  1.931079e-05   \n",
       "2     2.328816e-05  3.354718e-05  8.273836e-05  6.449454e-05  9.791649e-05   \n",
       "3     8.555858e-06  8.620979e-06  8.836378e-06  7.864577e-06  9.582762e-06   \n",
       "4     1.364028e-05  1.250317e-05  1.041430e-05  7.002980e-06  7.779419e-06   \n",
       "...            ...           ...           ...           ...           ...   \n",
       "2352  1.572915e-06  1.838407e-06  1.808352e-06  1.537850e-06  2.133955e-06   \n",
       "2353  2.204085e-07  1.853435e-07  1.001857e-07  1.051950e-07  9.517641e-08   \n",
       "2355  0.000000e+00  0.000000e+00  0.000000e+00  0.000000e+00  0.000000e+00   \n",
       "2356  3.656778e-07  4.207799e-07  3.155849e-07  1.202228e-07  9.517641e-08   \n",
       "2357  5.009285e-09  0.000000e+00  0.000000e+00  0.000000e+00  0.000000e+00   \n",
       "\n",
       "          fructose  annotated_functional_cog_group_description  \n",
       "0     2.262694e-05                               Transcription  \n",
       "1     2.639392e-05                               Transcription  \n",
       "2     4.399154e-05            Energy production and conversion  \n",
       "3     1.205234e-05         Nucleotide transport and metabolism  \n",
       "4     1.932582e-05         Amino acid transport and metabolism  \n",
       "...            ...                                         ...  \n",
       "2352  1.848426e-06                                         NaN  \n",
       "2353  1.152135e-07                                         NaN  \n",
       "2355  0.000000e+00                                         NaN  \n",
       "2356  4.458263e-07                                         NaN  \n",
       "2357  0.000000e+00                                         NaN  \n",
       "\n",
       "[2058 rows x 23 columns]"
      ]
     },
     "execution_count": 33,
     "metadata": {},
     "output_type": "execute_result"
    }
   ],
   "source": [
    "# data handling for plotting the protein content vs growth rate by category and total\n",
    "proteomics_sums = proteomics_data.sum(axis=0).to_frame()\n",
    "proteomics_sums_by_cog = pd.concat([proteomics_data, proteomics_data_raw[\"annotated_functional_cog_group_description\"]])\n",
    "\n",
    "\n",
    "cell_growth_data = cell_growth_data[[\"Growth condition\", \"Growth rate (h-1)\"]]\n",
    "proteomics_vs_growth = proteomics_sums.join(cell_growth_data.set_index(\"Growth condition\"))\n",
    "proteomics_vs_growth.columns = [\"protein_sum\",\"growth_rate\"]\n",
    "proteomics_data_to_plot"
   ]
  },
  {
   "cell_type": "code",
   "execution_count": 34,
   "metadata": {},
   "outputs": [],
   "source": [
    "# aggregate sum of protein mass per cog\n",
    "proteomics_data_to_plot_aggregated = proteomics_data_to_plot.groupby([\"annotated_functional_cog_group_description\"]).sum()\n",
    "\n",
    "# sum of all protein mass per sample in percent\n",
    "cog_in_percent = proteomics_data_to_plot_aggregated.div(proteomics_data_to_plot.sum()) * 100\n",
    "\n",
    "\n",
    "amino_vs_growth = cog_in_percent.loc[\"Amino acid transport and metabolism\"].to_frame().join(cell_growth_data.set_index(\"Growth condition\"))\n",
    "energy_vs_growth = cog_in_percent.loc[\"Energy production and conversion\"].to_frame().join(cell_growth_data.set_index(\"Growth condition\"))\n",
    "translation_vs_growth = cog_in_percent.loc[\"Translation, ribosomal structure and biogenesis\"].to_frame().join(cell_growth_data.set_index(\"Growth condition\"))\n",
    "\n"
   ]
  },
  {
   "cell_type": "code",
   "execution_count": 35,
   "metadata": {},
   "outputs": [
    {
     "data": {
      "application/vnd.plotly.v1+json": {
       "config": {
        "plotlyServerURL": "https://plot.ly"
       },
       "data": [
        {
         "mode": "markers",
         "text": [
          "glucose",
          "lb",
          "glycerol__aa",
          "acetate",
          "fumarate",
          "glucosamine",
          "glycerol",
          "pyruvate",
          "chemostat_µ05",
          "chemostat_µ035",
          "chemostat_µ020",
          "chemostat_µ012",
          "stationary_phase_1_day",
          "stationary_phase_3_days",
          "osmoticstress_glucose",
          "42c_glucose",
          "ph6_glucose",
          "xylose",
          "mannose",
          "galactose",
          "succinate",
          "fructose"
         ],
         "type": "scatter",
         "x": [
          0.58,
          1.9,
          1.27,
          0.3,
          0.42,
          0.46,
          0.47,
          0.4,
          0.5,
          0.35,
          0.2,
          0.12,
          -0.01,
          -0.01,
          0.55,
          0.66,
          0.63,
          0.55,
          0.47,
          0.26,
          0.44,
          0.65
         ],
         "xaxis": "x",
         "y": [
          11.084655255769531,
          3.684456653695038,
          7.009730955206435,
          9.148123599406624,
          9.562495094428398,
          9.455623945682195,
          10.067434611970178,
          10.088407035397289,
          9.804905662708329,
          9.357706731087626,
          9.222155849043556,
          8.825251469319726,
          6.976766646344778,
          7.16850506493079,
          9.823932621374754,
          9.811511397170875,
          10.111752745136927,
          9.679739751072425,
          9.973027384589074,
          9.363749466188406,
          9.899734705296897,
          10.342456392120686
         ],
         "yaxis": "y"
        },
        {
         "mode": "lines+markers",
         "type": "scatter",
         "x": [
          [
           -0.01
          ],
          [
           0.99
          ]
         ],
         "xaxis": "x",
         "y": [
          8.663079677643328,
          10.866184904945614
         ],
         "yaxis": "y"
        },
        {
         "mode": "markers",
         "text": [
          "glucose",
          "lb",
          "glycerol__aa",
          "acetate",
          "fumarate",
          "glucosamine",
          "glycerol",
          "pyruvate",
          "chemostat_µ05",
          "chemostat_µ035",
          "chemostat_µ020",
          "chemostat_µ012",
          "stationary_phase_1_day",
          "stationary_phase_3_days",
          "osmoticstress_glucose",
          "42c_glucose",
          "ph6_glucose",
          "xylose",
          "mannose",
          "galactose",
          "succinate",
          "fructose"
         ],
         "type": "scatter",
         "x": [
          0.58,
          1.9,
          1.27,
          0.3,
          0.42,
          0.46,
          0.47,
          0.4,
          0.5,
          0.35,
          0.2,
          0.12,
          -0.01,
          -0.01,
          0.55,
          0.66,
          0.63,
          0.55,
          0.47,
          0.26,
          0.44,
          0.65
         ],
         "xaxis": "x2",
         "y": [
          6.861054076896446,
          6.708986406652418,
          8.765936343187091,
          18.4727088133489,
          12.442520430633092,
          10.67153636027099,
          10.385491838511173,
          14.053049968485931,
          11.869705909085697,
          14.645920220658876,
          16.18173536486066,
          17.334307335925303,
          5.363349369518371,
          5.591687281937078,
          7.1159838833021904,
          7.7345382194528165,
          5.7757819701973245,
          8.435752316355712,
          13.150665764988451,
          13.803501804051812,
          12.138760654470278,
          8.727438911693955
         ],
         "yaxis": "y2"
        },
        {
         "mode": "lines+markers",
         "type": "scatter",
         "x": [
          [
           -0.01
          ],
          [
           0.99
          ]
         ],
         "xaxis": "x2",
         "y": [
          20.70490994263658,
          0.3171277097709613
         ],
         "yaxis": "y2"
        },
        {
         "mode": "markers",
         "text": [
          "glucose",
          "lb",
          "glycerol__aa",
          "acetate",
          "fumarate",
          "glucosamine",
          "glycerol",
          "pyruvate",
          "chemostat_µ05",
          "chemostat_µ035",
          "chemostat_µ020",
          "chemostat_µ012",
          "stationary_phase_1_day",
          "stationary_phase_3_days",
          "osmoticstress_glucose",
          "42c_glucose",
          "ph6_glucose",
          "xylose",
          "mannose",
          "galactose",
          "succinate",
          "fructose"
         ],
         "type": "scatter",
         "x": [
          0.58,
          1.9,
          1.27,
          0.3,
          0.42,
          0.46,
          0.47,
          0.4,
          0.5,
          0.35,
          0.2,
          0.12,
          -0.01,
          -0.01,
          0.55,
          0.66,
          0.63,
          0.55,
          0.47,
          0.26,
          0.44,
          0.65
         ],
         "xaxis": "x3",
         "y": [
          32.473682185745915,
          46.309936689851675,
          37.555578384314295,
          20.649059958547706,
          25.432817295804078,
          26.55323475225757,
          27.909354230431116,
          24.643215661632716,
          26.352053129972,
          21.178940614834296,
          19.565077208160425,
          18.509601643920035,
          21.749865694435215,
          21.768061334525825,
          28.04189022006715,
          31.877593936506,
          27.492849078730885,
          30.767321726740644,
          25.609593323139496,
          21.933620941544508,
          27.137981437264447,
          32.31213394774975
         ],
         "yaxis": "y3"
        },
        {
         "mode": "lines+markers",
         "type": "scatter",
         "x": [
          [
           -0.01
          ],
          [
           0.99
          ]
         ],
         "xaxis": "x3",
         "y": [
          19.45264854926489,
          34.20354444665928
         ],
         "yaxis": "y3"
        }
       ],
       "layout": {
        "height": 600,
        "template": {
         "data": {
          "bar": [
           {
            "error_x": {
             "color": "#2a3f5f"
            },
            "error_y": {
             "color": "#2a3f5f"
            },
            "marker": {
             "line": {
              "color": "#E5ECF6",
              "width": 0.5
             }
            },
            "type": "bar"
           }
          ],
          "barpolar": [
           {
            "marker": {
             "line": {
              "color": "#E5ECF6",
              "width": 0.5
             }
            },
            "type": "barpolar"
           }
          ],
          "carpet": [
           {
            "aaxis": {
             "endlinecolor": "#2a3f5f",
             "gridcolor": "white",
             "linecolor": "white",
             "minorgridcolor": "white",
             "startlinecolor": "#2a3f5f"
            },
            "baxis": {
             "endlinecolor": "#2a3f5f",
             "gridcolor": "white",
             "linecolor": "white",
             "minorgridcolor": "white",
             "startlinecolor": "#2a3f5f"
            },
            "type": "carpet"
           }
          ],
          "choropleth": [
           {
            "colorbar": {
             "outlinewidth": 0,
             "ticks": ""
            },
            "type": "choropleth"
           }
          ],
          "contour": [
           {
            "colorbar": {
             "outlinewidth": 0,
             "ticks": ""
            },
            "colorscale": [
             [
              0,
              "#0d0887"
             ],
             [
              0.1111111111111111,
              "#46039f"
             ],
             [
              0.2222222222222222,
              "#7201a8"
             ],
             [
              0.3333333333333333,
              "#9c179e"
             ],
             [
              0.4444444444444444,
              "#bd3786"
             ],
             [
              0.5555555555555556,
              "#d8576b"
             ],
             [
              0.6666666666666666,
              "#ed7953"
             ],
             [
              0.7777777777777778,
              "#fb9f3a"
             ],
             [
              0.8888888888888888,
              "#fdca26"
             ],
             [
              1,
              "#f0f921"
             ]
            ],
            "type": "contour"
           }
          ],
          "contourcarpet": [
           {
            "colorbar": {
             "outlinewidth": 0,
             "ticks": ""
            },
            "type": "contourcarpet"
           }
          ],
          "heatmap": [
           {
            "colorbar": {
             "outlinewidth": 0,
             "ticks": ""
            },
            "colorscale": [
             [
              0,
              "#0d0887"
             ],
             [
              0.1111111111111111,
              "#46039f"
             ],
             [
              0.2222222222222222,
              "#7201a8"
             ],
             [
              0.3333333333333333,
              "#9c179e"
             ],
             [
              0.4444444444444444,
              "#bd3786"
             ],
             [
              0.5555555555555556,
              "#d8576b"
             ],
             [
              0.6666666666666666,
              "#ed7953"
             ],
             [
              0.7777777777777778,
              "#fb9f3a"
             ],
             [
              0.8888888888888888,
              "#fdca26"
             ],
             [
              1,
              "#f0f921"
             ]
            ],
            "type": "heatmap"
           }
          ],
          "heatmapgl": [
           {
            "colorbar": {
             "outlinewidth": 0,
             "ticks": ""
            },
            "colorscale": [
             [
              0,
              "#0d0887"
             ],
             [
              0.1111111111111111,
              "#46039f"
             ],
             [
              0.2222222222222222,
              "#7201a8"
             ],
             [
              0.3333333333333333,
              "#9c179e"
             ],
             [
              0.4444444444444444,
              "#bd3786"
             ],
             [
              0.5555555555555556,
              "#d8576b"
             ],
             [
              0.6666666666666666,
              "#ed7953"
             ],
             [
              0.7777777777777778,
              "#fb9f3a"
             ],
             [
              0.8888888888888888,
              "#fdca26"
             ],
             [
              1,
              "#f0f921"
             ]
            ],
            "type": "heatmapgl"
           }
          ],
          "histogram": [
           {
            "marker": {
             "colorbar": {
              "outlinewidth": 0,
              "ticks": ""
             }
            },
            "type": "histogram"
           }
          ],
          "histogram2d": [
           {
            "colorbar": {
             "outlinewidth": 0,
             "ticks": ""
            },
            "colorscale": [
             [
              0,
              "#0d0887"
             ],
             [
              0.1111111111111111,
              "#46039f"
             ],
             [
              0.2222222222222222,
              "#7201a8"
             ],
             [
              0.3333333333333333,
              "#9c179e"
             ],
             [
              0.4444444444444444,
              "#bd3786"
             ],
             [
              0.5555555555555556,
              "#d8576b"
             ],
             [
              0.6666666666666666,
              "#ed7953"
             ],
             [
              0.7777777777777778,
              "#fb9f3a"
             ],
             [
              0.8888888888888888,
              "#fdca26"
             ],
             [
              1,
              "#f0f921"
             ]
            ],
            "type": "histogram2d"
           }
          ],
          "histogram2dcontour": [
           {
            "colorbar": {
             "outlinewidth": 0,
             "ticks": ""
            },
            "colorscale": [
             [
              0,
              "#0d0887"
             ],
             [
              0.1111111111111111,
              "#46039f"
             ],
             [
              0.2222222222222222,
              "#7201a8"
             ],
             [
              0.3333333333333333,
              "#9c179e"
             ],
             [
              0.4444444444444444,
              "#bd3786"
             ],
             [
              0.5555555555555556,
              "#d8576b"
             ],
             [
              0.6666666666666666,
              "#ed7953"
             ],
             [
              0.7777777777777778,
              "#fb9f3a"
             ],
             [
              0.8888888888888888,
              "#fdca26"
             ],
             [
              1,
              "#f0f921"
             ]
            ],
            "type": "histogram2dcontour"
           }
          ],
          "mesh3d": [
           {
            "colorbar": {
             "outlinewidth": 0,
             "ticks": ""
            },
            "type": "mesh3d"
           }
          ],
          "parcoords": [
           {
            "line": {
             "colorbar": {
              "outlinewidth": 0,
              "ticks": ""
             }
            },
            "type": "parcoords"
           }
          ],
          "pie": [
           {
            "automargin": true,
            "type": "pie"
           }
          ],
          "scatter": [
           {
            "marker": {
             "colorbar": {
              "outlinewidth": 0,
              "ticks": ""
             }
            },
            "type": "scatter"
           }
          ],
          "scatter3d": [
           {
            "line": {
             "colorbar": {
              "outlinewidth": 0,
              "ticks": ""
             }
            },
            "marker": {
             "colorbar": {
              "outlinewidth": 0,
              "ticks": ""
             }
            },
            "type": "scatter3d"
           }
          ],
          "scattercarpet": [
           {
            "marker": {
             "colorbar": {
              "outlinewidth": 0,
              "ticks": ""
             }
            },
            "type": "scattercarpet"
           }
          ],
          "scattergeo": [
           {
            "marker": {
             "colorbar": {
              "outlinewidth": 0,
              "ticks": ""
             }
            },
            "type": "scattergeo"
           }
          ],
          "scattergl": [
           {
            "marker": {
             "colorbar": {
              "outlinewidth": 0,
              "ticks": ""
             }
            },
            "type": "scattergl"
           }
          ],
          "scattermapbox": [
           {
            "marker": {
             "colorbar": {
              "outlinewidth": 0,
              "ticks": ""
             }
            },
            "type": "scattermapbox"
           }
          ],
          "scatterpolar": [
           {
            "marker": {
             "colorbar": {
              "outlinewidth": 0,
              "ticks": ""
             }
            },
            "type": "scatterpolar"
           }
          ],
          "scatterpolargl": [
           {
            "marker": {
             "colorbar": {
              "outlinewidth": 0,
              "ticks": ""
             }
            },
            "type": "scatterpolargl"
           }
          ],
          "scatterternary": [
           {
            "marker": {
             "colorbar": {
              "outlinewidth": 0,
              "ticks": ""
             }
            },
            "type": "scatterternary"
           }
          ],
          "surface": [
           {
            "colorbar": {
             "outlinewidth": 0,
             "ticks": ""
            },
            "colorscale": [
             [
              0,
              "#0d0887"
             ],
             [
              0.1111111111111111,
              "#46039f"
             ],
             [
              0.2222222222222222,
              "#7201a8"
             ],
             [
              0.3333333333333333,
              "#9c179e"
             ],
             [
              0.4444444444444444,
              "#bd3786"
             ],
             [
              0.5555555555555556,
              "#d8576b"
             ],
             [
              0.6666666666666666,
              "#ed7953"
             ],
             [
              0.7777777777777778,
              "#fb9f3a"
             ],
             [
              0.8888888888888888,
              "#fdca26"
             ],
             [
              1,
              "#f0f921"
             ]
            ],
            "type": "surface"
           }
          ],
          "table": [
           {
            "cells": {
             "fill": {
              "color": "#EBF0F8"
             },
             "line": {
              "color": "white"
             }
            },
            "header": {
             "fill": {
              "color": "#C8D4E3"
             },
             "line": {
              "color": "white"
             }
            },
            "type": "table"
           }
          ]
         },
         "layout": {
          "annotationdefaults": {
           "arrowcolor": "#2a3f5f",
           "arrowhead": 0,
           "arrowwidth": 1
          },
          "coloraxis": {
           "colorbar": {
            "outlinewidth": 0,
            "ticks": ""
           }
          },
          "colorscale": {
           "diverging": [
            [
             0,
             "#8e0152"
            ],
            [
             0.1,
             "#c51b7d"
            ],
            [
             0.2,
             "#de77ae"
            ],
            [
             0.3,
             "#f1b6da"
            ],
            [
             0.4,
             "#fde0ef"
            ],
            [
             0.5,
             "#f7f7f7"
            ],
            [
             0.6,
             "#e6f5d0"
            ],
            [
             0.7,
             "#b8e186"
            ],
            [
             0.8,
             "#7fbc41"
            ],
            [
             0.9,
             "#4d9221"
            ],
            [
             1,
             "#276419"
            ]
           ],
           "sequential": [
            [
             0,
             "#0d0887"
            ],
            [
             0.1111111111111111,
             "#46039f"
            ],
            [
             0.2222222222222222,
             "#7201a8"
            ],
            [
             0.3333333333333333,
             "#9c179e"
            ],
            [
             0.4444444444444444,
             "#bd3786"
            ],
            [
             0.5555555555555556,
             "#d8576b"
            ],
            [
             0.6666666666666666,
             "#ed7953"
            ],
            [
             0.7777777777777778,
             "#fb9f3a"
            ],
            [
             0.8888888888888888,
             "#fdca26"
            ],
            [
             1,
             "#f0f921"
            ]
           ],
           "sequentialminus": [
            [
             0,
             "#0d0887"
            ],
            [
             0.1111111111111111,
             "#46039f"
            ],
            [
             0.2222222222222222,
             "#7201a8"
            ],
            [
             0.3333333333333333,
             "#9c179e"
            ],
            [
             0.4444444444444444,
             "#bd3786"
            ],
            [
             0.5555555555555556,
             "#d8576b"
            ],
            [
             0.6666666666666666,
             "#ed7953"
            ],
            [
             0.7777777777777778,
             "#fb9f3a"
            ],
            [
             0.8888888888888888,
             "#fdca26"
            ],
            [
             1,
             "#f0f921"
            ]
           ]
          },
          "colorway": [
           "#636efa",
           "#EF553B",
           "#00cc96",
           "#ab63fa",
           "#FFA15A",
           "#19d3f3",
           "#FF6692",
           "#B6E880",
           "#FF97FF",
           "#FECB52"
          ],
          "font": {
           "color": "#2a3f5f"
          },
          "geo": {
           "bgcolor": "white",
           "lakecolor": "white",
           "landcolor": "#E5ECF6",
           "showlakes": true,
           "showland": true,
           "subunitcolor": "white"
          },
          "hoverlabel": {
           "align": "left"
          },
          "hovermode": "closest",
          "mapbox": {
           "style": "light"
          },
          "paper_bgcolor": "white",
          "plot_bgcolor": "#E5ECF6",
          "polar": {
           "angularaxis": {
            "gridcolor": "white",
            "linecolor": "white",
            "ticks": ""
           },
           "bgcolor": "#E5ECF6",
           "radialaxis": {
            "gridcolor": "white",
            "linecolor": "white",
            "ticks": ""
           }
          },
          "scene": {
           "xaxis": {
            "backgroundcolor": "#E5ECF6",
            "gridcolor": "white",
            "gridwidth": 2,
            "linecolor": "white",
            "showbackground": true,
            "ticks": "",
            "zerolinecolor": "white"
           },
           "yaxis": {
            "backgroundcolor": "#E5ECF6",
            "gridcolor": "white",
            "gridwidth": 2,
            "linecolor": "white",
            "showbackground": true,
            "ticks": "",
            "zerolinecolor": "white"
           },
           "zaxis": {
            "backgroundcolor": "#E5ECF6",
            "gridcolor": "white",
            "gridwidth": 2,
            "linecolor": "white",
            "showbackground": true,
            "ticks": "",
            "zerolinecolor": "white"
           }
          },
          "shapedefaults": {
           "line": {
            "color": "#2a3f5f"
           }
          },
          "ternary": {
           "aaxis": {
            "gridcolor": "white",
            "linecolor": "white",
            "ticks": ""
           },
           "baxis": {
            "gridcolor": "white",
            "linecolor": "white",
            "ticks": ""
           },
           "bgcolor": "#E5ECF6",
           "caxis": {
            "gridcolor": "white",
            "linecolor": "white",
            "ticks": ""
           }
          },
          "title": {
           "x": 0.05
          },
          "xaxis": {
           "automargin": true,
           "gridcolor": "white",
           "linecolor": "white",
           "ticks": "",
           "title": {
            "standoff": 15
           },
           "zerolinecolor": "white",
           "zerolinewidth": 2
          },
          "yaxis": {
           "automargin": true,
           "gridcolor": "white",
           "linecolor": "white",
           "ticks": "",
           "title": {
            "standoff": 15
           },
           "zerolinecolor": "white",
           "zerolinewidth": 2
          }
         }
        },
        "title": {
         "text": "Subplots"
        },
        "width": 1200,
        "xaxis": {
         "anchor": "y",
         "domain": [
          0,
          0.2888888888888889
         ]
        },
        "xaxis2": {
         "anchor": "y2",
         "domain": [
          0.35555555555555557,
          0.6444444444444445
         ]
        },
        "xaxis3": {
         "anchor": "y3",
         "domain": [
          0.7111111111111111,
          1
         ]
        },
        "yaxis": {
         "anchor": "x",
         "domain": [
          0,
          1
         ]
        },
        "yaxis2": {
         "anchor": "x2",
         "domain": [
          0,
          1
         ]
        },
        "yaxis3": {
         "anchor": "x3",
         "domain": [
          0,
          1
         ]
        }
       }
      }
     },
     "metadata": {},
     "output_type": "display_data"
    },
    {
     "data": {
      "text/plain": [
       "<Figure size 1440x720 with 0 Axes>"
      ]
     },
     "metadata": {},
     "output_type": "display_data"
    }
   ],
   "source": [
    "# three paper subplots recreated \n",
    "plots = [amino_vs_growth, energy_vs_growth, translation_vs_growth]\n",
    "\n",
    "# fitting robust linear models to the calculated percentages\n",
    "# dotted line standard linear model, non-dotted ransac linear model\n",
    "fig = plt.figure(figsize=[20,10])\n",
    "\n",
    "\n",
    "fig = make_subplots(rows=1, cols=3)\n",
    "\n",
    "\n",
    "\n",
    "\n",
    "\n",
    "\n",
    "for i in range(0, 3):\n",
    "    x = amino_vs_growth[\"Growth rate (h-1)\"]\n",
    "    y = plots[i].iloc[:, 0]\n",
    "    fig.add_trace(go.Scatter(x=x, y=y, mode='markers',text=amino_vs_growth.index),row=1, col=i+1)\n",
    "\n",
    "    ransac = linear_model.RANSACRegressor()\n",
    "    ransac.fit(x.to_numpy().reshape(-1, 1), y)\n",
    "    line_X = np.arange(x.min(), x.max())[:, np.newaxis]\n",
    "    line_y_ransac = ransac.predict(line_X)\n",
    "    fig.add_trace(\n",
    "    go.Scatter(x=line_X, y=line_y_ransac, mode='lines+markers'),row=1, col=i+1)\n",
    "\n",
    "fig.update_layout(height=600, width=1200, title_text=\"Subplots\")\n",
    "fig.show()\n"
   ]
  },
  {
   "cell_type": "code",
   "execution_count": 36,
   "metadata": {},
   "outputs": [
    {
     "data": {
      "application/vnd.plotly.v1+json": {
       "config": {
        "plotlyServerURL": "https://plot.ly"
       },
       "data": [
        {
         "marker": {
          "color": "rgba(152, 0, 0, .8)"
         },
         "mode": "markers",
         "type": "scatter",
         "x": [
          1,
          1,
          1,
          1,
          1,
          1,
          1,
          1,
          1,
          1,
          1,
          1,
          1,
          1,
          1,
          1,
          1,
          1,
          1,
          1,
          1,
          1,
          1
         ],
         "y": [
          32.473682185745915,
          46.309936689851675,
          37.555578384314295,
          20.649059958547706,
          25.432817295804078,
          26.55323475225757,
          27.909354230431116,
          24.643215661632716,
          26.352053129972,
          21.178940614834296,
          19.565077208160425,
          18.509601643920035,
          21.749865694435215,
          21.768061334525825,
          28.04189022006715,
          31.877593936506,
          27.492849078730885,
          30.767321726740644,
          25.609593323139496,
          21.933620941544508,
          27.137981437264447,
          32.31213394774975,
          27.08288469982617
         ]
        },
        {
         "marker": {
          "color": "rgba(152, 0, 0, .8)"
         },
         "mode": "markers",
         "type": "scatter",
         "x": [
          2,
          2,
          2,
          2,
          2,
          2,
          2,
          2,
          2,
          2,
          2,
          2,
          2,
          2,
          2,
          2,
          2,
          2,
          2,
          2,
          2,
          2,
          2
         ],
         "y": [
          6.861054076896446,
          6.708986406652418,
          8.765936343187091,
          18.4727088133489,
          12.442520430633092,
          10.67153636027099,
          10.385491838511173,
          14.053049968485931,
          11.869705909085697,
          14.645920220658876,
          16.18173536486066,
          17.334307335925303,
          5.363349369518371,
          5.591687281937078,
          7.1159838833021904,
          7.7345382194528165,
          5.7757819701973245,
          8.435752316355712,
          13.150665764988451,
          13.803501804051812,
          12.138760654470278,
          8.727438911693955,
          10.737746056567481
         ]
        },
        {
         "marker": {
          "color": "rgba(152, 0, 0, .8)"
         },
         "mode": "markers",
         "type": "scatter",
         "x": [
          3,
          3,
          3,
          3,
          3,
          3,
          3,
          3,
          3,
          3,
          3,
          3,
          3,
          3,
          3,
          3,
          3,
          3,
          3,
          3,
          3,
          3,
          3
         ],
         "y": [
          11.084655255769531,
          3.684456653695038,
          7.009730955206435,
          9.148123599406624,
          9.562495094428398,
          9.455623945682195,
          10.067434611970178,
          10.088407035397289,
          9.804905662708329,
          9.357706731087626,
          9.222155849043556,
          8.825251469319726,
          6.976766646344778,
          7.16850506493079,
          9.823932621374754,
          9.811511397170875,
          10.111752745136927,
          9.679739751072425,
          9.973027384589074,
          9.363749466188406,
          9.899734705296897,
          10.342456392120686,
          9.111914683542752
         ]
        },
        {
         "marker": {
          "color": "rgba(152, 0, 0, .8)"
         },
         "mode": "markers",
         "type": "scatter",
         "x": [
          4,
          4,
          4,
          4,
          4,
          4,
          4,
          4,
          4,
          4,
          4,
          4,
          4,
          4,
          4,
          4,
          4,
          4,
          4,
          4,
          4,
          4,
          4
         ],
         "y": [
          7.371268478391492,
          6.418005143220933,
          7.348185408880781,
          9.733348062578248,
          8.670281743996783,
          8.640468319470024,
          8.116798821514278,
          7.9024174838933385,
          9.867073589352831,
          10.985982450932031,
          10.419305879849441,
          10.099108639073592,
          6.929654065082367,
          7.411234657199926,
          6.975055667972072,
          7.4252798088476375,
          7.6142360584384585,
          8.255200049594453,
          8.568852347972276,
          10.972416318835258,
          8.359185076377953,
          9.104460110302966,
          8.508537190080778
         ]
        },
        {
         "marker": {
          "color": "rgba(152, 0, 0, .8)"
         },
         "mode": "markers",
         "type": "scatter",
         "x": [
          5,
          5,
          5,
          5,
          5,
          5,
          5,
          5,
          5,
          5,
          5,
          5,
          5,
          5,
          5,
          5,
          5,
          5,
          5,
          5,
          5,
          5,
          5
         ],
         "y": [
          7.273723115534242,
          5.844479642789279,
          6.949510264085444,
          6.936238150848513,
          6.9037496530345,
          8.057896685219424,
          7.052079305868456,
          6.670111822279777,
          7.504317339689261,
          7.6401421269538865,
          7.225606342435969,
          7.156238606091205,
          11.334212607218094,
          10.200251913622042,
          8.285608450081579,
          6.605080980598249,
          8.327814859329964,
          7.738137220129253,
          6.18655633323451,
          6.6073381079998414,
          6.78956421798506,
          6.35061340688935,
          7.438148688723541
         ]
        },
        {
         "marker": {
          "color": "rgba(152, 0, 0, .8)"
         },
         "mode": "markers",
         "type": "scatter",
         "x": [
          6,
          6,
          6,
          6,
          6,
          6,
          6,
          6,
          6,
          6,
          6,
          6,
          6,
          6,
          6,
          6,
          6,
          6,
          6,
          6,
          6,
          6,
          6
         ],
         "y": [
          6.5652451365139335,
          6.963287036653113,
          7.031552099753805,
          6.442387610600847,
          6.765169400400134,
          6.929664658133911,
          6.781131268535343,
          6.833070237112277,
          6.248869373229056,
          6.308841336976403,
          6.451502277759443,
          6.052993362508205,
          7.393053535103554,
          7.2353820602614025,
          7.4394893977773755,
          9.181252750209184,
          7.3383184358845694,
          6.89529574249909,
          6.774779216539358,
          6.6837838945571715,
          6.672602700489426,
          6.466457150045897,
          6.884278576433795
         ]
        },
        {
         "marker": {
          "color": "rgba(152, 0, 0, .8)"
         },
         "mode": "markers",
         "type": "scatter",
         "x": [
          7,
          7,
          7,
          7,
          7,
          7,
          7,
          7,
          7,
          7,
          7,
          7,
          7,
          7,
          7,
          7,
          7,
          7,
          7,
          7,
          7,
          7,
          7
         ],
         "y": [
          4.486432290747451,
          2.349555619894891,
          3.112049451814592,
          4.809072162779199,
          4.905686023737593,
          4.851756036121218,
          5.040359248067359,
          4.075852173130087,
          4.27822551823519,
          4.729238886542937,
          5.028041853793111,
          5.688033041164851,
          9.551359051591444,
          9.58338097420366,
          6.238793894096449,
          4.65063698454715,
          5.357885194347527,
          4.196097282366227,
          4.790820649319357,
          5.6944574821545,
          4.333282137296946,
          4.229315863778478,
          5.09001508271501
         ]
        },
        {
         "marker": {
          "color": "rgba(152, 0, 0, .8)"
         },
         "mode": "markers",
         "type": "scatter",
         "x": [
          8,
          8,
          8,
          8,
          8,
          8,
          8,
          8,
          8,
          8,
          8,
          8,
          8,
          8,
          8,
          8,
          8,
          8,
          8,
          8,
          8,
          8,
          8
         ],
         "y": [
          4.057264422693664,
          4.889545262303187,
          4.223057439912149,
          3.2038737914128492,
          3.858919993931394,
          3.9916377690500324,
          4.3358165916793245,
          4.592625515097064,
          3.541895181963623,
          3.9988628635040895,
          3.9834556873053395,
          3.908088516683833,
          3.4996106647672756,
          3.5740977075983684,
          3.746976792152305,
          3.2809093113058205,
          3.281291935540334,
          4.005117985001746,
          4.2605627937810855,
          3.692112016479078,
          4.000688327326258,
          3.373932032124848,
          3.8772883000733485
         ]
        },
        {
         "marker": {
          "color": "rgba(152, 0, 0, .8)"
         },
         "mode": "markers",
         "type": "scatter",
         "x": [
          9,
          9,
          9,
          9,
          9,
          9,
          9,
          9,
          9,
          9,
          9,
          9,
          9,
          9,
          9,
          9,
          9,
          9,
          9,
          9,
          9,
          9,
          9
         ],
         "y": [
          3.239699832354442,
          3.9866872857016316,
          3.5949627163074087,
          2.8012393607507713,
          3.4384653106579797,
          3.3412875979308128,
          3.297859242667405,
          3.1300707486173094,
          3.294105915792241,
          3.1280822102347816,
          3.014726443172085,
          2.821152003503308,
          2.0433158082176877,
          1.9909620517738897,
          3.1398707797838363,
          2.6769082746812054,
          3.0954445604863654,
          3.324982901092603,
          3.2625427103425384,
          2.773572657211646,
          3.3535659167011165,
          3.3614099583296433,
          3.0959506493777593
         ]
        },
        {
         "marker": {
          "color": "rgba(152, 0, 0, .8)"
         },
         "mode": "markers",
         "type": "scatter",
         "x": [
          10,
          10,
          10,
          10,
          10,
          10,
          10,
          10,
          10,
          10,
          10,
          10,
          10,
          10,
          10,
          10,
          10,
          10,
          10,
          10,
          10,
          10,
          10
         ],
         "y": [
          3.2966326920338815,
          2.309449697955655,
          2.887320002125437,
          2.88277625224884,
          3.715442750863781,
          3.11321497992007,
          3.3546019478710143,
          3.126574506359329,
          3.6190204734998725,
          2.9202199034642624,
          2.5171718616543255,
          2.3504271434112245,
          2.4051561264464256,
          2.515098945593253,
          3.211017348540083,
          2.766377946951268,
          2.9986099280021477,
          3.131422253071958,
          3.1827686184890673,
          3.125445393883544,
          4.063454216873178,
          3.145137241928795,
          3.0289700105085187
         ]
        },
        {
         "marker": {
          "color": "rgba(152, 0, 0, .8)"
         },
         "mode": "markers",
         "type": "scatter",
         "x": [
          11,
          11,
          11,
          11,
          11,
          11,
          11,
          11,
          11,
          11,
          11,
          11,
          11,
          11,
          11,
          11,
          11,
          11,
          11,
          11,
          11,
          11,
          11
         ],
         "y": [
          2.3360716366481826,
          1.4224802526108211,
          1.5619405232115338,
          2.5752506601857994,
          2.6120180840822425,
          2.607444630439689,
          2.4514922229878144,
          2.373780865114016,
          2.200651946972392,
          2.587489131608945,
          2.7809710506769965,
          3.0077174204045143,
          4.571006899382497,
          4.337635753366272,
          2.3485761018049978,
          1.9798086196400853,
          2.7737442675939636,
          2.1910992183792164,
          2.5315393046195482,
          2.601007730517364,
          2.3821944245035507,
          2.225706400274594,
          2.566346688410229
         ]
        },
        {
         "marker": {
          "color": "rgba(152, 0, 0, .8)"
         },
         "mode": "markers",
         "type": "scatter",
         "x": [
          12,
          12,
          12,
          12,
          12,
          12,
          12,
          12,
          12,
          12,
          12,
          12,
          12,
          12,
          12,
          12,
          12,
          12,
          12,
          12,
          12,
          12,
          12
         ],
         "y": [
          1.9349835071196828,
          1.664642140879833,
          1.7476469650542874,
          2.2387663205294097,
          2.1817465368094644,
          2.0513152597763535,
          2.11658714336011,
          2.1333303958512526,
          2.1297478603026256,
          2.3251117558913412,
          2.3583061278206716,
          2.499369449581965,
          3.4523169973501093,
          3.3106886388928882,
          2.8738626122411524,
          2.1319583617379125,
          2.9694191453609795,
          1.9218867030969102,
          2.034861189304675,
          2.270421350877171,
          1.8964635717647769,
          1.9749931274199635,
          2.2826556891374334
         ]
        },
        {
         "marker": {
          "color": "rgba(152, 0, 0, .8)"
         },
         "mode": "markers",
         "type": "scatter",
         "x": [
          13,
          13,
          13,
          13,
          13,
          13,
          13,
          13,
          13,
          13,
          13,
          13,
          13,
          13,
          13,
          13,
          13,
          13,
          13,
          13,
          13,
          13,
          13
         ],
         "y": [
          1.702948888133574,
          1.941898213165199,
          2.0586974618749885,
          1.631711012214752,
          2.1143099442544,
          1.848368188553846,
          1.8307784356120418,
          1.9532739195653543,
          1.7603362450925284,
          2.011945976447979,
          2.146973666392511,
          2.2849015711604808,
          2.0457604713068984,
          1.9696970163922605,
          1.847516960105979,
          2.076270188150408,
          1.771503086455768,
          1.7685300834060824,
          2.0573587269014353,
          2.1070320339841317,
          2.075379059287492,
          1.665940580527224,
          1.9395968967720607
         ]
        },
        {
         "marker": {
          "color": "rgba(152, 0, 0, .8)"
         },
         "mode": "markers",
         "type": "scatter",
         "x": [
          14,
          14,
          14,
          14,
          14,
          14,
          14,
          14,
          14,
          14,
          14,
          14,
          14,
          14,
          14,
          14,
          14,
          14,
          14,
          14,
          14,
          14,
          14
         ],
         "y": [
          1.63727085565071,
          1.2522253859068253,
          1.2394268407162716,
          2.1421056507696026,
          1.7602392294242313,
          1.8314235543366926,
          1.7611838424768944,
          2.411066133577529,
          2.0205017379663808,
          2.3737094847910516,
          2.945171390333109,
          3.085676381179919,
          1.6032764521600555,
          1.887595488484058,
          1.9371468500818774,
          1.6561294230393622,
          1.648631953277244,
          1.734098524260123,
          2.224213613342172,
          2.147991744595447,
          1.5847315827897426,
          1.5877213009599864,
          1.9305244281872402
         ]
        },
        {
         "marker": {
          "color": "rgba(152, 0, 0, .8)"
         },
         "mode": "markers",
         "type": "scatter",
         "x": [
          15,
          15,
          15,
          15,
          15,
          15,
          15,
          15,
          15,
          15,
          15,
          15,
          15,
          15,
          15,
          15,
          15,
          15,
          15,
          15,
          15,
          15,
          15
         ],
         "y": [
          2.0699883516677895,
          0.9420024140471921,
          1.1771940700331218,
          1.3979894580689955,
          1.3795783142041784,
          1.5717929041915848,
          1.5364378022623646,
          1.5589408972219736,
          1.5067449332477956,
          1.2736381997286095,
          1.2116882972231326,
          1.1151942143729323,
          1.3912245649405126,
          1.4117209793134344,
          2.0439330536001155,
          1.9824875798843151,
          2.279415411274605,
          1.9602207766206872,
          1.3645322877419508,
          1.379408821013468,
          1.4329026325813843,
          1.6420612770107923,
          1.5285953291023153
         ]
        },
        {
         "marker": {
          "color": "rgba(152, 0, 0, .8)"
         },
         "mode": "markers",
         "type": "scatter",
         "x": [
          16,
          16,
          16,
          16,
          16,
          16,
          16,
          16,
          16,
          16,
          16,
          16,
          16,
          16,
          16,
          16,
          16,
          16,
          16,
          16,
          16,
          16,
          16
         ],
         "y": [
          0.7380053311842547,
          0.7223032072598811,
          0.8842664588462424,
          0.6311218424181211,
          0.6409336684339308,
          0.7277774360070239,
          0.6652309991856874,
          0.7679999003810425,
          0.6710297461836661,
          0.7136815700541297,
          0.6731275973228489,
          0.6417243204507282,
          0.5362262852589833,
          0.5133194627774047,
          0.651124752750034,
          0.6903927545715222,
          0.5841073783212947,
          0.6161907597809306,
          0.6321519349992173,
          0.574334999662856,
          0.6017451307945965,
          0.65586545585008,
          0.6605754996588398
         ]
        },
        {
         "marker": {
          "color": "rgba(152, 0, 0, .8)"
         },
         "mode": "markers",
         "type": "scatter",
         "x": [
          17,
          17,
          17,
          17,
          17,
          17,
          17,
          17,
          17,
          17,
          17,
          17,
          17,
          17,
          17,
          17,
          17,
          17,
          17,
          17,
          17,
          17,
          17
         ],
         "y": [
          0.4225048792511752,
          0.40099912661152304,
          0.4136807240652509,
          0.42454418247430264,
          0.4366559413422925,
          0.44079793038021814,
          0.4490168845727667,
          0.46931065597167754,
          0.428799854573821,
          0.43564212833879606,
          0.4672469858011552,
          0.4797027354423592,
          0.3111663759227849,
          0.33028606403610994,
          0.43804523427941394,
          0.48736176755136945,
          0.4462123819970359,
          0.46504963002334376,
          0.4400011992764365,
          0.4725042407447316,
          0.43424162318950404,
          0.4233431646173177,
          0.43259607774833575
         ]
        },
        {
         "marker": {
          "color": "rgba(152, 0, 0, .8)"
         },
         "mode": "markers",
         "type": "scatter",
         "x": [
          18,
          18,
          18,
          18,
          18,
          18,
          18,
          18,
          18,
          18,
          18,
          18,
          18,
          18,
          18,
          18,
          18,
          18,
          18,
          18,
          18,
          18,
          18
         ],
         "y": [
          0.17702530071694558,
          0.13335789926214486,
          0.16799447386599123,
          0.2115487801028943,
          0.25432313866881034,
          0.2160278971277226,
          0.2251996362591718,
          0.24571877951451085,
          0.18851133185848135,
          0.20927239631372388,
          0.24489358047604615,
          0.2726303011043756,
          0.2775748942155047,
          0.2820544982792272,
          0.3019700755977316,
          0.21817376230136745,
          0.2736385171009487,
          0.2115081490394631,
          0.24756174885596804,
          0.33344218903078326,
          0.24353074930924834,
          0.16701922613972228,
          0.23195351477912654
         ]
        },
        {
         "marker": {
          "color": "rgba(152, 0, 0, .8)"
         },
         "mode": "markers",
         "type": "scatter",
         "x": [
          19,
          19,
          19,
          19,
          19,
          19,
          19,
          19,
          19,
          19,
          19,
          19,
          19,
          19,
          19,
          19,
          19,
          19,
          19,
          19,
          19,
          19,
          19
         ],
         "y": [
          0.05524728215496923,
          0.04570656911444995,
          0.05307922563276005,
          0.04815937042998875,
          0.0604801201639073,
          0.06186410403357845,
          0.05942108184816628,
          0.07222374417851717,
          0.05506428137141829,
          0.07095772022765896,
          0.052496038615511505,
          0.04673016414333469,
          0.0759958229460303,
          0.08093041001761916,
          0.07023662063466608,
          0.07406090093623009,
          0.06385141836937115,
          0.06406627770251662,
          0.05658808074683829,
          0.050293976489813624,
          0.05557138046841894,
          0.05744622691473187,
          0.06047594623365895
         ]
        },
        {
         "marker": {
          "color": "rgba(152, 0, 0, .8)"
         },
         "mode": "markers",
         "type": "scatter",
         "x": [
          20,
          20,
          20,
          20,
          20,
          20,
          20,
          20,
          20,
          20,
          20,
          20,
          20,
          20,
          20,
          20,
          20,
          20,
          20,
          20,
          20,
          20,
          20
         ],
         "y": [
          0.04176266195921221,
          0.05266531313687081,
          0.040794204644078,
          0.03424549442918915,
          0.033661088445368005,
          0.040062727524885405,
          0.03875006209945849,
          0.0397039018063599,
          0.04218065143515696,
          0.040540074367115306,
          0.0395112563113956,
          0.039625370700671486,
          0.0357343345385623,
          0.03534926896047569,
          0.03211358579085677,
          0.037733440035749875,
          0.03356666511079734,
          0.040407284286993334,
          0.036622348960571566,
          0.029139832855822608,
          0.03890447699189232,
          0.04024536275574152,
          0.03833270032487385
         ]
        },
        {
         "marker": {
          "color": "rgba(255, 255, 255, 1)"
         },
         "mode": "markers",
         "type": "scatter",
         "x": [
          1,
          2,
          3,
          4,
          5,
          6,
          7,
          8,
          9,
          10,
          11,
          12,
          13,
          14,
          15,
          16,
          17,
          18,
          19,
          20
         ],
         "y": [
          27.08288469982617,
          10.737746056567481,
          9.111914683542752,
          8.508537190080778,
          7.438148688723541,
          6.884278576433795,
          5.09001508271501,
          3.8772883000733485,
          3.0959506493777593,
          3.0289700105085187,
          2.566346688410229,
          2.2826556891374334,
          1.9395968967720607,
          1.9305244281872402,
          1.5285953291023153,
          0.6605754996588398,
          0.43259607774833575,
          0.23195351477912654,
          0.06047594623365895,
          0.03833270032487385,
          0.01016395514621417
         ]
        }
       ],
       "layout": {
        "template": {
         "data": {
          "bar": [
           {
            "error_x": {
             "color": "#2a3f5f"
            },
            "error_y": {
             "color": "#2a3f5f"
            },
            "marker": {
             "line": {
              "color": "#E5ECF6",
              "width": 0.5
             }
            },
            "type": "bar"
           }
          ],
          "barpolar": [
           {
            "marker": {
             "line": {
              "color": "#E5ECF6",
              "width": 0.5
             }
            },
            "type": "barpolar"
           }
          ],
          "carpet": [
           {
            "aaxis": {
             "endlinecolor": "#2a3f5f",
             "gridcolor": "white",
             "linecolor": "white",
             "minorgridcolor": "white",
             "startlinecolor": "#2a3f5f"
            },
            "baxis": {
             "endlinecolor": "#2a3f5f",
             "gridcolor": "white",
             "linecolor": "white",
             "minorgridcolor": "white",
             "startlinecolor": "#2a3f5f"
            },
            "type": "carpet"
           }
          ],
          "choropleth": [
           {
            "colorbar": {
             "outlinewidth": 0,
             "ticks": ""
            },
            "type": "choropleth"
           }
          ],
          "contour": [
           {
            "colorbar": {
             "outlinewidth": 0,
             "ticks": ""
            },
            "colorscale": [
             [
              0,
              "#0d0887"
             ],
             [
              0.1111111111111111,
              "#46039f"
             ],
             [
              0.2222222222222222,
              "#7201a8"
             ],
             [
              0.3333333333333333,
              "#9c179e"
             ],
             [
              0.4444444444444444,
              "#bd3786"
             ],
             [
              0.5555555555555556,
              "#d8576b"
             ],
             [
              0.6666666666666666,
              "#ed7953"
             ],
             [
              0.7777777777777778,
              "#fb9f3a"
             ],
             [
              0.8888888888888888,
              "#fdca26"
             ],
             [
              1,
              "#f0f921"
             ]
            ],
            "type": "contour"
           }
          ],
          "contourcarpet": [
           {
            "colorbar": {
             "outlinewidth": 0,
             "ticks": ""
            },
            "type": "contourcarpet"
           }
          ],
          "heatmap": [
           {
            "colorbar": {
             "outlinewidth": 0,
             "ticks": ""
            },
            "colorscale": [
             [
              0,
              "#0d0887"
             ],
             [
              0.1111111111111111,
              "#46039f"
             ],
             [
              0.2222222222222222,
              "#7201a8"
             ],
             [
              0.3333333333333333,
              "#9c179e"
             ],
             [
              0.4444444444444444,
              "#bd3786"
             ],
             [
              0.5555555555555556,
              "#d8576b"
             ],
             [
              0.6666666666666666,
              "#ed7953"
             ],
             [
              0.7777777777777778,
              "#fb9f3a"
             ],
             [
              0.8888888888888888,
              "#fdca26"
             ],
             [
              1,
              "#f0f921"
             ]
            ],
            "type": "heatmap"
           }
          ],
          "heatmapgl": [
           {
            "colorbar": {
             "outlinewidth": 0,
             "ticks": ""
            },
            "colorscale": [
             [
              0,
              "#0d0887"
             ],
             [
              0.1111111111111111,
              "#46039f"
             ],
             [
              0.2222222222222222,
              "#7201a8"
             ],
             [
              0.3333333333333333,
              "#9c179e"
             ],
             [
              0.4444444444444444,
              "#bd3786"
             ],
             [
              0.5555555555555556,
              "#d8576b"
             ],
             [
              0.6666666666666666,
              "#ed7953"
             ],
             [
              0.7777777777777778,
              "#fb9f3a"
             ],
             [
              0.8888888888888888,
              "#fdca26"
             ],
             [
              1,
              "#f0f921"
             ]
            ],
            "type": "heatmapgl"
           }
          ],
          "histogram": [
           {
            "marker": {
             "colorbar": {
              "outlinewidth": 0,
              "ticks": ""
             }
            },
            "type": "histogram"
           }
          ],
          "histogram2d": [
           {
            "colorbar": {
             "outlinewidth": 0,
             "ticks": ""
            },
            "colorscale": [
             [
              0,
              "#0d0887"
             ],
             [
              0.1111111111111111,
              "#46039f"
             ],
             [
              0.2222222222222222,
              "#7201a8"
             ],
             [
              0.3333333333333333,
              "#9c179e"
             ],
             [
              0.4444444444444444,
              "#bd3786"
             ],
             [
              0.5555555555555556,
              "#d8576b"
             ],
             [
              0.6666666666666666,
              "#ed7953"
             ],
             [
              0.7777777777777778,
              "#fb9f3a"
             ],
             [
              0.8888888888888888,
              "#fdca26"
             ],
             [
              1,
              "#f0f921"
             ]
            ],
            "type": "histogram2d"
           }
          ],
          "histogram2dcontour": [
           {
            "colorbar": {
             "outlinewidth": 0,
             "ticks": ""
            },
            "colorscale": [
             [
              0,
              "#0d0887"
             ],
             [
              0.1111111111111111,
              "#46039f"
             ],
             [
              0.2222222222222222,
              "#7201a8"
             ],
             [
              0.3333333333333333,
              "#9c179e"
             ],
             [
              0.4444444444444444,
              "#bd3786"
             ],
             [
              0.5555555555555556,
              "#d8576b"
             ],
             [
              0.6666666666666666,
              "#ed7953"
             ],
             [
              0.7777777777777778,
              "#fb9f3a"
             ],
             [
              0.8888888888888888,
              "#fdca26"
             ],
             [
              1,
              "#f0f921"
             ]
            ],
            "type": "histogram2dcontour"
           }
          ],
          "mesh3d": [
           {
            "colorbar": {
             "outlinewidth": 0,
             "ticks": ""
            },
            "type": "mesh3d"
           }
          ],
          "parcoords": [
           {
            "line": {
             "colorbar": {
              "outlinewidth": 0,
              "ticks": ""
             }
            },
            "type": "parcoords"
           }
          ],
          "pie": [
           {
            "automargin": true,
            "type": "pie"
           }
          ],
          "scatter": [
           {
            "marker": {
             "colorbar": {
              "outlinewidth": 0,
              "ticks": ""
             }
            },
            "type": "scatter"
           }
          ],
          "scatter3d": [
           {
            "line": {
             "colorbar": {
              "outlinewidth": 0,
              "ticks": ""
             }
            },
            "marker": {
             "colorbar": {
              "outlinewidth": 0,
              "ticks": ""
             }
            },
            "type": "scatter3d"
           }
          ],
          "scattercarpet": [
           {
            "marker": {
             "colorbar": {
              "outlinewidth": 0,
              "ticks": ""
             }
            },
            "type": "scattercarpet"
           }
          ],
          "scattergeo": [
           {
            "marker": {
             "colorbar": {
              "outlinewidth": 0,
              "ticks": ""
             }
            },
            "type": "scattergeo"
           }
          ],
          "scattergl": [
           {
            "marker": {
             "colorbar": {
              "outlinewidth": 0,
              "ticks": ""
             }
            },
            "type": "scattergl"
           }
          ],
          "scattermapbox": [
           {
            "marker": {
             "colorbar": {
              "outlinewidth": 0,
              "ticks": ""
             }
            },
            "type": "scattermapbox"
           }
          ],
          "scatterpolar": [
           {
            "marker": {
             "colorbar": {
              "outlinewidth": 0,
              "ticks": ""
             }
            },
            "type": "scatterpolar"
           }
          ],
          "scatterpolargl": [
           {
            "marker": {
             "colorbar": {
              "outlinewidth": 0,
              "ticks": ""
             }
            },
            "type": "scatterpolargl"
           }
          ],
          "scatterternary": [
           {
            "marker": {
             "colorbar": {
              "outlinewidth": 0,
              "ticks": ""
             }
            },
            "type": "scatterternary"
           }
          ],
          "surface": [
           {
            "colorbar": {
             "outlinewidth": 0,
             "ticks": ""
            },
            "colorscale": [
             [
              0,
              "#0d0887"
             ],
             [
              0.1111111111111111,
              "#46039f"
             ],
             [
              0.2222222222222222,
              "#7201a8"
             ],
             [
              0.3333333333333333,
              "#9c179e"
             ],
             [
              0.4444444444444444,
              "#bd3786"
             ],
             [
              0.5555555555555556,
              "#d8576b"
             ],
             [
              0.6666666666666666,
              "#ed7953"
             ],
             [
              0.7777777777777778,
              "#fb9f3a"
             ],
             [
              0.8888888888888888,
              "#fdca26"
             ],
             [
              1,
              "#f0f921"
             ]
            ],
            "type": "surface"
           }
          ],
          "table": [
           {
            "cells": {
             "fill": {
              "color": "#EBF0F8"
             },
             "line": {
              "color": "white"
             }
            },
            "header": {
             "fill": {
              "color": "#C8D4E3"
             },
             "line": {
              "color": "white"
             }
            },
            "type": "table"
           }
          ]
         },
         "layout": {
          "annotationdefaults": {
           "arrowcolor": "#2a3f5f",
           "arrowhead": 0,
           "arrowwidth": 1
          },
          "coloraxis": {
           "colorbar": {
            "outlinewidth": 0,
            "ticks": ""
           }
          },
          "colorscale": {
           "diverging": [
            [
             0,
             "#8e0152"
            ],
            [
             0.1,
             "#c51b7d"
            ],
            [
             0.2,
             "#de77ae"
            ],
            [
             0.3,
             "#f1b6da"
            ],
            [
             0.4,
             "#fde0ef"
            ],
            [
             0.5,
             "#f7f7f7"
            ],
            [
             0.6,
             "#e6f5d0"
            ],
            [
             0.7,
             "#b8e186"
            ],
            [
             0.8,
             "#7fbc41"
            ],
            [
             0.9,
             "#4d9221"
            ],
            [
             1,
             "#276419"
            ]
           ],
           "sequential": [
            [
             0,
             "#0d0887"
            ],
            [
             0.1111111111111111,
             "#46039f"
            ],
            [
             0.2222222222222222,
             "#7201a8"
            ],
            [
             0.3333333333333333,
             "#9c179e"
            ],
            [
             0.4444444444444444,
             "#bd3786"
            ],
            [
             0.5555555555555556,
             "#d8576b"
            ],
            [
             0.6666666666666666,
             "#ed7953"
            ],
            [
             0.7777777777777778,
             "#fb9f3a"
            ],
            [
             0.8888888888888888,
             "#fdca26"
            ],
            [
             1,
             "#f0f921"
            ]
           ],
           "sequentialminus": [
            [
             0,
             "#0d0887"
            ],
            [
             0.1111111111111111,
             "#46039f"
            ],
            [
             0.2222222222222222,
             "#7201a8"
            ],
            [
             0.3333333333333333,
             "#9c179e"
            ],
            [
             0.4444444444444444,
             "#bd3786"
            ],
            [
             0.5555555555555556,
             "#d8576b"
            ],
            [
             0.6666666666666666,
             "#ed7953"
            ],
            [
             0.7777777777777778,
             "#fb9f3a"
            ],
            [
             0.8888888888888888,
             "#fdca26"
            ],
            [
             1,
             "#f0f921"
            ]
           ]
          },
          "colorway": [
           "#636efa",
           "#EF553B",
           "#00cc96",
           "#ab63fa",
           "#FFA15A",
           "#19d3f3",
           "#FF6692",
           "#B6E880",
           "#FF97FF",
           "#FECB52"
          ],
          "font": {
           "color": "#2a3f5f"
          },
          "geo": {
           "bgcolor": "white",
           "lakecolor": "white",
           "landcolor": "#E5ECF6",
           "showlakes": true,
           "showland": true,
           "subunitcolor": "white"
          },
          "hoverlabel": {
           "align": "left"
          },
          "hovermode": "closest",
          "mapbox": {
           "style": "light"
          },
          "paper_bgcolor": "white",
          "plot_bgcolor": "#E5ECF6",
          "polar": {
           "angularaxis": {
            "gridcolor": "white",
            "linecolor": "white",
            "ticks": ""
           },
           "bgcolor": "#E5ECF6",
           "radialaxis": {
            "gridcolor": "white",
            "linecolor": "white",
            "ticks": ""
           }
          },
          "scene": {
           "xaxis": {
            "backgroundcolor": "#E5ECF6",
            "gridcolor": "white",
            "gridwidth": 2,
            "linecolor": "white",
            "showbackground": true,
            "ticks": "",
            "zerolinecolor": "white"
           },
           "yaxis": {
            "backgroundcolor": "#E5ECF6",
            "gridcolor": "white",
            "gridwidth": 2,
            "linecolor": "white",
            "showbackground": true,
            "ticks": "",
            "zerolinecolor": "white"
           },
           "zaxis": {
            "backgroundcolor": "#E5ECF6",
            "gridcolor": "white",
            "gridwidth": 2,
            "linecolor": "white",
            "showbackground": true,
            "ticks": "",
            "zerolinecolor": "white"
           }
          },
          "shapedefaults": {
           "line": {
            "color": "#2a3f5f"
           }
          },
          "ternary": {
           "aaxis": {
            "gridcolor": "white",
            "linecolor": "white",
            "ticks": ""
           },
           "baxis": {
            "gridcolor": "white",
            "linecolor": "white",
            "ticks": ""
           },
           "bgcolor": "#E5ECF6",
           "caxis": {
            "gridcolor": "white",
            "linecolor": "white",
            "ticks": ""
           }
          },
          "title": {
           "x": 0.05
          },
          "xaxis": {
           "automargin": true,
           "gridcolor": "white",
           "linecolor": "white",
           "ticks": "",
           "title": {
            "standoff": 15
           },
           "zerolinecolor": "white",
           "zerolinewidth": 2
          },
          "yaxis": {
           "automargin": true,
           "gridcolor": "white",
           "linecolor": "white",
           "ticks": "",
           "title": {
            "standoff": 15
           },
           "zerolinecolor": "white",
           "zerolinewidth": 2
          }
         }
        },
        "xaxis": {
         "tickmode": "array",
         "ticktext": [
          "Translation, ribosomal structure and biogenesis",
          "Energy production and conversion",
          "Amino acid transport and metabolism",
          "Carbohydrate transport and metabolism",
          "Cell wall/membrane/envelope biogenesis",
          "Posttranslational modification, protein turnover, chaperones",
          "Function unknown",
          "Replication, recombination and repair",
          "Transcription",
          "Nucleotide transport and metabolism",
          "Inorganic ion transport and metabolism",
          "General function prediction only",
          "Lipid transport and metabolism",
          "Signal transduction mechanisms",
          "Coenzyme transport and metabolism",
          "Intracellular trafficking, secretion, and vesicular transport",
          "Cell cycle control, cell division, chromosome partitioning",
          "Secondary metabolites biosynthesis, transport and catabolism",
          "Cell motility",
          "Defense mechanisms",
          "RNA processing and modification"
         ],
         "tickvals": [
          1,
          2,
          3,
          4,
          5,
          6,
          7,
          8,
          9,
          10,
          11,
          12,
          13,
          14,
          15,
          16,
          17,
          18,
          19,
          20
         ]
        }
       }
      }
     },
     "metadata": {},
     "output_type": "display_data"
    }
   ],
   "source": [
    "cog_in_percent_with_means = cog_in_percent\n",
    "cog_in_percent_with_means[\"means\"] = cog_in_percent.mean(axis=1)\n",
    "cog_in_percent_with_means = cog_in_percent_with_means.sort_values(by=['means'], ascending=False)\n",
    "means = cog_in_percent_with_means[\"means\"]\n",
    "#cog_in_percent_sorted = cog_in_percent_with_means.drop([\"means\"])\n",
    "\n",
    "\n",
    "# readying for plotting\n",
    "x = list(range(1, cog_in_percent_with_means.shape[0]))\n",
    "y = [tuple(list(cog_in_percent_with_means.iloc[i])) for i in range(0,cog_in_percent_with_means.shape[0])]\n",
    "\n",
    "\n",
    "fig = go.Figure()\n",
    "for xe, ye in zip(x, y):\n",
    "    #plt.scatter([xe] * len(ye), ye, color=\"blue\")\n",
    "    fig.add_trace(go.Scatter(\n",
    "    x=[xe] * len(ye), y=ye,\n",
    "    mode='markers',\n",
    "    marker_color='rgba(152, 0, 0, .8)'\n",
    "    ))\n",
    "\n",
    "fig.add_trace(go.Scatter(x=x, y=means, mode='markers',\n",
    "    marker_color='rgba(255, 255, 255, 1)'))\n",
    "\n",
    "fig.update_layout(\n",
    "    xaxis = dict(\n",
    "        tickmode = 'array',\n",
    "        tickvals = x,\n",
    "        ticktext = cog_in_percent_with_means.index\n",
    "    )\n",
    ")\n",
    "\n",
    "\n",
    "fig.show()\n",
    "\n"
   ]
  },
  {
   "cell_type": "code",
   "execution_count": 18,
   "metadata": {},
   "outputs": [
    {
     "name": "stdout",
     "output_type": "stream",
     "text": [
      "[0.60833932 0.20432166]\n"
     ]
    }
   ],
   "source": [
    "# proteomics data basic analysis\n",
    "from sklearn.decomposition import PCA\n",
    "X = proteomics_data.transpose()\n",
    "pca = PCA(n_components=2)\n",
    "pca.fit(X)\n",
    "PCA(n_components=2)\n",
    "print(pca.explained_variance_ratio_)\n",
    "\n",
    "principalComponents = pca.fit_transform(X)\n",
    "principalDf = pd.DataFrame(data = principalComponents, columns = ['principal component 1', 'principal component 2'], index=X.index)\n",
    "\n",
    "principal"
   ]
  },
  {
   "cell_type": "code",
   "execution_count": 25,
   "metadata": {},
   "outputs": [
    {
     "data": {
      "application/vnd.plotly.v1+json": {
       "config": {
        "plotlyServerURL": "https://plot.ly"
       },
       "data": [
        {
         "marker": {
          "color": [
           "rgb(51, 76,  58)",
           "rgb(157, 156,  44)",
           "rgb(238, 161,  194)",
           "rgb(240, 38,  163)",
           "rgb(9, 206,  236)",
           "rgb(83, 15,  123)",
           "rgb(190, 2,  218)",
           "rgb(185, 232,  30)",
           "rgb(10, 95,  9)",
           "rgb(180, 125,  122)",
           "rgb(181, 9,  220)",
           "rgb(65, 86,  91)",
           "rgb(210, 226,  100)",
           "rgb(194, 86,  228)",
           "rgb(140, 193,  222)",
           "rgb(44, 131,  55)",
           "rgb(226, 67,  111)",
           "rgb(15, 148,  150)",
           "rgb(41, 57,  39)",
           "rgb(249, 84,  12)",
           "rgb(44, 51,  0)",
           "rgb(165, 151,  218)"
          ],
          "size": 10
         },
         "mode": "markers+text",
         "text": [
          "glucose",
          "lb",
          "glycerol__aa",
          "acetate",
          "fumarate",
          "glucosamine",
          "glycerol",
          "pyruvate",
          "chemostat_µ05",
          "chemostat_µ035",
          "chemostat_µ020",
          "chemostat_µ012",
          "stationary_phase_1_day",
          "stationary_phase_3_days",
          "osmoticstress_glucose",
          "42c_glucose",
          "ph6_glucose",
          "xylose",
          "mannose",
          "galactose",
          "succinate",
          "fructose"
         ],
         "type": "scatter",
         "x": [
          0.0004677681637459495,
          0.00238951349751133,
          0.001483740461687825,
          -0.0006960151778665574,
          -0.00022660066751956762,
          -8.171364480909052e-05,
          4.917996741188495e-05,
          -7.069584350255724e-05,
          -0.00017265094534696138,
          -0.0006014104792329662,
          -0.000835747540337255,
          -0.0009661005546706047,
          -0.0006945430284007172,
          -0.0006939839500007555,
          0.0002560121979954324,
          0.00038886924221560274,
          0.000197234890528948,
          0.0003274027956886615,
          -0.0001521454403240919,
          -0.000656622655700864,
          -9.939821770780545e-05,
          0.0003879069286341642
         ],
         "y": [
          0.00011723357294573611,
          -0.00018149409432117268,
          -0.00015384708914534503,
          -0.0005477349652886904,
          -0.0002729454587974633,
          4.25002202188755e-06,
          -6.083192553751595e-05,
          -0.0001318710228384686,
          -0.00017882254928034807,
          -0.00039157848520107545,
          -0.0004022181635676631,
          -0.00040444829387028977,
          0.001093534209615638,
          0.001043693231480952,
          0.0003710339595174034,
          8.771902395573418e-05,
          0.0007225846827746629,
          0.00015569136862868106,
          -0.0003318553272120663,
          -0.0003533451576537193,
          -0.0002363292322989849,
          5.1581694072109864e-05
         ]
        }
       ],
       "layout": {
        "showlegend": true,
        "template": {
         "data": {
          "bar": [
           {
            "error_x": {
             "color": "#2a3f5f"
            },
            "error_y": {
             "color": "#2a3f5f"
            },
            "marker": {
             "line": {
              "color": "#E5ECF6",
              "width": 0.5
             }
            },
            "type": "bar"
           }
          ],
          "barpolar": [
           {
            "marker": {
             "line": {
              "color": "#E5ECF6",
              "width": 0.5
             }
            },
            "type": "barpolar"
           }
          ],
          "carpet": [
           {
            "aaxis": {
             "endlinecolor": "#2a3f5f",
             "gridcolor": "white",
             "linecolor": "white",
             "minorgridcolor": "white",
             "startlinecolor": "#2a3f5f"
            },
            "baxis": {
             "endlinecolor": "#2a3f5f",
             "gridcolor": "white",
             "linecolor": "white",
             "minorgridcolor": "white",
             "startlinecolor": "#2a3f5f"
            },
            "type": "carpet"
           }
          ],
          "choropleth": [
           {
            "colorbar": {
             "outlinewidth": 0,
             "ticks": ""
            },
            "type": "choropleth"
           }
          ],
          "contour": [
           {
            "colorbar": {
             "outlinewidth": 0,
             "ticks": ""
            },
            "colorscale": [
             [
              0,
              "#0d0887"
             ],
             [
              0.1111111111111111,
              "#46039f"
             ],
             [
              0.2222222222222222,
              "#7201a8"
             ],
             [
              0.3333333333333333,
              "#9c179e"
             ],
             [
              0.4444444444444444,
              "#bd3786"
             ],
             [
              0.5555555555555556,
              "#d8576b"
             ],
             [
              0.6666666666666666,
              "#ed7953"
             ],
             [
              0.7777777777777778,
              "#fb9f3a"
             ],
             [
              0.8888888888888888,
              "#fdca26"
             ],
             [
              1,
              "#f0f921"
             ]
            ],
            "type": "contour"
           }
          ],
          "contourcarpet": [
           {
            "colorbar": {
             "outlinewidth": 0,
             "ticks": ""
            },
            "type": "contourcarpet"
           }
          ],
          "heatmap": [
           {
            "colorbar": {
             "outlinewidth": 0,
             "ticks": ""
            },
            "colorscale": [
             [
              0,
              "#0d0887"
             ],
             [
              0.1111111111111111,
              "#46039f"
             ],
             [
              0.2222222222222222,
              "#7201a8"
             ],
             [
              0.3333333333333333,
              "#9c179e"
             ],
             [
              0.4444444444444444,
              "#bd3786"
             ],
             [
              0.5555555555555556,
              "#d8576b"
             ],
             [
              0.6666666666666666,
              "#ed7953"
             ],
             [
              0.7777777777777778,
              "#fb9f3a"
             ],
             [
              0.8888888888888888,
              "#fdca26"
             ],
             [
              1,
              "#f0f921"
             ]
            ],
            "type": "heatmap"
           }
          ],
          "heatmapgl": [
           {
            "colorbar": {
             "outlinewidth": 0,
             "ticks": ""
            },
            "colorscale": [
             [
              0,
              "#0d0887"
             ],
             [
              0.1111111111111111,
              "#46039f"
             ],
             [
              0.2222222222222222,
              "#7201a8"
             ],
             [
              0.3333333333333333,
              "#9c179e"
             ],
             [
              0.4444444444444444,
              "#bd3786"
             ],
             [
              0.5555555555555556,
              "#d8576b"
             ],
             [
              0.6666666666666666,
              "#ed7953"
             ],
             [
              0.7777777777777778,
              "#fb9f3a"
             ],
             [
              0.8888888888888888,
              "#fdca26"
             ],
             [
              1,
              "#f0f921"
             ]
            ],
            "type": "heatmapgl"
           }
          ],
          "histogram": [
           {
            "marker": {
             "colorbar": {
              "outlinewidth": 0,
              "ticks": ""
             }
            },
            "type": "histogram"
           }
          ],
          "histogram2d": [
           {
            "colorbar": {
             "outlinewidth": 0,
             "ticks": ""
            },
            "colorscale": [
             [
              0,
              "#0d0887"
             ],
             [
              0.1111111111111111,
              "#46039f"
             ],
             [
              0.2222222222222222,
              "#7201a8"
             ],
             [
              0.3333333333333333,
              "#9c179e"
             ],
             [
              0.4444444444444444,
              "#bd3786"
             ],
             [
              0.5555555555555556,
              "#d8576b"
             ],
             [
              0.6666666666666666,
              "#ed7953"
             ],
             [
              0.7777777777777778,
              "#fb9f3a"
             ],
             [
              0.8888888888888888,
              "#fdca26"
             ],
             [
              1,
              "#f0f921"
             ]
            ],
            "type": "histogram2d"
           }
          ],
          "histogram2dcontour": [
           {
            "colorbar": {
             "outlinewidth": 0,
             "ticks": ""
            },
            "colorscale": [
             [
              0,
              "#0d0887"
             ],
             [
              0.1111111111111111,
              "#46039f"
             ],
             [
              0.2222222222222222,
              "#7201a8"
             ],
             [
              0.3333333333333333,
              "#9c179e"
             ],
             [
              0.4444444444444444,
              "#bd3786"
             ],
             [
              0.5555555555555556,
              "#d8576b"
             ],
             [
              0.6666666666666666,
              "#ed7953"
             ],
             [
              0.7777777777777778,
              "#fb9f3a"
             ],
             [
              0.8888888888888888,
              "#fdca26"
             ],
             [
              1,
              "#f0f921"
             ]
            ],
            "type": "histogram2dcontour"
           }
          ],
          "mesh3d": [
           {
            "colorbar": {
             "outlinewidth": 0,
             "ticks": ""
            },
            "type": "mesh3d"
           }
          ],
          "parcoords": [
           {
            "line": {
             "colorbar": {
              "outlinewidth": 0,
              "ticks": ""
             }
            },
            "type": "parcoords"
           }
          ],
          "pie": [
           {
            "automargin": true,
            "type": "pie"
           }
          ],
          "scatter": [
           {
            "marker": {
             "colorbar": {
              "outlinewidth": 0,
              "ticks": ""
             }
            },
            "type": "scatter"
           }
          ],
          "scatter3d": [
           {
            "line": {
             "colorbar": {
              "outlinewidth": 0,
              "ticks": ""
             }
            },
            "marker": {
             "colorbar": {
              "outlinewidth": 0,
              "ticks": ""
             }
            },
            "type": "scatter3d"
           }
          ],
          "scattercarpet": [
           {
            "marker": {
             "colorbar": {
              "outlinewidth": 0,
              "ticks": ""
             }
            },
            "type": "scattercarpet"
           }
          ],
          "scattergeo": [
           {
            "marker": {
             "colorbar": {
              "outlinewidth": 0,
              "ticks": ""
             }
            },
            "type": "scattergeo"
           }
          ],
          "scattergl": [
           {
            "marker": {
             "colorbar": {
              "outlinewidth": 0,
              "ticks": ""
             }
            },
            "type": "scattergl"
           }
          ],
          "scattermapbox": [
           {
            "marker": {
             "colorbar": {
              "outlinewidth": 0,
              "ticks": ""
             }
            },
            "type": "scattermapbox"
           }
          ],
          "scatterpolar": [
           {
            "marker": {
             "colorbar": {
              "outlinewidth": 0,
              "ticks": ""
             }
            },
            "type": "scatterpolar"
           }
          ],
          "scatterpolargl": [
           {
            "marker": {
             "colorbar": {
              "outlinewidth": 0,
              "ticks": ""
             }
            },
            "type": "scatterpolargl"
           }
          ],
          "scatterternary": [
           {
            "marker": {
             "colorbar": {
              "outlinewidth": 0,
              "ticks": ""
             }
            },
            "type": "scatterternary"
           }
          ],
          "surface": [
           {
            "colorbar": {
             "outlinewidth": 0,
             "ticks": ""
            },
            "colorscale": [
             [
              0,
              "#0d0887"
             ],
             [
              0.1111111111111111,
              "#46039f"
             ],
             [
              0.2222222222222222,
              "#7201a8"
             ],
             [
              0.3333333333333333,
              "#9c179e"
             ],
             [
              0.4444444444444444,
              "#bd3786"
             ],
             [
              0.5555555555555556,
              "#d8576b"
             ],
             [
              0.6666666666666666,
              "#ed7953"
             ],
             [
              0.7777777777777778,
              "#fb9f3a"
             ],
             [
              0.8888888888888888,
              "#fdca26"
             ],
             [
              1,
              "#f0f921"
             ]
            ],
            "type": "surface"
           }
          ],
          "table": [
           {
            "cells": {
             "fill": {
              "color": "#EBF0F8"
             },
             "line": {
              "color": "white"
             }
            },
            "header": {
             "fill": {
              "color": "#C8D4E3"
             },
             "line": {
              "color": "white"
             }
            },
            "type": "table"
           }
          ]
         },
         "layout": {
          "annotationdefaults": {
           "arrowcolor": "#2a3f5f",
           "arrowhead": 0,
           "arrowwidth": 1
          },
          "coloraxis": {
           "colorbar": {
            "outlinewidth": 0,
            "ticks": ""
           }
          },
          "colorscale": {
           "diverging": [
            [
             0,
             "#8e0152"
            ],
            [
             0.1,
             "#c51b7d"
            ],
            [
             0.2,
             "#de77ae"
            ],
            [
             0.3,
             "#f1b6da"
            ],
            [
             0.4,
             "#fde0ef"
            ],
            [
             0.5,
             "#f7f7f7"
            ],
            [
             0.6,
             "#e6f5d0"
            ],
            [
             0.7,
             "#b8e186"
            ],
            [
             0.8,
             "#7fbc41"
            ],
            [
             0.9,
             "#4d9221"
            ],
            [
             1,
             "#276419"
            ]
           ],
           "sequential": [
            [
             0,
             "#0d0887"
            ],
            [
             0.1111111111111111,
             "#46039f"
            ],
            [
             0.2222222222222222,
             "#7201a8"
            ],
            [
             0.3333333333333333,
             "#9c179e"
            ],
            [
             0.4444444444444444,
             "#bd3786"
            ],
            [
             0.5555555555555556,
             "#d8576b"
            ],
            [
             0.6666666666666666,
             "#ed7953"
            ],
            [
             0.7777777777777778,
             "#fb9f3a"
            ],
            [
             0.8888888888888888,
             "#fdca26"
            ],
            [
             1,
             "#f0f921"
            ]
           ],
           "sequentialminus": [
            [
             0,
             "#0d0887"
            ],
            [
             0.1111111111111111,
             "#46039f"
            ],
            [
             0.2222222222222222,
             "#7201a8"
            ],
            [
             0.3333333333333333,
             "#9c179e"
            ],
            [
             0.4444444444444444,
             "#bd3786"
            ],
            [
             0.5555555555555556,
             "#d8576b"
            ],
            [
             0.6666666666666666,
             "#ed7953"
            ],
            [
             0.7777777777777778,
             "#fb9f3a"
            ],
            [
             0.8888888888888888,
             "#fdca26"
            ],
            [
             1,
             "#f0f921"
            ]
           ]
          },
          "colorway": [
           "#636efa",
           "#EF553B",
           "#00cc96",
           "#ab63fa",
           "#FFA15A",
           "#19d3f3",
           "#FF6692",
           "#B6E880",
           "#FF97FF",
           "#FECB52"
          ],
          "font": {
           "color": "#2a3f5f"
          },
          "geo": {
           "bgcolor": "white",
           "lakecolor": "white",
           "landcolor": "#E5ECF6",
           "showlakes": true,
           "showland": true,
           "subunitcolor": "white"
          },
          "hoverlabel": {
           "align": "left"
          },
          "hovermode": "closest",
          "mapbox": {
           "style": "light"
          },
          "paper_bgcolor": "white",
          "plot_bgcolor": "#E5ECF6",
          "polar": {
           "angularaxis": {
            "gridcolor": "white",
            "linecolor": "white",
            "ticks": ""
           },
           "bgcolor": "#E5ECF6",
           "radialaxis": {
            "gridcolor": "white",
            "linecolor": "white",
            "ticks": ""
           }
          },
          "scene": {
           "xaxis": {
            "backgroundcolor": "#E5ECF6",
            "gridcolor": "white",
            "gridwidth": 2,
            "linecolor": "white",
            "showbackground": true,
            "ticks": "",
            "zerolinecolor": "white"
           },
           "yaxis": {
            "backgroundcolor": "#E5ECF6",
            "gridcolor": "white",
            "gridwidth": 2,
            "linecolor": "white",
            "showbackground": true,
            "ticks": "",
            "zerolinecolor": "white"
           },
           "zaxis": {
            "backgroundcolor": "#E5ECF6",
            "gridcolor": "white",
            "gridwidth": 2,
            "linecolor": "white",
            "showbackground": true,
            "ticks": "",
            "zerolinecolor": "white"
           }
          },
          "shapedefaults": {
           "line": {
            "color": "#2a3f5f"
           }
          },
          "ternary": {
           "aaxis": {
            "gridcolor": "white",
            "linecolor": "white",
            "ticks": ""
           },
           "baxis": {
            "gridcolor": "white",
            "linecolor": "white",
            "ticks": ""
           },
           "bgcolor": "#E5ECF6",
           "caxis": {
            "gridcolor": "white",
            "linecolor": "white",
            "ticks": ""
           }
          },
          "title": {
           "x": 0.05
          },
          "xaxis": {
           "automargin": true,
           "gridcolor": "white",
           "linecolor": "white",
           "ticks": "",
           "title": {
            "standoff": 15
           },
           "zerolinecolor": "white",
           "zerolinewidth": 2
          },
          "yaxis": {
           "automargin": true,
           "gridcolor": "white",
           "linecolor": "white",
           "ticks": "",
           "title": {
            "standoff": 15
           },
           "zerolinecolor": "white",
           "zerolinewidth": 2
          }
         }
        }
       }
      }
     },
     "metadata": {},
     "output_type": "display_data"
    }
   ],
   "source": [
    "pca_plot = go.Figure()\n",
    "pca_plot.add_trace(go.Scatter(x=principalDf['principal component 1'], y=principalDf['principal component 2'], mode='markers+text', text=principalDf.index, marker=dict(color=[f'rgb({np.random.randint(0,256)}, {np.random.randint(0,256)},  {np.random.randint(0,256)})' \\\n",
    " for _ in range(principalDf.shape[0])],size=10)))\n",
    "\n",
    "pca_plot.update_layout(showlegend=True)\n",
    "\n"
   ]
  },
  {
   "cell_type": "code",
   "execution_count": 15,
   "metadata": {},
   "outputs": [],
   "source": []
  },
  {
   "cell_type": "code",
   "execution_count": null,
   "metadata": {},
   "outputs": [],
   "source": []
  },
  {
   "cell_type": "code",
   "execution_count": 30,
   "metadata": {},
   "outputs": [
    {
     "name": "stdout",
     "output_type": "stream",
     "text": [
      "reactions left: 100.0%\n",
      "spontaneous reactions removed\n",
      "reactions left: 83.55457227138643%\n",
      "0.4298431538787622\n"
     ]
    },
    {
     "data": {
      "text/plain": [
       "[None,\n",
       " None,\n",
       " None,\n",
       " None,\n",
       " None,\n",
       " None,\n",
       " None,\n",
       " None,\n",
       " None,\n",
       " None,\n",
       " None,\n",
       " None,\n",
       " None,\n",
       " None,\n",
       " None,\n",
       " None,\n",
       " None,\n",
       " None,\n",
       " None,\n",
       " None,\n",
       " None,\n",
       " None,\n",
       " None,\n",
       " None,\n",
       " None,\n",
       " None,\n",
       " None,\n",
       " None,\n",
       " None,\n",
       " None,\n",
       " None,\n",
       " None,\n",
       " None,\n",
       " None,\n",
       " None,\n",
       " None,\n",
       " None,\n",
       " None,\n",
       " None,\n",
       " None,\n",
       " None,\n",
       " None,\n",
       " None,\n",
       " None,\n",
       " None,\n",
       " None,\n",
       " None,\n",
       " None,\n",
       " None,\n",
       " None,\n",
       " None,\n",
       " None,\n",
       " None,\n",
       " None,\n",
       " None,\n",
       " None,\n",
       " None,\n",
       " None,\n",
       " None,\n",
       " None,\n",
       " None,\n",
       " None,\n",
       " None,\n",
       " None,\n",
       " None,\n",
       " None,\n",
       " None,\n",
       " None,\n",
       " None,\n",
       " None,\n",
       " None,\n",
       " None,\n",
       " None,\n",
       " None,\n",
       " None,\n",
       " None,\n",
       " None,\n",
       " None,\n",
       " None,\n",
       " None,\n",
       " None,\n",
       " None,\n",
       " None,\n",
       " None,\n",
       " None,\n",
       " None,\n",
       " None,\n",
       " None,\n",
       " None,\n",
       " None,\n",
       " None,\n",
       " None,\n",
       " None,\n",
       " None,\n",
       " None,\n",
       " None,\n",
       " None,\n",
       " None,\n",
       " None,\n",
       " None,\n",
       " None,\n",
       " None,\n",
       " None,\n",
       " None,\n",
       " None,\n",
       " None,\n",
       " None,\n",
       " None,\n",
       " None,\n",
       " None,\n",
       " None,\n",
       " None,\n",
       " None,\n",
       " None,\n",
       " None,\n",
       " None,\n",
       " None,\n",
       " None,\n",
       " None,\n",
       " None,\n",
       " None,\n",
       " None,\n",
       " None,\n",
       " None,\n",
       " None,\n",
       " None,\n",
       " None,\n",
       " None,\n",
       " None,\n",
       " None,\n",
       " None,\n",
       " None,\n",
       " None,\n",
       " None,\n",
       " None,\n",
       " None,\n",
       " None,\n",
       " None,\n",
       " None,\n",
       " None,\n",
       " None,\n",
       " None,\n",
       " None,\n",
       " None,\n",
       " None,\n",
       " None,\n",
       " None,\n",
       " None,\n",
       " None,\n",
       " None,\n",
       " None,\n",
       " None,\n",
       " None,\n",
       " None,\n",
       " None,\n",
       " None,\n",
       " None,\n",
       " None,\n",
       " None,\n",
       " None,\n",
       " None,\n",
       " None,\n",
       " None,\n",
       " None,\n",
       " None,\n",
       " None,\n",
       " None,\n",
       " None,\n",
       " None,\n",
       " None,\n",
       " None,\n",
       " None,\n",
       " None,\n",
       " None,\n",
       " None,\n",
       " None,\n",
       " None,\n",
       " None,\n",
       " None,\n",
       " None,\n",
       " None,\n",
       " None,\n",
       " None,\n",
       " None,\n",
       " None,\n",
       " None,\n",
       " None,\n",
       " None,\n",
       " None,\n",
       " None,\n",
       " None,\n",
       " None,\n",
       " None,\n",
       " None,\n",
       " None,\n",
       " None,\n",
       " None,\n",
       " None,\n",
       " None,\n",
       " None,\n",
       " None,\n",
       " None,\n",
       " None,\n",
       " None,\n",
       " None,\n",
       " None,\n",
       " None,\n",
       " None,\n",
       " None,\n",
       " None,\n",
       " None,\n",
       " None,\n",
       " None,\n",
       " None,\n",
       " None,\n",
       " None,\n",
       " None,\n",
       " None,\n",
       " None,\n",
       " None,\n",
       " None,\n",
       " None,\n",
       " None,\n",
       " None,\n",
       " None,\n",
       " None,\n",
       " None,\n",
       " None,\n",
       " None,\n",
       " None,\n",
       " None,\n",
       " None,\n",
       " None,\n",
       " None,\n",
       " None,\n",
       " None,\n",
       " None,\n",
       " None,\n",
       " None,\n",
       " None,\n",
       " None,\n",
       " None,\n",
       " None,\n",
       " None,\n",
       " None,\n",
       " None,\n",
       " None,\n",
       " None,\n",
       " None,\n",
       " None,\n",
       " None,\n",
       " None,\n",
       " None,\n",
       " None,\n",
       " None,\n",
       " None,\n",
       " None,\n",
       " None,\n",
       " None,\n",
       " None,\n",
       " None,\n",
       " None,\n",
       " None,\n",
       " None,\n",
       " None,\n",
       " None,\n",
       " None,\n",
       " None,\n",
       " None,\n",
       " None,\n",
       " None,\n",
       " None,\n",
       " None,\n",
       " None,\n",
       " None,\n",
       " None,\n",
       " None,\n",
       " None,\n",
       " None,\n",
       " None,\n",
       " None,\n",
       " None,\n",
       " None,\n",
       " None,\n",
       " None,\n",
       " None,\n",
       " None,\n",
       " None,\n",
       " None,\n",
       " None,\n",
       " None,\n",
       " None,\n",
       " None,\n",
       " None,\n",
       " None,\n",
       " None,\n",
       " None,\n",
       " None,\n",
       " None,\n",
       " None,\n",
       " None,\n",
       " None,\n",
       " None,\n",
       " None,\n",
       " None,\n",
       " None,\n",
       " None,\n",
       " None,\n",
       " None,\n",
       " None,\n",
       " None,\n",
       " None,\n",
       " None,\n",
       " None,\n",
       " None,\n",
       " None,\n",
       " None,\n",
       " None,\n",
       " None,\n",
       " None,\n",
       " None,\n",
       " None,\n",
       " None,\n",
       " None,\n",
       " None,\n",
       " None,\n",
       " None,\n",
       " None,\n",
       " None,\n",
       " None,\n",
       " None,\n",
       " None,\n",
       " None,\n",
       " None,\n",
       " None,\n",
       " None,\n",
       " None,\n",
       " None,\n",
       " None,\n",
       " None,\n",
       " None,\n",
       " None,\n",
       " None,\n",
       " None,\n",
       " None,\n",
       " None,\n",
       " None,\n",
       " None,\n",
       " None,\n",
       " None,\n",
       " None,\n",
       " None,\n",
       " None,\n",
       " None,\n",
       " None,\n",
       " None,\n",
       " None,\n",
       " None,\n",
       " None,\n",
       " None,\n",
       " None,\n",
       " None,\n",
       " None,\n",
       " None,\n",
       " None,\n",
       " None,\n",
       " None,\n",
       " None,\n",
       " None,\n",
       " None,\n",
       " None,\n",
       " None,\n",
       " None,\n",
       " None,\n",
       " None,\n",
       " None,\n",
       " None,\n",
       " None,\n",
       " None,\n",
       " None,\n",
       " None,\n",
       " None,\n",
       " None,\n",
       " None,\n",
       " None,\n",
       " None,\n",
       " None,\n",
       " None,\n",
       " None,\n",
       " None,\n",
       " None,\n",
       " None,\n",
       " None,\n",
       " None,\n",
       " None,\n",
       " None,\n",
       " None,\n",
       " None,\n",
       " None,\n",
       " None,\n",
       " None,\n",
       " None,\n",
       " None,\n",
       " None,\n",
       " None,\n",
       " None,\n",
       " None,\n",
       " None,\n",
       " None,\n",
       " None,\n",
       " None,\n",
       " None,\n",
       " None,\n",
       " None,\n",
       " None,\n",
       " None,\n",
       " None,\n",
       " None,\n",
       " None,\n",
       " None,\n",
       " None,\n",
       " None,\n",
       " None,\n",
       " None,\n",
       " None,\n",
       " None,\n",
       " None,\n",
       " None,\n",
       " None,\n",
       " None,\n",
       " None,\n",
       " None,\n",
       " None,\n",
       " None,\n",
       " None,\n",
       " None,\n",
       " None,\n",
       " None,\n",
       " None,\n",
       " None,\n",
       " None,\n",
       " None,\n",
       " None,\n",
       " None,\n",
       " None,\n",
       " None,\n",
       " None,\n",
       " None,\n",
       " None,\n",
       " None,\n",
       " None,\n",
       " None,\n",
       " None,\n",
       " None,\n",
       " None,\n",
       " None,\n",
       " None,\n",
       " None,\n",
       " None,\n",
       " None,\n",
       " None,\n",
       " None,\n",
       " None,\n",
       " None,\n",
       " None,\n",
       " None,\n",
       " None,\n",
       " None,\n",
       " None,\n",
       " None,\n",
       " None,\n",
       " None,\n",
       " None,\n",
       " None,\n",
       " None,\n",
       " None,\n",
       " None,\n",
       " None,\n",
       " None,\n",
       " None]"
      ]
     },
     "execution_count": 30,
     "metadata": {},
     "output_type": "execute_result"
    }
   ],
   "source": [
    "\n",
    "\n",
    "\n",
    "\n",
    "\n",
    "\n",
    "\n",
    "\n",
    "\n"
   ]
  },
  {
   "cell_type": "code",
   "execution_count": 32,
   "metadata": {},
   "outputs": [
    {
     "data": {
      "text/plain": [
       "614"
      ]
     },
     "execution_count": 32,
     "metadata": {},
     "output_type": "execute_result"
    }
   ],
   "source": [
    "len(holes)"
   ]
  }
 ],
 "metadata": {
  "kernelspec": {
   "display_name": "Python 3",
   "language": "python",
   "name": "python3"
  },
  "language_info": {
   "codemirror_mode": {
    "name": "ipython",
    "version": 3
   },
   "file_extension": ".py",
   "mimetype": "text/x-python",
   "name": "python",
   "nbconvert_exporter": "python",
   "pygments_lexer": "ipython3",
   "version": "3.7.6"
  }
 },
 "nbformat": 4,
 "nbformat_minor": 4
}
