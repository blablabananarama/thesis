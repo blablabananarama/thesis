{
 "cells": [
  {
   "cell_type": "code",
   "execution_count": 59,
   "metadata": {},
   "outputs": [
    {
     "name": "stdout",
     "output_type": "stream",
     "text": [
      "Standard variables loaded, you are good to go!\n"
     ]
    }
   ],
   "source": [
    "import os\n",
    "from dotenv import load_dotenv, find_dotenv\n",
    "from os.path import join, dirname, basename, exists, isdir\n",
    "\n",
    "### Load environmental variables from the project root directory ###\n",
    "# find .env automagically by walking up directories until it's found\n",
    "dotenv_path = find_dotenv()\n",
    "\n",
    "# load up the entries as environment variables\n",
    "load_dotenv(dotenv_path)\n",
    "\n",
    "# now you can get the variables using their names\n",
    "\n",
    "# Check whether a network drive has been specified\n",
    "DATABASE = os.environ.get(\"NETWORK_URL\")\n",
    "if DATABASE == 'None':\n",
    "    pass\n",
    "else:\n",
    "    pass\n",
    "    #mount network drive here\n",
    "\n",
    "# set up directory pathsa\n",
    "CURRENT_DIR = os.getcwd()\n",
    "PROJ = dirname(dotenv_path) # project root directory\n",
    "\n",
    "DATA = join(PROJ, 'data') #data directory\n",
    "RAW_EXTERNAL = join(DATA, 'raw_external') # external data raw directory\n",
    "RAW_INTERNAL = join(DATA, 'raw_internal') # internal data raw directory\n",
    "INTERMEDIATE = join(DATA, 'intermediate') # intermediate data directory\n",
    "FINAL = join(DATA, 'final') # final data directory\n",
    "\n",
    "RESULTS = join(PROJ, 'results') # output directory\n",
    "FIGURES = join(RESULTS, 'figures') # figure output directory\n",
    "PICTURES = join(RESULTS, 'pictures') # picture output directory\n",
    "\n",
    "\n",
    "# make folders specific for certain data\n",
    "folder_name = ''\n",
    "if folder_name != '':\n",
    "    #make folders if they don't exist\n",
    "    if not exists(join(RAW_EXTERNAL, folder_name)):\n",
    "        os.makedirs(join(RAW_EXTERNAL, folder_name))\n",
    "\n",
    "    if not exists(join(INTERMEDIATE, folder_name)):\n",
    "        os.makedirs(join(INTERMEDIATE, folder_name))\n",
    "\n",
    "    if not exists(join(FINAL, folder_name)):\n",
    "        os.makedirs(join(FINAL, folder_name))\n",
    "\n",
    "\n",
    "print('Standard variables loaded, you are good to go!')"
   ]
  },
  {
   "cell_type": "code",
   "execution_count": 60,
   "metadata": {},
   "outputs": [],
   "source": [
    "import cobra\n",
    "import os\n",
    "import pandas as pd\n",
    "import cameo\n",
    "import wget\n",
    "import ssl\n",
    "from scipy.stats import pearsonr\n",
    "\n",
    "\n",
    "#E. coli model:\n",
    "#eColi_model = cameo.load_model(\"iML1515\")\n",
    "\n",
    "\n",
    "#E. coli model:\n",
    "ssl._create_default_https_context = ssl._create_unverified_context\n",
    "wget.download(\"https://raw.githubusercontent.com/BenjaSanchez/notebooks/master/e_coli_simulations/eciML1515.xml\")\n",
    "eColi_Model = cobra.io.read_sbml_model(\"eciML1515.xml\")\n",
    "os.remove(\"eciML1515.xml\")\n",
    "\n",
    "\n",
    "# proteomics data:\n",
    "proteomics_dataset = f\"{INTERMEDIATE}/proteomics_concentrations.csv\"\n"
   ]
  },
  {
   "cell_type": "code",
   "execution_count": 61,
   "metadata": {},
   "outputs": [],
   "source": [
    "from collections import namedtuple\n",
    "from cobra.medium.boundary_types import find_external_compartment\n",
    "from cobra.io.dict import reaction_to_dict\n",
    "import pandas as pd\n",
    "import numpy as np"
   ]
  },
  {
   "cell_type": "code",
   "execution_count": 62,
   "metadata": {},
   "outputs": [],
   "source": [
    "from simulations.modeling.driven import (\n",
    "    adjust_fluxes2model,\n",
    "    flexibilize_proteomics,\n",
    "    minimize_distance,\n",
    ")"
   ]
  },
  {
   "cell_type": "code",
   "execution_count": 63,
   "metadata": {},
   "outputs": [],
   "source": [
    "def reset_proteomics():\n",
    "    data = pd.read_csv(proteomics_dataset)  # yeast\n",
    "    print(data.isna().values.any())\n",
    "    data = data.dropna()\n",
    "    print(data.isna().values.any())\n",
    "\n",
    "    data = data.reset_index(drop=True)\n",
    "        \n",
    "    # cols_measurements \n",
    "    cols_measurements = data.columns[data.columns.get_loc(\"glucose\"):data.columns.get_loc(\"fructose\")]\n",
    "\n",
    "    # cols uncertainties\n",
    "    cols_uncertainties = data.columns[data.columns.get_loc(\"glucose_uncertainty\"):data.columns.get_loc(\"fructose_uncertainty\")]\n",
    "\n",
    "    # E. coli\n",
    "    proteomics_all = dict()\n",
    "    for i in range(0,len(cols_measurements)):\n",
    "        measurement = cols_measurements[i]\n",
    "        proteomics = []\n",
    "        for j in range(0,data.shape[0]):\n",
    "            protein = {\"identifier\":data[\"Uniprot Accession\"][j], \\\n",
    "            \"measurement\":data[cols_measurements[i]][j], \\\n",
    "            \"uncertainty\":data[cols_uncertainties[i]][j]}\n",
    "            proteomics.append(protein)\n",
    "        proteomics_all[cols_measurements[i]] = proteomics\n",
    "    return(proteomics_all)\n"
   ]
  },
  {
   "cell_type": "code",
   "execution_count": 64,
   "metadata": {},
   "outputs": [
    {
     "name": "stdout",
     "output_type": "stream",
     "text": [
      "True\n",
      "False\n"
     ]
    }
   ],
   "source": [
    "proteomics_data_dict = reset_proteomics()\n",
    "#### change to proteomics concentrations !!!!!!!!!!!!!!!!!\n",
    "#print(proteomics_data_dict[\"Acetate\"])"
   ]
  },
  {
   "cell_type": "code",
   "execution_count": 65,
   "metadata": {},
   "outputs": [],
   "source": [
    "#solution = ecModel.optimize()\n",
    "# ecModel.reactions.CPGNR1.\n",
    "# eColi_Model.solver = 'glpk'"
   ]
  },
  {
   "cell_type": "code",
   "execution_count": 66,
   "metadata": {},
   "outputs": [],
   "source": [
    "# fake_proteomics = [\n",
    "#     {\"identifier\": \"P0A8V2\", \"measurement\": 5.03e-6, \"uncertainty\": 0},  # not in model\n",
    "#     {\"identifier\": \"P0AFG8\", \"measurement\": 8.2e-3, \"uncertainty\": 8.2e-6},  # will stay\n",
    "#     {\"identifier\": \"P15254\", \"measurement\": 6.54e-8, \"uncertainty\": 0},  # to remove\n",
    "#     {\"identifier\": \"P0A6C5\", \"measurement\": 5.93e-8, \"uncertainty\": 0},  # to remove\n",
    "# ]\n",
    "# measurements = compute_measurements(proteomics_data_dict[\"Glucose\"], ecModel)\n"
   ]
  },
  {
   "cell_type": "code",
   "execution_count": 67,
   "metadata": {},
   "outputs": [],
   "source": [
    "# # check if incorporation seems to work\n",
    "# new_growth_rate, new_proteomics, warnings = flexibilize_proteomics(ecModel, \"BIOMASS_Ec_iML1515_core_75p37M\", {\"measurement\":0.1, \"uncertainty\":0.01}, fake_proteomics)\n",
    "# print(new_growth_rate)\n",
    "# print(new_proteomics)\n",
    "# solution = ecModel.optimize()\n",
    "# print(solution)"
   ]
  },
  {
   "cell_type": "code",
   "execution_count": 68,
   "metadata": {},
   "outputs": [
    {
     "name": "stdout",
     "output_type": "stream",
     "text": [
      "Index(['glucose', 'lb', 'glycerolaa', 'acetate', 'fumarate', 'glucosamine',\n",
      "       'glycerol', 'pyruvate', 'chemostatµ05', 'chemostatµ035',\n",
      "       'chemostatµ020', 'chemostatµ012', 'stationaryphase1day',\n",
      "       'stationaryphase3days', 'osmoticstressglucose', '42cglucose',\n",
      "       'ph6glucose', 'xylose', 'mannose', 'galactose', 'succinate'],\n",
      "      dtype='object')\n"
     ]
    }
   ],
   "source": [
    "# run on real data and growth rates\n",
    "data = pd.read_csv(proteomics_dataset)\n",
    "cols_measurements = data.columns[data.columns.get_loc(\"glucose\"):data.columns.get_loc(\"fructose\")]\n",
    "\n",
    "growth_rates = pd.read_csv(f\"{RAW_INTERNAL}/proteomics/growth_conditions.csv\")\n",
    "growth_rates = growth_rates.drop(growth_rates.columns.difference(['Growth condition','Growth rate (h-1)', 'Stdev']), 1)\n",
    "growth_rates = growth_rates.drop([0,1], axis=0)\n",
    "\n",
    "print(cols_measurements)"
   ]
  },
  {
   "cell_type": "code",
   "execution_count": 69,
   "metadata": {},
   "outputs": [
    {
     "name": "stdout",
     "output_type": "stream",
     "text": [
      "EX_ac_e_REV\n",
      "[<Reaction EX_fum_e_REV at 0x145795160>]\n",
      "[]\n",
      "[<Reaction EX_pyr_e_REV at 0x1457b2ef0>]\n",
      "[]\n",
      "[]\n",
      "[]\n",
      "[<Reaction EX_succ_e_REV at 0x1457b2e80>]\n"
     ]
    },
    {
     "data": {
      "text/html": [
       "\n",
       "        <table>\n",
       "            <tr>\n",
       "                <td><strong>Metabolite identifier</strong></td><td>hdcea_c</td>\n",
       "            </tr><tr>\n",
       "                <td><strong>Name</strong></td><td>Hexadecenoate (n-C16:1) [cytosol]</td>\n",
       "            </tr><tr>\n",
       "                <td><strong>Memory address</strong></td>\n",
       "                <td>0x01340c50f0</td>\n",
       "            </tr><tr>\n",
       "                <td><strong>Formula</strong></td><td>C16H29O2</td>\n",
       "            </tr><tr>\n",
       "                <td><strong>Compartment</strong></td><td>c</td>\n",
       "            </tr><tr>\n",
       "                <td><strong>In 9 reaction(s)</strong></td><td>\n",
       "                    APH161No1, FACOAE161No1, LPLIPAL2G161No1, 2AGPGAT161No1, FA161ACPHiNo1, 2AGPEAT161No1, LPLIPAL2E161No1, LPLIPAL2A161No1, AACPS4No1</td>\n",
       "            </tr>\n",
       "        </table>"
      ],
      "text/plain": [
       "<Metabolite hdcea_c at 0x1340c50f0>"
      ]
     },
     "execution_count": 69,
     "metadata": {},
     "output_type": "execute_result"
    }
   ],
   "source": [
    "from cobra.medium import minimal_medium\n",
    "# create minimal media\n",
    "## find \n",
    "minimal_media = ['Glycerol + AA', 'Glucose', 'Glycerol', 'Acetate', 'Fumarate', 'Glucosamine',\\\n",
    "                 'Pyruvate', 'Xylose', 'Mannose', 'Galactose', 'Succinate']\n",
    "minimal_medium(eColi_Model)\n",
    "\n",
    "# all exchange reactions\n",
    "exchange_reactions = [i for i in eColi_Model.reactions if \"EX\" in i.id]\n",
    "\n",
    "# get the basic set of minimal medium exchange reactions\n",
    "basic_medium = minimal_medium(eColi_Model)\n",
    "\n",
    "def find_exchange_rxn(compound, model):\n",
    "    exchange_reactions = [i for i in model.reactions if \"EX\" in i.id]\n",
    "    compound_ex_rxn = [i for i in exchange_reactions if compound in i.name]\n",
    "    compound_ex_rxn = [i for i in compound_ex_rxn if len(list(i._metabolites.keys())) == 1 \\\n",
    "                       & (list(i._metabolites.values())[0] == 1.0) \\\n",
    "                        & (list(i._metabolites.keys())[0].name == compound + \" [extracellular space]\")]\n",
    "    return compound_ex_rxn\n",
    "\n",
    "def find_all_rxns_of_compound(compound, model):\n",
    "    compound_ex_rxn = [i for i in model.reactions if compound in i.name]\n",
    "\n",
    "\n",
    "# find glycerol exchange reaction\n",
    "gly_ex_rxns = [i for i in exchange_reactions if \"Glycerol\" in i.name]\n",
    "gly_ex = gly_ex_rxns[0]\n",
    "gly_ex = find_exchange_rxn(\"Glycerol\", eColi_Model)\n",
    "\n",
    "# find acetate exchange reaction\n",
    "ac_ex = find_exchange_rxn(\"Acetate\", eColi_Model)\n",
    "print(ac_ex[0].id)\n",
    "# find Fumarate\n",
    "fum_ex = find_exchange_rxn(\"Fumarate\", eColi_Model)\n",
    "print(fum_ex)\n",
    "# find Glucosamine\n",
    "glcam_ex = find_exchange_rxn(\"Glucosamine\", eColi_Model)\n",
    "print(glcam_ex)\n",
    "# find Pyruvate\n",
    "pyr_ex = find_exchange_rxn(\"Pyruvate\", eColi_Model)\n",
    "print(pyr_ex)\n",
    "# find Xylose\n",
    "xyl_ex = find_exchange_rxn(\"Xylose\", eColi_Model)\n",
    "print(xyl_ex)\n",
    "# find Mannose \n",
    "man_ex = find_exchange_rxn(\"Mannose\", eColi_Model)\n",
    "print(man_ex)\n",
    "# find Galactose\n",
    "gal_ex = find_exchange_rxn(\"Galactose\", eColi_Model)\n",
    "print(gal_ex)\n",
    "# find Succinate\n",
    "suc_ex = find_exchange_rxn(\"Succinate\", eColi_Model)\n",
    "print(suc_ex)\n",
    "list(eColi_Model.reactions.AACPS4No1.metabolites.keys())[0]"
   ]
  },
  {
   "cell_type": "code",
   "execution_count": 70,
   "metadata": {
    "scrolled": true
   },
   "outputs": [
    {
     "name": "stdout",
     "output_type": "stream",
     "text": [
      "<Solution 0.877 at 0x13c0894e0>\n",
      "<Solution 0.137 at 0x12fa93550>\n",
      "<Solution 0.479 at 0x134da8e48>\n",
      "<Solution 0.781 at 0x136474550>\n",
      "<Solution 1.073 at 0x13fd85eb8>\n"
     ]
    }
   ],
   "source": [
    "# get original medium\n",
    "original_medium = eColi_Model.medium\n",
    "\n",
    "# \n",
    "print(eColi_Model.optimize())\n",
    "\n",
    "# minimal medium with acetate\n",
    "acetate_growth_rate = list(growth_rates['Growth rate (h-1)'].loc[growth_rates['Growth condition'] == \"Acetate\"])[0]\n",
    "ac_model = eColi_Model.copy()\n",
    "ac_medium = original_medium\n",
    "ac_medium.pop(\"EX_glc__D_e_REV\", None)\n",
    "ac_medium[f'{ac_ex[0].id}'] = 10\n",
    "ac_model.medium = ac_medium\n",
    "# pyr_model.medium = minimal_medium(pyr_model).to_dict()\n",
    "print(ac_model.optimize())\n",
    "\n",
    "# minimal medium with succinate\n",
    "succinate_growth_rate = list(growth_rates['Growth rate (h-1)'].loc[growth_rates['Growth condition'] == \"Succinate\"])[0]\n",
    "suc_model = eColi_Model.copy()\n",
    "suc_medium = original_medium\n",
    "suc_medium.pop(\"EX_glc__D_e_REV\", None)\n",
    "suc_medium[f'{suc_ex[0].id}'] = 10\n",
    "suc_model.medium = suc_medium\n",
    "# pyr_model.medium = minimal_medium(pyr_model).to_dict()\n",
    "print(suc_model.optimize())\n",
    "\n",
    "# minimal medium with fumarate\n",
    "fumarate_growth_rate = list(growth_rates['Growth rate (h-1)'].loc[growth_rates['Growth condition'] == \"Fumarate\"])[0]\n",
    "fum_model = eColi_Model.copy()\n",
    "fum_medium = original_medium\n",
    "fum_medium.pop(\"EX_glc__D_e_REV\", None)\n",
    "fum_medium[f'{fum_ex[0].id}'] = 10\n",
    "fum_model.medium = fum_medium\n",
    "# pyr_model.medium = minimal_medium(pyr_model).to_dict()\n",
    "print(fum_model.optimize())\n",
    "\n",
    "# minimal medium with pyruvate\n",
    "pyruvate_growth_rate = list(growth_rates['Growth rate (h-1)'].loc[growth_rates['Growth condition'] == \"Pyruvate\"])[0]\n",
    "pyr_model = eColi_Model.copy()\n",
    "pyr_medium = original_medium\n",
    "pyr_medium.pop(\"EX_glc__D_e_REV\", None)\n",
    "pyr_medium[f'{pyr_ex[0].id}'] = 10\n",
    "pyr_model.medium = pyr_medium\n",
    "# pyr_model.medium = minimal_medium(pyr_model).to_dict()\n",
    "print(pyr_model.optimize())\n"
   ]
  },
  {
   "cell_type": "code",
   "execution_count": 71,
   "metadata": {},
   "outputs": [
    {
     "data": {
      "text/plain": [
       "<optlang.cplex_interface.Model at 0x12d7d1f98>"
      ]
     },
     "execution_count": 71,
     "metadata": {},
     "output_type": "execute_result"
    }
   ],
   "source": [
    "# run simulations\n",
    "# import simulations.src.simulations. as sim\n",
    "# # simulations.flexibilize_proteomics()\n",
    "\n",
    "# #proteomics_data_dict[\"succinate\"]\n",
    "\n",
    "# print(dir(sim))\n",
    "\n",
    "eColi_Model.solver"
   ]
  },
  {
   "cell_type": "code",
   "execution_count": 72,
   "metadata": {},
   "outputs": [],
   "source": [
    "# # # f = [i for i in proteomics_data_dict[\"chemostatµ012\"] if i['measurement'] == 0]\n",
    "# import math\n",
    "# chemo_data_dict = [{'measurement':i['measurement'], 'uncertainty':0, 'identifier':i['identifier']} \\\n",
    "#  if math.isnan(i['uncertainty']) else i for i in proteomics_data_dict[\"chemostatµ012\"]]\n",
    "# chemo_data_dict = [{'measurement':0, 'uncertainty':i['uncertainty'], 'identifier':i['identifier']} \\\n",
    "#  if math.isnan(i['measurement']) else i for i in proteomics_data_dict[\"chemostatµ012\"]]\n",
    "\n",
    "\n",
    "\n",
    "# growth_chemo = {\"measurement\":float(list(growth_rates['Growth rate (h-1)'].loc[growth_rates['Growth condition'] == \"chemostat µ=0.12\"])[0]),\\\n",
    "#     \"uncertainty\":float(list(growth_rates['Stdev'].loc[growth_rates['Growth condition'] == \"chemostat µ=0.12\"])[0])}\n",
    "# new_growth_rate_suc, new_proteomics_suc, warnings_suc = flexibilize_proteomics(eColi_Model,  \"BIOMASS_Ec_iML1515_core_75p37M\", 1, chemo_data_dict)\n",
    "# #growth_chemo"
   ]
  },
  {
   "cell_type": "code",
   "execution_count": 73,
   "metadata": {},
   "outputs": [
    {
     "name": "stdout",
     "output_type": "stream",
     "text": [
      "Number of proteins originally:  2058\n",
      "Number of proteins incorporated:  2057\n",
      "Number of proteins originally:  2058\n",
      "Number of proteins incorporated:  1979\n"
     ]
    }
   ],
   "source": [
    "# # acetate sim\n",
    "# print(\"Number of proteins originally: \", len(proteomics_data_dict[\"acetate\"]))\n",
    "# growth_ac = {\"measurement\":float(list(growth_rates['Growth rate (h-1)'].loc[growth_rates['Growth condition'] == \"Acetate\"])[0]),\\\n",
    "#     \"uncertainty\":float(list(growth_rates['Stdev'].loc[growth_rates['Growth condition'] == \"Acetate\"])[0])}\n",
    "# new_growth_rate_ac, new_proteomics_ac, warnings_ac = flexibilize_proteomics(ac_model,  \"BIOMASS_Ec_iML1515_core_75p37M\", growth_ac, proteomics_data_dict[\"acetate\"])\n",
    "# print(\"Number of proteins incorporated: \", len(new_proteomics_ac))\n",
    "# print(\"Original growth rate: \", growth_rates['Growth rate (h-1)'].loc[growth_rates['Growth condition'] == \"Acetate\"])\n",
    "# print(\"New growth rate: \", new_growth_rate_ac)\n",
    "\n",
    "\n",
    "# succinate sim\n",
    "print(\"Number of proteins originally: \", len(proteomics_data_dict[\"succinate\"]))\n",
    "growth_suc = {\"measurement\":float(list(growth_rates['Growth rate (h-1)'].loc[growth_rates['Growth condition'] == \"Succinate\"])[0]),\\\n",
    "    \"uncertainty\":float(list(growth_rates['Stdev'].loc[growth_rates['Growth condition'] == \"Succinate\"])[0])}\n",
    "new_growth_rate_suc, new_proteomics_suc, warnings_suc = flexibilize_proteomics(suc_model,  \"BIOMASS_Ec_iML1515_core_75p37M\", growth_suc, proteomics_data_dict[\"succinate\"], [])\n",
    "print(\"Number of proteins incorporated: \", len(new_proteomics_suc))\n",
    "\n",
    "# pyruvate sim\n",
    "print(\"Number of proteins originally: \", len(proteomics_data_dict[\"pyruvate\"]))\n",
    "growth_pyr = {\"measurement\":float(list(growth_rates['Growth rate (h-1)'].loc[growth_rates['Growth condition'] == \"Pyruvate\"])[0]),\\\n",
    "    \"uncertainty\":float(list(growth_rates['Stdev'].loc[growth_rates['Growth condition'] == \"Pyruvate\"])[0])}\n",
    "new_growth_rate_pyr, new_proteomics_pyr, warnings_pyr = flexibilize_proteomics(pyr_model,  \"BIOMASS_Ec_iML1515_core_75p37M\", growth_pyr, proteomics_data_dict[\"pyruvate\"], [])\n",
    "print(\"Number of proteins incorporated: \", len(new_proteomics_pyr))\n"
   ]
  },
  {
   "cell_type": "code",
   "execution_count": 74,
   "metadata": {},
   "outputs": [],
   "source": [
    "# proteomics_data_dict['succinate']"
   ]
  },
  {
   "cell_type": "code",
   "execution_count": 75,
   "metadata": {},
   "outputs": [
    {
     "name": "stderr",
     "output_type": "stream",
     "text": [
      "/Library/Python/3.7/site-packages/ipykernel_launcher.py:14: RuntimeWarning:\n",
      "\n",
      "invalid value encountered in double_scalars\n",
      "\n",
      "/Library/Python/3.7/site-packages/ipykernel_launcher.py:14: RuntimeWarning:\n",
      "\n",
      "divide by zero encountered in double_scalars\n",
      "\n",
      "/Library/Python/3.7/site-packages/ipykernel_launcher.py:28: RuntimeWarning:\n",
      "\n",
      "invalid value encountered in double_scalars\n",
      "\n"
     ]
    }
   ],
   "source": [
    "\n",
    "\n",
    "# usages of ac proteins\n",
    "# solution = cobra.flux_analysis.pfba(_model)\n",
    "solution = pyr_model.optimize()\n",
    "\n",
    "# suc model uages\n",
    "abs_usages_suc = pd.Series()\n",
    "perc_usages_suc = pd.Series()\n",
    "for reaction in suc_model.reactions:\n",
    "    if reaction.id.startswith(\"prot_\"):\n",
    "        prot_id = reaction.id.replace(\"prot_\",\"\")\n",
    "        prot_id = prot_id.replace(\"_exchange\",\"\")\n",
    "        abs_usage_suc = solution.fluxes[reaction.id]\n",
    "        abs_usages_suc = abs_usages_suc.append(pd.Series({prot_id:abs_usage_suc}))\n",
    "        perc_usage_suc = solution.fluxes[reaction.id]/reaction.upper_bound*100\n",
    "        perc_usages_suc = perc_usages_suc.append(pd.Series({prot_id:perc_usage_suc}))\n",
    "\n",
    "solution = pyr_model.optimize()\n",
    "\n",
    "# pyr model uages\n",
    "abs_usages_pyr = pd.Series()\n",
    "perc_usages_pyr = pd.Series()\n",
    "for reaction in pyr_model.reactions:\n",
    "    if reaction.id.startswith(\"prot_\"):\n",
    "        prot_id = reaction.id.replace(\"prot_\",\"\")\n",
    "        prot_id = prot_id.replace(\"_exchange\",\"\")\n",
    "        abs_usage_pyr = solution.fluxes[reaction.id]\n",
    "        abs_usages_pyr = abs_usages_pyr.append(pd.Series({prot_id:abs_usage_pyr}))\n",
    "        perc_usage_pyr = solution.fluxes[reaction.id]/reaction.upper_bound*100\n",
    "        perc_usages_pyr = perc_usages_pyr.append(pd.Series({prot_id:perc_usage_pyr}))\n",
    "\n"
   ]
  },
  {
   "cell_type": "code",
   "execution_count": 82,
   "metadata": {},
   "outputs": [],
   "source": [
    "# save absolute usages \n",
    "abs_usages_pyr.name = \"pyruvate\"\n",
    "abs_usages_pyr.to_frame().to_csv(join(INTERMEDIATE,'ec_incorporation_pyr.csv'))\n"
   ]
  },
  {
   "cell_type": "code",
   "execution_count": 53,
   "metadata": {},
   "outputs": [
    {
     "ename": "NameError",
     "evalue": "name 'usages' is not defined",
     "output_type": "error",
     "traceback": [
      "\u001b[0;31m---------------------------------------------------------------------------\u001b[0m",
      "\u001b[0;31mNameError\u001b[0m                                 Traceback (most recent call last)",
      "\u001b[0;32m<ipython-input-53-bd4aba0be486>\u001b[0m in \u001b[0;36m<module>\u001b[0;34m\u001b[0m\n\u001b[1;32m      1\u001b[0m \u001b[0mpd\u001b[0m\u001b[0;34m.\u001b[0m\u001b[0mset_option\u001b[0m\u001b[0;34m(\u001b[0m\u001b[0;34m'display.max_rows'\u001b[0m\u001b[0;34m,\u001b[0m \u001b[0;36m20000\u001b[0m\u001b[0;34m)\u001b[0m\u001b[0;34m\u001b[0m\u001b[0;34m\u001b[0m\u001b[0m\n\u001b[0;32m----> 2\u001b[0;31m \u001b[0musages\u001b[0m\u001b[0;34m.\u001b[0m\u001b[0msort_values\u001b[0m\u001b[0;34m(\u001b[0m\u001b[0mascending\u001b[0m\u001b[0;34m=\u001b[0m\u001b[0;32mFalse\u001b[0m\u001b[0;34m)\u001b[0m\u001b[0;34m\u001b[0m\u001b[0;34m\u001b[0m\u001b[0m\n\u001b[0m\u001b[1;32m      3\u001b[0m \u001b[0;34m\u001b[0m\u001b[0m\n\u001b[1;32m      4\u001b[0m \u001b[0;31m# [proteomics_data_dict[\"Acetate\"][] for i in usages.index]\u001b[0m\u001b[0;34m\u001b[0m\u001b[0;34m\u001b[0m\u001b[0;34m\u001b[0m\u001b[0m\n\u001b[1;32m      5\u001b[0m \u001b[0mproteomics_ac\u001b[0m \u001b[0;34m=\u001b[0m \u001b[0;34m{\u001b[0m\u001b[0mi\u001b[0m\u001b[0;34m[\u001b[0m\u001b[0;34m'identifier'\u001b[0m\u001b[0;34m]\u001b[0m\u001b[0;34m:\u001b[0m\u001b[0mi\u001b[0m\u001b[0;34m[\u001b[0m\u001b[0;34m'measurement'\u001b[0m\u001b[0;34m]\u001b[0m \u001b[0;32mfor\u001b[0m \u001b[0mi\u001b[0m \u001b[0;32min\u001b[0m \u001b[0mproteomics_data_dict\u001b[0m\u001b[0;34m[\u001b[0m\u001b[0;34m\"Acetate\"\u001b[0m\u001b[0;34m]\u001b[0m\u001b[0;34m}\u001b[0m\u001b[0;34m\u001b[0m\u001b[0;34m\u001b[0m\u001b[0m\n",
      "\u001b[0;31mNameError\u001b[0m: name 'usages' is not defined"
     ]
    }
   ],
   "source": [
    "\n",
    "pd.set_option('display.max_rows', 20000)\n",
    "usages.sort_values(ascending=False)\n",
    "\n",
    "# [proteomics_data_dict[\"Acetate\"][] for i in usages.index]\n",
    "proteomics_ac = {i['identifier']:i['measurement'] for i in proteomics_data_dict[\"Acetate\"]}\n",
    "# pd.DataFrame(computed=usages , measured = [proteomics_ac[i] for i in usages.index])\n",
    "print(\"amount of proteins\", len(usages)/len(proteomics_ac))\n",
    "# print(len(proteomics_ac))\n",
    "\n",
    "#pd.DataFrame(np.array(list(usages[usages.index.isin(proteomics_ac.keys())]), [proteomics_ac[i] for i in usages.index if i in proteomics_ac.keys()]), \\\n",
    "#             columns=[\"usages\", \"measured\"])\n",
    "\n",
    "usages_vs_measured = usages[usages.index.isin(proteomics_ac.keys())].to_frame()\n",
    "usages_vs_measured[\"measured\"] = [proteomics_ac[i] for i in usages.index if i in proteomics_ac.keys()]\n",
    "\n"
   ]
  },
  {
   "cell_type": "code",
   "execution_count": 46,
   "metadata": {},
   "outputs": [],
   "source": [
    "# change atpm\n",
    "\n",
    "# ac_model.reactions.ATPM.lower_bound = 6.86\n",
    "# ac_model.optimize()"
   ]
  },
  {
   "cell_type": "code",
   "execution_count": 21,
   "metadata": {},
   "outputs": [
    {
     "name": "stdout",
     "output_type": "stream",
     "text": [
      "(946, 2)\n",
      "(322, 2)\n"
     ]
    },
    {
     "data": {
      "text/plain": [
       "(-0.011983079284280943, 0.8303909964829509)"
      ]
     },
     "execution_count": 21,
     "metadata": {},
     "output_type": "execute_result"
    }
   ],
   "source": [
    "# correlation between measured proteins and actual proteins in the model\n",
    "non_zero_usage = usages_vs_measured[usages_vs_measured.iloc[:, 0] != 0]\n",
    "\n",
    "print(usages_vs_measured.shape)\n",
    "print(non_zero_usage.shape)\n",
    "\n",
    "pearsonr(non_zero_usage.iloc[:, 0], non_zero_usage.iloc[:, 1])"
   ]
  },
  {
   "cell_type": "code",
   "execution_count": 47,
   "metadata": {},
   "outputs": [],
   "source": [
    "# run all  \n",
    "# solutions = dict()\n",
    "# errors = []\n",
    "# counter = 0\n",
    "# for i in cols_measurements:\n",
    "#     counter += 1\n",
    "#     print(f\"Model {counter} of {len(cols_measurements)}\")\n",
    "\n",
    "#     new_growth_rate, new_proteomics, warnings = flexibilize_proteomics(eColi_Model, \"BIOMASS_Ec_iML1515_core_75p37M\", \\\n",
    "#     {\"measurement\":float(list(growth_rates['Growth rate (h-1)'].loc[growth_rates['Growth condition'] == i])[0]),\\\n",
    "#     \"uncertainty\":float(list(growth_rates['Stdev'].loc[growth_rates['Growth condition'] == i])[0])}, \\\n",
    "#     proteomics_data_dict[i])\n",
    "#     solutions[i] = eColi_Model.optimize()\n"
   ]
  }
 ],
 "metadata": {
  "file_extension": ".py",
  "kernelspec": {
   "display_name": "Python 3",
   "language": "python",
   "name": "python3"
  },
  "language_info": {
   "codemirror_mode": {
    "name": "ipython",
    "version": 3
   },
   "file_extension": ".py",
   "mimetype": "text/x-python",
   "name": "python",
   "nbconvert_exporter": "python",
   "pygments_lexer": "ipython3",
   "version": "3.7.3"
  },
  "mimetype": "text/x-python",
  "name": "python",
  "npconvert_exporter": "python",
  "pygments_lexer": "ipython3",
  "version": 3
 },
 "nbformat": 4,
 "nbformat_minor": 2
}
