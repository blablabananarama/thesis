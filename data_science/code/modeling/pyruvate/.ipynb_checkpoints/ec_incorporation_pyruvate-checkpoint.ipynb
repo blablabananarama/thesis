{
 "cells": [
  {
   "cell_type": "code",
   "execution_count": 3,
   "metadata": {},
   "outputs": [
    {
     "name": "stdout",
     "output_type": "stream",
     "text": [
      "Standard variables loaded, you are good to go!\n"
     ]
    }
   ],
   "source": [
    "import os\n",
    "from dotenv import load_dotenv, find_dotenv\n",
    "from os.path import join, dirname, basename, exists, isdir\n",
    "\n",
    "### Load environmental variables from the project root directory ###\n",
    "# find .env automagically by walking up directories until it's found\n",
    "dotenv_path = find_dotenv()\n",
    "\n",
    "# load up the entries as environment variables\n",
    "load_dotenv(dotenv_path)\n",
    "\n",
    "# now you can get the variables using their names\n",
    "\n",
    "# Check whether a network drive has been specified\n",
    "DATABASE = os.environ.get(\"NETWORK_URL\")\n",
    "if DATABASE == 'None':\n",
    "    pass\n",
    "else:\n",
    "    pass\n",
    "    #mount network drive here\n",
    "\n",
    "# set up directory pathsa\n",
    "CURRENT_DIR = os.getcwd()\n",
    "PROJ = dirname(dotenv_path) # project root directory\n",
    "\n",
    "DATA = join(PROJ, 'data') #data directory\n",
    "RAW_EXTERNAL = join(DATA, 'raw_external') # external data raw directory\n",
    "RAW_INTERNAL = join(DATA, 'raw_internal') # internal data raw directory\n",
    "INTERMEDIATE = join(DATA, 'intermediate') # intermediate data directory\n",
    "FINAL = join(DATA, 'final') # final data directory\n",
    "\n",
    "RESULTS = join(PROJ, 'results') # output directory\n",
    "FIGURES = join(RESULTS, 'figures') # figure output directory\n",
    "PICTURES = join(RESULTS, 'pictures') # picture output directory\n",
    "\n",
    "\n",
    "# make folders specific for certain data\n",
    "folder_name = ''\n",
    "if folder_name != '':\n",
    "    #make folders if they don't exist\n",
    "    if not exists(join(RAW_EXTERNAL, folder_name)):\n",
    "        os.makedirs(join(RAW_EXTERNAL, folder_name))\n",
    "\n",
    "    if not exists(join(INTERMEDIATE, folder_name)):\n",
    "        os.makedirs(join(INTERMEDIATE, folder_name))\n",
    "\n",
    "    if not exists(join(FINAL, folder_name)):\n",
    "        os.makedirs(join(FINAL, folder_name))\n",
    "\n",
    "\n",
    "print('Standard variables loaded, you are good to go!')"
   ]
  },
  {
   "cell_type": "code",
   "execution_count": 4,
   "metadata": {},
   "outputs": [],
   "source": [
    "import cobra\n",
    "import os\n",
    "import pandas as pd\n",
    "import cameo\n",
    "import wget\n",
    "import ssl\n",
    "from scipy.stats import pearsonr\n",
    "\n",
    "\n",
    "#E. coli model:\n",
    "#eColi_model = cameo.load_model(\"iML1515\")\n",
    "\n",
    "\n",
    "#E. coli model:\n",
    "ssl._create_default_https_context = ssl._create_unverified_context\n",
    "wget.download(\"https://raw.githubusercontent.com/BenjaSanchez/notebooks/master/e_coli_simulations/eciML1515.xml\")\n",
    "eColi_Model = cobra.io.read_sbml_model(\"eciML1515.xml\")\n",
    "os.remove(\"eciML1515.xml\")\n",
    "\n",
    "\n",
    "# proteomics data:\n",
    "proteomics_dataset = f\"{INTERMEDIATE}/proteomics/proteomics_concentrations.csv\"\n"
   ]
  },
  {
   "cell_type": "code",
   "execution_count": 5,
   "metadata": {},
   "outputs": [],
   "source": [
    "from collections import namedtuple\n",
    "from cobra.medium.boundary_types import find_external_compartment\n",
    "from cobra.io.dict import reaction_to_dict\n",
    "import pandas as pd\n",
    "import numpy as np"
   ]
  },
  {
   "cell_type": "code",
   "execution_count": 6,
   "metadata": {},
   "outputs": [],
   "source": [
    "from simulations.modeling.driven import (\n",
    "    adjust_fluxes2model,\n",
    "    flexibilize_proteomics,\n",
    "    minimize_distance,\n",
    ")"
   ]
  },
  {
   "cell_type": "code",
   "execution_count": null,
   "metadata": {},
   "outputs": [],
   "source": []
  },
  {
   "cell_type": "code",
   "execution_count": 7,
   "metadata": {},
   "outputs": [],
   "source": [
    "def reset_real_proteomics():\n",
    "    data = pd.read_csv(proteomics_dataset, index_col=\"UP\")  # yeast\n",
    "    data_dict = {}\n",
    "    for i in range(0,data.shape[1], 3):\n",
    "        uncertainty = data.iloc[:,i:i+3].std(axis=1)\n",
    "        uncertainty_name = data.columns[i]+ \"_uncertainty\"\n",
    "        data[uncertainty_name] = uncertainty\n",
    "        data_dict[data.columns[i]] = [{'identifier':data.index[j], 'measurement':data.iloc[j,i], 'uncertainty':data[uncertainty_name][j] }\\\n",
    "         for j in range(0, len(data.iloc[:,i]))]\n",
    "        data_dict[data.columns[i+1]] = [{'identifier':data.index[j], 'measurement':data.iloc[j,i+1], 'uncertainty':data[uncertainty_name][j] }\\\n",
    "         for j in range(0, len(data.iloc[:,i+1]))]\n",
    "        data_dict[data.columns[i+2]] = [{'identifier':data.index[j], 'measurement':data.iloc[j,i+2], 'uncertainty':data[uncertainty_name][j] }\\\n",
    "         for j in range(0, len(data.iloc[:,i+2]))]\n",
    "    return data_dict\n",
    "\n"
   ]
  },
  {
   "cell_type": "code",
   "execution_count": 8,
   "metadata": {},
   "outputs": [],
   "source": [
    "proteomics_data = reset_real_proteomics()\n",
    "\n",
    "growth_rates = pd.read_csv(f\"{RAW_INTERNAL}/proteomics/growth_conditions.csv\")\n",
    "growth_rates = growth_rates.drop(growth_rates.columns.difference(['Growth condition','Growth rate (h-1)', 'Stdev']), 1)\n",
    "growth_rates = growth_rates.drop([0,1], axis=0)"
   ]
  },
  {
   "cell_type": "code",
   "execution_count": 9,
   "metadata": {},
   "outputs": [
    {
     "name": "stdout",
     "output_type": "stream",
     "text": [
      "[<Reaction EX_pyr_e_REV at 0x120f93160>]\n",
      "<Solution 0.256 at 0x1269d4a20>\n"
     ]
    }
   ],
   "source": [
    "\n",
    "def find_exchange_rxn(compound, model):\n",
    "    exchange_reactions = [i for i in model.reactions if \"EX\" in i.id]\n",
    "    compound_ex_rxn = [i for i in exchange_reactions if compound in i.name]\n",
    "    compound_ex_rxn = [i for i in compound_ex_rxn if len(list(i._metabolites.keys())) == 1 \\\n",
    "                       & (list(i._metabolites.values())[0] == 1.0) \\\n",
    "                        & (list(i._metabolites.keys())[0].name == compound + \" [extracellular space]\")]\n",
    "    return compound_ex_rxn\n",
    "\n",
    "# minimal medium with pyruvate\n",
    "pyruvate_growth_rate = list(growth_rates['Growth rate (h-1)'].loc[growth_rates['Growth condition'] == \"Pyruvate\"])[0]\n",
    "pyr_model = eColi_Model.copy()\n",
    "pyr_medium = pyr_model.medium\n",
    "pyr_medium.pop(\"EX_glc__D_e_REV\", None)\n",
    "\n",
    "# find Pyruvate\n",
    "pyr_ex = find_exchange_rxn(\"Pyruvate\", eColi_Model)\n",
    "print(pyr_ex)\n",
    "\n",
    "\n",
    "pyr_medium[f'{pyr_ex[0].id}'] = 10\n",
    "pyr_model.medium = pyr_medium\n",
    "# pyr_model.medium = minimal_medium(pyr_model).to_dict()\n",
    "print(pyr_model.optimize())"
   ]
  },
  {
   "cell_type": "code",
   "execution_count": 10,
   "metadata": {},
   "outputs": [
    {
     "name": "stdout",
     "output_type": "stream",
     "text": [
      "Number of proteins originally:  2058\n",
      "Number of proteins incorporated:  1980\n",
      "Number of proteins originally:  2058\n",
      "Number of proteins incorporated:  1982\n",
      "Number of proteins originally:  2058\n",
      "Number of proteins incorporated:  1977\n"
     ]
    }
   ],
   "source": [
    "# pyruvate sim\n",
    "\n",
    "pyr_model_1 = pyr_model\n",
    "pyr_model_2 = pyr_model\n",
    "pyr_model_3 = pyr_model\n",
    "\n",
    "# first \n",
    "print(\"Number of proteins originally: \", len(proteomics_data[\"pyruvate\"]))\n",
    "growth_pyr = {\"measurement\":float(list(growth_rates['Growth rate (h-1)'].loc[growth_rates['Growth condition'] == \"Pyruvate\"])[0]),\\\n",
    "    \"uncertainty\":float(list(growth_rates['Stdev'].loc[growth_rates['Growth condition'] == \"Pyruvate\"])[0])}\n",
    "new_growth_rate_pyr, new_proteomics_pyr, warnings_pyr = flexibilize_proteomics(pyr_model_1,  \"BIOMASS_Ec_iML1515_core_75p37M\", growth_pyr, proteomics_data[\"pyruvate\"], [])\n",
    "print(\"Number of proteins incorporated: \", len(new_proteomics_pyr))\n",
    "\n",
    "# first \n",
    "print(\"Number of proteins originally: \", len(proteomics_data[\"pyruvate1\"]))\n",
    "growth_pyr = {\"measurement\":float(list(growth_rates['Growth rate (h-1)'].loc[growth_rates['Growth condition'] == \"Pyruvate\"])[0]),\\\n",
    "    \"uncertainty\":float(list(growth_rates['Stdev'].loc[growth_rates['Growth condition'] == \"Pyruvate\"])[0])}\n",
    "new_growth_rate_pyr, new_proteomics_pyr, warnings_pyr = flexibilize_proteomics(pyr_model_2,  \"BIOMASS_Ec_iML1515_core_75p37M\", growth_pyr, proteomics_data[\"pyruvate1\"], [])\n",
    "print(\"Number of proteins incorporated: \", len(new_proteomics_pyr))\n",
    "\n",
    "# first \n",
    "print(\"Number of proteins originally: \", len(proteomics_data[\"pyruvate2\"]))\n",
    "growth_pyr = {\"measurement\":float(list(growth_rates['Growth rate (h-1)'].loc[growth_rates['Growth condition'] == \"Pyruvate\"])[0]),\\\n",
    "    \"uncertainty\":float(list(growth_rates['Stdev'].loc[growth_rates['Growth condition'] == \"Pyruvate\"])[0])}\n",
    "new_growth_rate_pyr, new_proteomics_pyr, warnings_pyr = flexibilize_proteomics(pyr_model_3,  \"BIOMASS_Ec_iML1515_core_75p37M\", growth_pyr, proteomics_data[\"pyruvate2\"], [])\n",
    "print(\"Number of proteins incorporated: \", len(new_proteomics_pyr))\n"
   ]
  },
  {
   "cell_type": "code",
   "execution_count": 11,
   "metadata": {},
   "outputs": [],
   "source": [
    "\n",
    "\n",
    "# usages of ac proteins\n",
    "\n",
    "#solution = pyr_model.optimize()\n",
    "\n",
    "# pyr model uages\n",
    "\n",
    "\n",
    "def get_usages(prot_int_model):\n",
    "    # get the usages of a model integrated with proteomics\n",
    "    solution = cobra.flux_analysis.pfba(prot_int_model)\n",
    "    abs_usages = pd.Series()\n",
    "    perc_usages = pd.Series()\n",
    "    for reaction in prot_int_model.reactions:\n",
    "        if reaction.id.startswith(\"prot_\"):\n",
    "            prot_id = reaction.id.replace(\"prot_\",\"\")\n",
    "            prot_id = prot_id.replace(\"_exchange\",\"\")\n",
    "            abs_usage = solution.fluxes[reaction.id]\n",
    "            abs_usages = abs_usages.append(pd.Series({prot_id:abs_usage}))\n",
    "            perc_usage = solution.fluxes[reaction.id]/reaction.upper_bound*100\n",
    "            perc_usages = perc_usages.append(pd.Series({prot_id:perc_usage}))\n",
    "    return abs_usages, perc_usages\n",
    "\n",
    "# \n",
    "abs_usages_1, perc_usages_1 = get_usages(pyr_model_1)\n",
    "abs_usages_2, perc_usages_2 = get_usages(pyr_model_2)\n",
    "abs_usages_3, perc_usages_3 = get_usages(pyr_model_3)"
   ]
  },
  {
   "cell_type": "code",
   "execution_count": null,
   "metadata": {},
   "outputs": [],
   "source": []
  },
  {
   "cell_type": "code",
   "execution_count": 12,
   "metadata": {},
   "outputs": [
    {
     "data": {
      "image/png": "[encoded data removed]",
      "text/plain": [
       "<Figure size 432x288 with 1 Axes>"
      ]
     },
     "metadata": {
      "needs_background": "light"
     },
     "output_type": "display_data"
    }
   ],
   "source": [
    "import numpy as np; np.random.seed(42)\n",
    "import matplotlib.pyplot as plt\n",
    "import seaborn as sns\n",
    "\n",
    "df = perc_usages_1.to_frame()\n",
    "df[\"perc_usages_2\"] = perc_usages_2\n",
    "df[\"perc_usages_3\"] = perc_usages_3\n",
    "\n",
    "sns.boxplot(x=\"variable\", y=\"value\", data=pd.melt(df[(df > 0) & (df < 100)]))\n",
    "\n",
    "plt.show()\n",
    "\n"
   ]
  },
  {
   "cell_type": "code",
   "execution_count": 23,
   "metadata": {},
   "outputs": [
    {
     "data": {
      "text/plain": [
       "<matplotlib.axes._subplots.AxesSubplot at 0x13640aa58>"
      ]
     },
     "execution_count": 23,
     "metadata": {},
     "output_type": "execute_result"
    },
    {
     "data": {
      "image/png": "[encoded data removed]",
      "text/plain": [
       "<Figure size 432x288 with 1 Axes>"
      ]
     },
     "metadata": {},
     "output_type": "display_data"
    }
   ],
   "source": [
    "#df['pct'] = df['Location'].div(df.groupby('Hour')['Location'].transform('sum'))\n",
    "#g = sns.FacetGrid(df, row=\"pct\", hue=\"pct\", aspect=15, height=.5, palette=pal)\n",
    "\n",
    "perc_incorporation_pyr = pd.melt(df[(df > 0) & (df < 100)])\n",
    " \n",
    "# Method 1: on the same Axis\n",
    "sns.distplot( df[(df > 0) & (df < 100)].iloc[:,0] , color=\"skyblue\", label=\"1\", kde=False)\n",
    "sns.distplot( df[(df > 0) & (df < 100)].iloc[:,1], color=\"red\", label=\"2\", kde=False)\n",
    "sns.distplot( df[(df > 0) & (df < 100)].iloc[:,2], color=\"green\", label=\"3\", kde=False)\n"
   ]
  },
  {
   "cell_type": "code",
   "execution_count": 18,
   "metadata": {},
   "outputs": [
    {
     "data": {
      "text/html": [
       "<div>\n",
       "<style scoped>\n",
       "    .dataframe tbody tr th:only-of-type {\n",
       "        vertical-align: middle;\n",
       "    }\n",
       "\n",
       "    .dataframe tbody tr th {\n",
       "        vertical-align: top;\n",
       "    }\n",
       "\n",
       "    .dataframe thead th {\n",
       "        text-align: right;\n",
       "    }\n",
       "</style>\n",
       "<table border=\"1\" class=\"dataframe\">\n",
       "  <thead>\n",
       "    <tr style=\"text-align: right;\">\n",
       "      <th></th>\n",
       "      <th>0</th>\n",
       "      <th>perc_usages_2</th>\n",
       "      <th>perc_usages_3</th>\n",
       "    </tr>\n",
       "  </thead>\n",
       "  <tbody>\n",
       "    <tr>\n",
       "      <th>O32583</th>\n",
       "      <td>1.322495e-07</td>\n",
       "      <td>9.518214e-08</td>\n",
       "      <td>9.726865e-08</td>\n",
       "    </tr>\n",
       "    <tr>\n",
       "      <th>P00350</th>\n",
       "      <td>NaN</td>\n",
       "      <td>NaN</td>\n",
       "      <td>NaN</td>\n",
       "    </tr>\n",
       "    <tr>\n",
       "      <th>P00363</th>\n",
       "      <td>NaN</td>\n",
       "      <td>NaN</td>\n",
       "      <td>NaN</td>\n",
       "    </tr>\n",
       "    <tr>\n",
       "      <th>P00370</th>\n",
       "      <td>2.363882e-01</td>\n",
       "      <td>1.701328e-01</td>\n",
       "      <td>1.738623e-01</td>\n",
       "    </tr>\n",
       "    <tr>\n",
       "      <th>P00393</th>\n",
       "      <td>NaN</td>\n",
       "      <td>NaN</td>\n",
       "      <td>NaN</td>\n",
       "    </tr>\n",
       "    <tr>\n",
       "      <th>...</th>\n",
       "      <td>...</td>\n",
       "      <td>...</td>\n",
       "      <td>...</td>\n",
       "    </tr>\n",
       "    <tr>\n",
       "      <th>Q59385</th>\n",
       "      <td>NaN</td>\n",
       "      <td>NaN</td>\n",
       "      <td>NaN</td>\n",
       "    </tr>\n",
       "    <tr>\n",
       "      <th>Q6BEX0</th>\n",
       "      <td>NaN</td>\n",
       "      <td>NaN</td>\n",
       "      <td>NaN</td>\n",
       "    </tr>\n",
       "    <tr>\n",
       "      <th>Q6BF16</th>\n",
       "      <td>NaN</td>\n",
       "      <td>NaN</td>\n",
       "      <td>NaN</td>\n",
       "    </tr>\n",
       "    <tr>\n",
       "      <th>Q6BF17</th>\n",
       "      <td>NaN</td>\n",
       "      <td>NaN</td>\n",
       "      <td>NaN</td>\n",
       "    </tr>\n",
       "    <tr>\n",
       "      <th>Q93K97</th>\n",
       "      <td>NaN</td>\n",
       "      <td>NaN</td>\n",
       "      <td>NaN</td>\n",
       "    </tr>\n",
       "  </tbody>\n",
       "</table>\n",
       "<p>1259 rows × 3 columns</p>\n",
       "</div>"
      ],
      "text/plain": [
       "                   0  perc_usages_2  perc_usages_3\n",
       "O32583  1.322495e-07   9.518214e-08   9.726865e-08\n",
       "P00350           NaN            NaN            NaN\n",
       "P00363           NaN            NaN            NaN\n",
       "P00370  2.363882e-01   1.701328e-01   1.738623e-01\n",
       "P00393           NaN            NaN            NaN\n",
       "...              ...            ...            ...\n",
       "Q59385           NaN            NaN            NaN\n",
       "Q6BEX0           NaN            NaN            NaN\n",
       "Q6BF16           NaN            NaN            NaN\n",
       "Q6BF17           NaN            NaN            NaN\n",
       "Q93K97           NaN            NaN            NaN\n",
       "\n",
       "[1259 rows x 3 columns]"
      ]
     },
     "execution_count": 18,
     "metadata": {},
     "output_type": "execute_result"
    }
   ],
   "source": [
    "df[df > 0]"
   ]
  },
  {
   "cell_type": "code",
   "execution_count": 81,
   "metadata": {},
   "outputs": [
    {
     "data": {
      "text/plain": [
       "O32583    9.518214e-07\n",
       "P00350    0.000000e+00\n",
       "P00363    0.000000e+00\n",
       "P00370    1.519089e-08\n",
       "P00393    0.000000e+00\n",
       "              ...     \n",
       "Q59385    0.000000e+00\n",
       "Q6BEX0    0.000000e+00\n",
       "Q6BF16    0.000000e+00\n",
       "Q6BF17    0.000000e+00\n",
       "Q93K97    0.000000e+00\n",
       "Length: 1259, dtype: float64"
      ]
     },
     "execution_count": 81,
     "metadata": {},
     "output_type": "execute_result"
    }
   ],
   "source": [
    "abs_usages_3"
   ]
  },
  {
   "cell_type": "code",
   "execution_count": 84,
   "metadata": {},
   "outputs": [],
   "source": [
    "pd.DataFrame({'pyr_1':abs_usages_1, 'pyr_2':abs_usages_2, 'pyr_3':abs_usages_3}).to_csv(f'{INTERMEDIATE}/proteomics/pyruvate_usages.csv')"
   ]
  }
 ],
 "metadata": {
  "kernelspec": {
   "display_name": "Python 3",
   "language": "python",
   "name": "python3"
  },
  "language_info": {
   "codemirror_mode": {
    "name": "ipython",
    "version": 3
   },
   "file_extension": ".py",
   "mimetype": "text/x-python",
   "name": "python",
   "nbconvert_exporter": "python",
   "pygments_lexer": "ipython3",
   "version": "3.7.3"
  }
 },
 "nbformat": 4,
 "nbformat_minor": 4
}
