{
 "cells": [
  {
   "cell_type": "code",
   "execution_count": 1,
   "metadata": {},
   "outputs": [
    {
     "name": "stdout",
     "output_type": "stream",
     "text": [
      "Standard variables loaded, you are good to go!\n"
     ]
    }
   ],
   "source": [
    "import os\n",
    "from dotenv import load_dotenv, find_dotenv\n",
    "from os.path import join, dirname, basename, exists, isdir\n",
    "\n",
    "### Load environmental variables from the project root directory ###\n",
    "# find .env automagically by walking up directories until it's found\n",
    "dotenv_path = find_dotenv()\n",
    "\n",
    "# load up the entries as environment variables\n",
    "load_dotenv(dotenv_path)\n",
    "\n",
    "# now you can get the variables using their names\n",
    "\n",
    "# Check whether a network drive has been specified\n",
    "DATABASE = os.environ.get(\"NETWORK_URL\")\n",
    "if DATABASE == 'None':\n",
    "    pass\n",
    "else:\n",
    "    pass\n",
    "    #mount network drive here\n",
    "\n",
    "# set up directory pathsa\n",
    "CURRENT_DIR = os.getcwd()\n",
    "PROJ = dirname(dotenv_path) # project root directory\n",
    "\n",
    "DATA = join(PROJ, 'data') #data directory\n",
    "RAW_EXTERNAL = join(DATA, 'raw_external') # external data raw directory\n",
    "RAW_INTERNAL = join(DATA, 'raw_internal') # internal data raw directory\n",
    "INTERMEDIATE = join(DATA, 'intermediate') # intermediate data directory\n",
    "FINAL = join(DATA, 'final') # final data directory\n",
    "\n",
    "RESULTS = join(PROJ, 'results') # output directory\n",
    "FIGURES = join(RESULTS, 'figures') # figure output directory\n",
    "PICTURES = join(RESULTS, 'pictures') # picture output directory\n",
    "\n",
    "\n",
    "# make folders specific for certain data\n",
    "folder_name = ''\n",
    "if folder_name != '':\n",
    "    #make folders if they don't exist\n",
    "    if not exists(join(RAW_EXTERNAL, folder_name)):\n",
    "        os.makedirs(join(RAW_EXTERNAL, folder_name))\n",
    "\n",
    "    if not exists(join(INTERMEDIATE, folder_name)):\n",
    "        os.makedirs(join(INTERMEDIATE, folder_name))\n",
    "\n",
    "    if not exists(join(FINAL, folder_name)):\n",
    "        os.makedirs(join(FINAL, folder_name))\n",
    "\n",
    "\n",
    "print('Standard variables loaded, you are good to go!')"
   ]
  },
  {
   "cell_type": "code",
   "execution_count": 15,
   "metadata": {},
   "outputs": [
    {
     "data": {
      "text/html": [
       "<div>\n",
       "<style scoped>\n",
       "    .dataframe tbody tr th:only-of-type {\n",
       "        vertical-align: middle;\n",
       "    }\n",
       "\n",
       "    .dataframe tbody tr th {\n",
       "        vertical-align: top;\n",
       "    }\n",
       "\n",
       "    .dataframe thead th {\n",
       "        text-align: right;\n",
       "    }\n",
       "</style>\n",
       "<table border=\"1\" class=\"dataframe\">\n",
       "  <thead>\n",
       "    <tr style=\"text-align: right;\">\n",
       "      <th></th>\n",
       "      <th>glucose_1</th>\n",
       "      <th>glucose_2</th>\n",
       "      <th>glucose_3</th>\n",
       "      <th>chemostat_0.2_1</th>\n",
       "      <th>chemostat_0.2_2</th>\n",
       "      <th>chemostat_0.2_3</th>\n",
       "    </tr>\n",
       "  </thead>\n",
       "  <tbody>\n",
       "    <tr>\n",
       "      <th>O32583</th>\n",
       "      <td>1.881335e-06</td>\n",
       "      <td>1.881335e-06</td>\n",
       "      <td>1.765466e-06</td>\n",
       "      <td>1.113977e-06</td>\n",
       "      <td>7.510408e-07</td>\n",
       "      <td>1.113977e-06</td>\n",
       "    </tr>\n",
       "    <tr>\n",
       "      <th>P00350</th>\n",
       "      <td>2.512124e-05</td>\n",
       "      <td>2.414563e-05</td>\n",
       "      <td>2.223587e-05</td>\n",
       "      <td>0.000000e+00</td>\n",
       "      <td>0.000000e+00</td>\n",
       "      <td>0.000000e+00</td>\n",
       "    </tr>\n",
       "    <tr>\n",
       "      <th>P00363</th>\n",
       "      <td>7.321107e-08</td>\n",
       "      <td>0.000000e+00</td>\n",
       "      <td>0.000000e+00</td>\n",
       "      <td>0.000000e+00</td>\n",
       "      <td>0.000000e+00</td>\n",
       "      <td>0.000000e+00</td>\n",
       "    </tr>\n",
       "    <tr>\n",
       "      <th>P00370</th>\n",
       "      <td>3.064391e-08</td>\n",
       "      <td>3.064391e-08</td>\n",
       "      <td>2.862418e-08</td>\n",
       "      <td>1.809918e-08</td>\n",
       "      <td>1.198648e-08</td>\n",
       "      <td>1.809918e-08</td>\n",
       "    </tr>\n",
       "    <tr>\n",
       "      <th>P00393</th>\n",
       "      <td>0.000000e+00</td>\n",
       "      <td>0.000000e+00</td>\n",
       "      <td>0.000000e+00</td>\n",
       "      <td>0.000000e+00</td>\n",
       "      <td>0.000000e+00</td>\n",
       "      <td>0.000000e+00</td>\n",
       "    </tr>\n",
       "  </tbody>\n",
       "</table>\n",
       "</div>"
      ],
      "text/plain": [
       "           glucose_1     glucose_2     glucose_3  chemostat_0.2_1  \\\n",
       "O32583  1.881335e-06  1.881335e-06  1.765466e-06     1.113977e-06   \n",
       "P00350  2.512124e-05  2.414563e-05  2.223587e-05     0.000000e+00   \n",
       "P00363  7.321107e-08  0.000000e+00  0.000000e+00     0.000000e+00   \n",
       "P00370  3.064391e-08  3.064391e-08  2.862418e-08     1.809918e-08   \n",
       "P00393  0.000000e+00  0.000000e+00  0.000000e+00     0.000000e+00   \n",
       "\n",
       "        chemostat_0.2_2  chemostat_0.2_3  \n",
       "O32583     7.510408e-07     1.113977e-06  \n",
       "P00350     0.000000e+00     0.000000e+00  \n",
       "P00363     0.000000e+00     0.000000e+00  \n",
       "P00370     1.198648e-08     1.809918e-08  \n",
       "P00393     0.000000e+00     0.000000e+00  "
      ]
     },
     "execution_count": 15,
     "metadata": {},
     "output_type": "execute_result"
    }
   ],
   "source": [
    "import pandas as pd\n",
    "import numpy as np\n",
    "import os\n",
    "\n",
    "\n",
    "folder = os.listdir(f\"{FINAL}/abs_usages_gecko\")\n",
    "\n",
    "df = pd.DataFrame()\n",
    "for file in folder:\n",
    "    f = pd.read_csv(f\"{FINAL}/abs_usages_gecko/{file}\", index_col = \"Unnamed: 0\")\n",
    "    df = pd.concat([df, f], axis=1)\n",
    "df.head()\n"
   ]
  },
  {
   "cell_type": "markdown",
   "metadata": {},
   "source": [
    "# 1. Core proteome\n",
    "\n",
    "- first we are going to try to find out the common core proteome\n",
    "    - the common core proteome will be the intersect of all non-zero usage proteins \n",
    "    - OOOOr the union\n",
    "    \n",
    "    "
   ]
  },
  {
   "cell_type": "code",
   "execution_count": 30,
   "metadata": {},
   "outputs": [],
   "source": [
    "# generate nonzeros\n",
    "intersect_nonzero_proteins = df.loc[(df!=0).all(axis=1)]\n",
    "union_nonzero_proteins = df.loc[(df!=0).any(axis=1)]"
   ]
  },
  {
   "cell_type": "code",
   "execution_count": null,
   "metadata": {},
   "outputs": [],
   "source": [
    "# analyse nonzeros\n"
   ]
  },
  {
   "cell_type": "markdown",
   "metadata": {},
   "source": [
    "# 2. comparison of the differences in GO-terms\n",
    "- we are trying to find the set of GO terms in two ways:\n",
    "    - first we are going to try to use differential expression results\n",
    "    - secondly we are going to choose a fold-change value to define a threshold\n",
    "    - changes in the \"functional\" proteome can be assumed to show us the significant differences between given conditions, if not we can argue about how changes in transcriptomics don't necessarily lead to changes in proteomics, and proteomics maybe not even on the level of fluxomics (to this end also compare \"differentially expressed\" proteins to differentially used ones"
   ]
  },
  {
   "cell_type": "code",
   "execution_count": 32,
   "metadata": {},
   "outputs": [],
   "source": [
    "df.to_csv(f\"{FINAL}/usages/usages_combined_gecko.csv\")"
   ]
  }
 ],
 "metadata": {
  "kernelspec": {
   "display_name": "Python 3",
   "language": "python",
   "name": "python3"
  },
  "language_info": {
   "codemirror_mode": {
    "name": "ipython",
    "version": 3
   },
   "file_extension": ".py",
   "mimetype": "text/x-python",
   "name": "python",
   "nbconvert_exporter": "python",
   "pygments_lexer": "ipython3",
   "version": "3.7.3"
  }
 },
 "nbformat": 4,
 "nbformat_minor": 4
}
