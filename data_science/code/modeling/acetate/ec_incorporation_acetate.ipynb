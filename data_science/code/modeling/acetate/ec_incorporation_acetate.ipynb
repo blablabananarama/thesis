{
 "cells": [
  {
   "cell_type": "code",
   "execution_count": 12,
   "metadata": {},
   "outputs": [
    {
     "name": "stdout",
     "output_type": "stream",
     "text": [
      "Standard variables loaded, you are good to go!\n"
     ]
    }
   ],
   "source": [
    "import os\n",
    "from dotenv import load_dotenv, find_dotenv\n",
    "from os.path import join, dirname, basename, exists, isdir\n",
    "\n",
    "### Load environmental variables from the project root directory ###\n",
    "# find .env automagically by walking up directories until it's found\n",
    "dotenv_path = find_dotenv()\n",
    "\n",
    "# load up the entries as environment variables\n",
    "load_dotenv(dotenv_path)\n",
    "\n",
    "# now you can get the variables using their names\n",
    "\n",
    "# Check whether a network drive has been specified\n",
    "DATABASE = os.environ.get(\"NETWORK_URL\")\n",
    "if DATABASE == 'None':\n",
    "    pass\n",
    "else:\n",
    "    pass\n",
    "    #mount network drive here\n",
    "\n",
    "# set up directory pathsa\n",
    "CURRENT_DIR = os.getcwd()\n",
    "PROJ = dirname(dotenv_path) # project root directory\n",
    "\n",
    "DATA = join(PROJ, 'data') #data directory\n",
    "RAW_EXTERNAL = join(DATA, 'raw_external') # external data raw directory\n",
    "RAW_INTERNAL = join(DATA, 'raw_internal') # internal data raw directory\n",
    "INTERMEDIATE = join(DATA, 'intermediate') # intermediate data directory\n",
    "FINAL = join(DATA, 'final') # final data directory\n",
    "\n",
    "RESULTS = join(PROJ, 'results') # output directory\n",
    "FIGURES = join(RESULTS, 'figures') # figure output directory\n",
    "PICTURES = join(RESULTS, 'pictures') # picture output directory\n",
    "\n",
    "\n",
    "# make folders specific for certain data\n",
    "folder_name = ''\n",
    "if folder_name != '':\n",
    "    #make folders if they don't exist\n",
    "    if not exists(join(RAW_EXTERNAL, folder_name)):\n",
    "        os.makedirs(join(RAW_EXTERNAL, folder_name))\n",
    "\n",
    "    if not exists(join(INTERMEDIATE, folder_name)):\n",
    "        os.makedirs(join(INTERMEDIATE, folder_name))\n",
    "\n",
    "    if not exists(join(FINAL, folder_name)):\n",
    "        os.makedirs(join(FINAL, folder_name))\n",
    "\n",
    "\n",
    "print('Standard variables loaded, you are good to go!')"
   ]
  },
  {
   "cell_type": "code",
   "execution_count": 13,
   "metadata": {},
   "outputs": [],
   "source": [
    "import cobra\n",
    "import os\n",
    "import pandas as pd\n",
    "import cameo\n",
    "import wget\n",
    "import ssl\n",
    "from scipy.stats import pearsonr\n",
    "\n",
    "\n",
    "#E. coli model:\n",
    "#eColi_model = cameo.load_model(\"iML1515\")\n",
    "\n",
    "\n",
    "#E. coli model:\n",
    "ssl._create_default_https_context = ssl._create_unverified_context\n",
    "wget.download(\"https://raw.githubusercontent.com/BenjaSanchez/notebooks/master/e_coli_simulations/eciML1515.xml\")\n",
    "eColi_Model = cobra.io.read_sbml_model(\"eciML1515.xml\")\n",
    "os.remove(\"eciML1515.xml\")\n",
    "\n",
    "\n",
    "# proteomics data:\n",
    "proteomics_dataset = f\"{INTERMEDIATE}/proteomics/proteomics_concentrations.csv\"\n"
   ]
  },
  {
   "cell_type": "code",
   "execution_count": 14,
   "metadata": {},
   "outputs": [],
   "source": [
    "from collections import namedtuple\n",
    "from cobra.medium.boundary_types import find_external_compartment\n",
    "from cobra.io.dict import reaction_to_dict\n",
    "import pandas as pd\n",
    "import numpy as np"
   ]
  },
  {
   "cell_type": "code",
   "execution_count": 15,
   "metadata": {},
   "outputs": [],
   "source": [
    "from simulations.modeling.driven import (\n",
    "    adjust_fluxes2model,\n",
    "    flexibilize_proteomics,\n",
    "    minimize_distance,\n",
    ")"
   ]
  },
  {
   "cell_type": "code",
   "execution_count": null,
   "metadata": {},
   "outputs": [],
   "source": []
  },
  {
   "cell_type": "code",
   "execution_count": 16,
   "metadata": {},
   "outputs": [],
   "source": [
    "def reset_real_proteomics(proteomics_dataset):\n",
    "    '''loads set of proteomics data from the provided dataset file into dict of lists'''\n",
    "    data = pd.read_csv(proteomics_dataset, index_col=\"UP\")  # yeast\n",
    "    data_dict = {}\n",
    "    for i in range(0,data.shape[1], 3):\n",
    "        uncertainty = data.iloc[:,i:i+3].std(axis=1)\n",
    "        uncertainty_name = data.columns[i]+ \"_uncertainty\"\n",
    "        data[uncertainty_name] = uncertainty\n",
    "        data_dict[data.columns[i]] = [{'identifier':data.index[j], 'measurement':data.iloc[j,i], 'uncertainty':data[uncertainty_name][j] }\\\n",
    "         for j in range(0, len(data.iloc[:,i]))]\n",
    "        data_dict[data.columns[i+1]] = [{'identifier':data.index[j], 'measurement':data.iloc[j,i+1], 'uncertainty':data[uncertainty_name][j] }\\\n",
    "         for j in range(0, len(data.iloc[:,i+1]))]\n",
    "        data_dict[data.columns[i+2]] = [{'identifier':data.index[j], 'measurement':data.iloc[j,i+2], 'uncertainty':data[uncertainty_name][j] }\\\n",
    "         for j in range(0, len(data.iloc[:,i+2]))]\n",
    "    return data_dict\n",
    "\n"
   ]
  },
  {
   "cell_type": "code",
   "execution_count": 17,
   "metadata": {},
   "outputs": [],
   "source": [
    "proteomics_data = reset_real_proteomics(proteomics_dataset)\n",
    "\n",
    "growth_rates = pd.read_csv(f\"{RAW_INTERNAL}/proteomics/growth_conditions.csv\")\n",
    "growth_rates = growth_rates.drop(growth_rates.columns.difference(['Growth condition','Growth rate (h-1)', 'Stdev']), 1)\n",
    "growth_rates = growth_rates.drop([0,1], axis=0)"
   ]
  },
  {
   "cell_type": "code",
   "execution_count": 18,
   "metadata": {},
   "outputs": [
    {
     "name": "stdout",
     "output_type": "stream",
     "text": [
      "[<Reaction EX_ac_e_REV at 0x135c3c390>]\n",
      "<Solution 0.137 at 0x133e4e048>\n"
     ]
    }
   ],
   "source": [
    "\n",
    "def find_exchange_rxn(compound, model):\n",
    "    exchange_reactions = [i for i in model.reactions if \"EX\" in i.id]\n",
    "    compound_ex_rxn = [i for i in exchange_reactions if compound in i.name]\n",
    "    compound_ex_rxn = [i for i in compound_ex_rxn if len(list(i._metabolites.keys())) == 1 \\\n",
    "                       & (list(i._metabolites.values())[0] == 1.0) \\\n",
    "                        & (list(i._metabolites.keys())[0].name == compound + \" [extracellular space]\")]\n",
    "    return compound_ex_rxn\n",
    "\n",
    "# minimal medium with pyruvate\n",
    "pyruvate_growth_rate = list(growth_rates['Growth rate (h-1)'].loc[growth_rates['Growth condition'] == \"Acetate\"])[0]\n",
    "model = eColi_Model.copy()\n",
    "medium = model.medium\n",
    "medium.pop(\"EX_glc__D_e_REV\", None)\n",
    "\n",
    "# find Pyruvate\n",
    "ac_ex = find_exchange_rxn(\"Acetate\", eColi_Model)\n",
    "print(ac_ex)\n",
    "\n",
    "\n",
    "medium[f'{ac_ex[0].id}'] = 10\n",
    "model.medium = medium\n",
    "# pyr_model.medium = minimal_medium(pyr_model).to_dict()\n",
    "print(model.optimize())"
   ]
  },
  {
   "cell_type": "code",
   "execution_count": 19,
   "metadata": {},
   "outputs": [
    {
     "name": "stdout",
     "output_type": "stream",
     "text": [
      "Number of proteins originally:  2058\n",
      "Number of proteins incorporated:  2057\n",
      "Number of proteins originally:  2058\n",
      "Number of proteins incorporated:  2057\n",
      "Number of proteins originally:  2058\n",
      "Number of proteins incorporated:  2057\n"
     ]
    }
   ],
   "source": [
    "# pyruvate sim\n",
    "\n",
    "ac_model_1 = model\n",
    "ac_model_2 = model\n",
    "ac_model_3 = model\n",
    "\n",
    "# first \n",
    "print(\"Number of proteins originally: \", len(proteomics_data[\"acetate\"]))\n",
    "growth_rate = {\"measurement\":float(list(growth_rates['Growth rate (h-1)'].loc[growth_rates['Growth condition'] == \"Acetate\"])[0]),\\\n",
    "    \"uncertainty\":float(list(growth_rates['Stdev'].loc[growth_rates['Growth condition'] == \"Acetate\"])[0])}\n",
    "new_growth_rate, new_proteomics, warnings = flexibilize_proteomics(ac_model_1,  \"BIOMASS_Ec_iML1515_core_75p37M\", growth_rate, proteomics_data[\"acetate\"], [])\n",
    "print(\"Number of proteins incorporated: \", len(new_proteomics))\n",
    "\n",
    "# first \n",
    "print(\"Number of proteins originally: \", len(proteomics_data[\"acetate1\"]))\n",
    "growth_rate = {\"measurement\":float(list(growth_rates['Growth rate (h-1)'].loc[growth_rates['Growth condition'] == \"Acetate\"])[0]),\\\n",
    "    \"uncertainty\":float(list(growth_rates['Stdev'].loc[growth_rates['Growth condition'] == \"Acetate\"])[0])}\n",
    "new_growth_rate, new_proteomics, warnings = flexibilize_proteomics(ac_model_2,  \"BIOMASS_Ec_iML1515_core_75p37M\", growth_rate, proteomics_data[\"acetate1\"], [])\n",
    "print(\"Number of proteins incorporated: \", len(new_proteomics))\n",
    "\n",
    "# first \n",
    "print(\"Number of proteins originally: \", len(proteomics_data[\"acetate2\"]))\n",
    "growth_rate = {\"measurement\":float(list(growth_rates['Growth rate (h-1)'].loc[growth_rates['Growth condition'] == \"Acetate\"])[0]),\\\n",
    "    \"uncertainty\":float(list(growth_rates['Stdev'].loc[growth_rates['Growth condition'] == \"Acetate\"])[0])}\n",
    "new_growth_rate, new_proteomics, warnings = flexibilize_proteomics(ac_model_3,  \"BIOMASS_Ec_iML1515_core_75p37M\", growth_rate, proteomics_data[\"acetate2\"], [])\n",
    "print(\"Number of proteins incorporated: \", len(new_proteomics))\n"
   ]
  },
  {
   "cell_type": "code",
   "execution_count": 24,
   "metadata": {},
   "outputs": [],
   "source": [
    "\n",
    "\n",
    "# usages of ac proteins\n",
    "\n",
    "#solution = pyr_model.optimize()\n",
    "\n",
    "# pyr model uages\n",
    "\n",
    "\n",
    "def get_usages(prot_int_model):\n",
    "    # get the usages of a model integrated with proteomics\n",
    "    try:\n",
    "        solution = cobra.flux_analysis.pfba(prot_int_model)\n",
    "    except:\n",
    "        solution = prot_int_model.optimize()\n",
    "    abs_usages = pd.Series()\n",
    "    perc_usages = pd.Series()\n",
    "    for reaction in prot_int_model.reactions:\n",
    "        if reaction.id.startswith(\"prot_\"):\n",
    "            prot_id = reaction.id.replace(\"prot_\",\"\")\n",
    "            prot_id = prot_id.replace(\"_exchange\",\"\")\n",
    "            abs_usage = solution.fluxes[reaction.id]\n",
    "            abs_usages = abs_usages.append(pd.Series({prot_id:abs_usage}))\n",
    "            perc_usage = solution.fluxes[reaction.id]/reaction.upper_bound*100\n",
    "            perc_usages = perc_usages.append(pd.Series({prot_id:perc_usage}))\n",
    "    return abs_usages, perc_usages\n",
    "\n",
    "# \n",
    "abs_usages_1, perc_usages_1 = get_usages(ac_model_1)\n",
    "abs_usages_2, perc_usages_2 = get_usages(ac_model_2)\n",
    "abs_usages_3, perc_usages_3 = get_usages(ac_model_3)"
   ]
  },
  {
   "cell_type": "code",
   "execution_count": null,
   "metadata": {},
   "outputs": [],
   "source": []
  },
  {
   "cell_type": "code",
   "execution_count": 25,
   "metadata": {},
   "outputs": [
    {
     "data": {
      "image/png": "[encoded data removed]",
      "text/plain": [
       "<Figure size 432x288 with 1 Axes>"
      ]
     },
     "metadata": {
      "needs_background": "light"
     },
     "output_type": "display_data"
    }
   ],
   "source": [
    "import numpy as np; np.random.seed(42)\n",
    "import matplotlib.pyplot as plt\n",
    "import seaborn as sns\n",
    "\n",
    "df = perc_usages_1.to_frame()\n",
    "df[\"perc_usages_2\"] = perc_usages_2\n",
    "df[\"perc_usages_3\"] = perc_usages_3\n",
    "df.columns = [\"Measurement 1\", \"Measurement 2\", \"Measurement 3\"]\n",
    "\n",
    "sns.boxplot(x=\"variable\", y=\"value\", data=pd.melt(df[(df > 0) & (df < 100)]))\n",
    "plt.xlabel('Measurements')\n",
    "plt.ylabel('Usage of measurement in %')\n",
    "plt.title('% usage of proteins per ec simulation ')\n",
    "plt.savefig(f'{FIGURES}/ec_incorporation_perc_usage_box_pyr')\n",
    "plt.show()\n",
    "\n"
   ]
  },
  {
   "cell_type": "code",
   "execution_count": 23,
   "metadata": {},
   "outputs": [
    {
     "data": {
      "text/plain": [
       "<matplotlib.axes._subplots.AxesSubplot at 0x13640aa58>"
      ]
     },
     "execution_count": 23,
     "metadata": {},
     "output_type": "execute_result"
    },
    {
     "data": {
      "image/png": "[encoded data removed]",
      "text/plain": [
       "<Figure size 432x288 with 1 Axes>"
      ]
     },
     "metadata": {},
     "output_type": "display_data"
    }
   ],
   "source": [
    "#df['pct'] = df['Location'].div(df.groupby('Hour')['Location'].transform('sum'))\n",
    "#g = sns.FacetGrid(df, row=\"pct\", hue=\"pct\", aspect=15, height=.5, palette=pal)\n",
    "\n",
    "perc_incorporation_pyr = pd.melt(df[(df > 0) & (df < 100)])\n",
    " \n",
    "# Method 1: on the same Axis\n",
    "sns.distplot( df[(df > 0) & (df < 100)].iloc[:,0] , color=\"skyblue\", label=\"1\", kde=False)\n",
    "sns.distplot( df[(df > 0) & (df < 100)].iloc[:,1], color=\"red\", label=\"2\", kde=False)\n",
    "sns.distplot( df[(df > 0) & (df < 100)].iloc[:,2], color=\"green\", label=\"3\", kde=False)\n"
   ]
  },
  {
   "cell_type": "code",
   "execution_count": 62,
   "metadata": {},
   "outputs": [
    {
     "name": "stderr",
     "output_type": "stream",
     "text": [
      "/Library/Python/3.7/site-packages/pandas/core/indexing.py:1418: FutureWarning:\n",
      "\n",
      "\n",
      "Passing list-likes to .loc or [] with any missing label will raise\n",
      "KeyError in the future, you can use .reindex() as an alternative.\n",
      "\n",
      "See the documentation here:\n",
      "https://pandas.pydata.org/pandas-docs/stable/user_guide/indexing.html#deprecate-loc-reindex-listlike\n",
      "\n"
     ]
    },
    {
     "data": {
      "image/png": "[encoded data removed]",
      "text/plain": [
       "<Figure size 576x576 with 1 Axes>"
      ]
     },
     "metadata": {},
     "output_type": "display_data"
    }
   ],
   "source": [
    "from sklearn.preprocessing import StandardScaler\n",
    "\n",
    "# standardize data for pca \n",
    "# #features = ['sepal length', 'sepal width', 'petal length', 'petal width']# Separating out the features\n",
    "pca_df_all_proteomics_and_pyr = pd.read_csv(proteomics_dataset, index_col=\"UP\").loc[df.index,:]\n",
    "pca_df_all_proteomics_and_pyr['pyr_1'] = abs_usages_1\n",
    "pca_df_all_proteomics_and_pyr = pca_df_all_proteomics_and_pyr.T.dropna(axis='columns')\n",
    "x = pca_df_all_proteomics_and_pyr.values\n",
    "x = StandardScaler().fit_transform(x)\n",
    "\n",
    "# run pca\n",
    "from sklearn.decomposition import PCA\n",
    "pca = PCA(n_components=2)\n",
    "principalComponents = pca.fit_transform(x)\n",
    "principalDf = pd.DataFrame(data = principalComponents, columns = ['principal component 1', 'principal component 2'])\n",
    "principalDf.index = pca_df_all_proteomics_and_pyr.index\n",
    "\n",
    "fig = plt.figure(figsize = (8,8))\n",
    "ax = fig.add_subplot(1,1,1) \n",
    "ax.set_xlabel('Principal Component 1', fontsize = 15)\n",
    "ax.set_ylabel('Principal Component 2', fontsize = 15)\n",
    "ax.set_title('2 component PCA with zero values', fontsize = 20)\n",
    "\n",
    "amount = len(principalDf.index)\n",
    "for i in range(amount):\n",
    "    c = [float(i)/float(amount), 0.0, float(amount-i)/float(amount)] #R,G,B\n",
    "    ax.scatter(principalDf.loc[principalDf.index[i], 'principal component 1']\n",
    "           , principalDf.loc[principalDf.index[i], 'principal component 2']\n",
    "           , color = c \n",
    "           , s = 50)\n",
    "ax.scatter(principalDf.loc[\"pyr_1\", 'principal component 1']\n",
    "           , principalDf.loc[principalDf.index[i], 'principal component 2']\n",
    "           , color = \"green\"\n",
    "           , s = 50)\n",
    "\n",
    "\n",
    "#ax.legend(pca_df_all_proteomics_and_pyr.index)\n",
    "ax.grid()\n",
    "plt.savefig(f'{FIGURES}/')\n"
   ]
  },
  {
   "cell_type": "code",
   "execution_count": 63,
   "metadata": {},
   "outputs": [
    {
     "name": "stderr",
     "output_type": "stream",
     "text": [
      "/Library/Python/3.7/site-packages/pandas/core/indexing.py:1418: FutureWarning:\n",
      "\n",
      "\n",
      "Passing list-likes to .loc or [] with any missing label will raise\n",
      "KeyError in the future, you can use .reindex() as an alternative.\n",
      "\n",
      "See the documentation here:\n",
      "https://pandas.pydata.org/pandas-docs/stable/user_guide/indexing.html#deprecate-loc-reindex-listlike\n",
      "\n"
     ]
    },
    {
     "data": {
      "image/png": "[encoded data removed]",
      "text/plain": [
       "<Figure size 576x576 with 1 Axes>"
      ]
     },
     "metadata": {},
     "output_type": "display_data"
    }
   ],
   "source": [
    "# standardize data for pca \n",
    "# #features = ['sepal length', 'sepal width', 'petal length', 'petal width']# Separating out the features\n",
    "pca_df_all_proteomics_and_pyr = pd.read_csv(proteomics_dataset, index_col=\"UP\").loc[df.index,:]\n",
    "pca_df_all_proteomics_and_pyr['pyr_1'] = abs_usages_1\n",
    "pca_df_all_proteomics_and_pyr = pca_df_all_proteomics_and_pyr[pca_df_all_proteomics_and_pyr['pyr_1'] > 0]\n",
    "pca_df_all_proteomics_and_pyr = pca_df_all_proteomics_and_pyr.T.dropna(axis='columns')\n",
    "x = pca_df_all_proteomics_and_pyr.values\n",
    "x = StandardScaler().fit_transform(x)\n",
    "\n",
    "# run pca\n",
    "from sklearn.decomposition import PCA\n",
    "pca = PCA(n_components=2)\n",
    "principalComponents = pca.fit_transform(x)\n",
    "principalDf = pd.DataFrame(data = principalComponents, columns = ['principal component 1', 'principal component 2'])\n",
    "principalDf.index = pca_df_all_proteomics_and_pyr.index\n",
    "\n",
    "fig = plt.figure(figsize = (8,8))\n",
    "ax = fig.add_subplot(1,1,1) \n",
    "ax.set_xlabel('Principal Component 1', fontsize = 15)\n",
    "ax.set_ylabel('Principal Component 2', fontsize = 15)\n",
    "ax.set_title('2 component PCA without zero values', fontsize = 20)\n",
    "\n",
    "amount = len(principalDf.index)\n",
    "for i in range(amount):\n",
    "    c = [float(i)/float(amount), 0.0, float(amount-i)/float(amount)] #R,G,B\n",
    "    ax.scatter(principalDf.loc[principalDf.index[i], 'principal component 1']\n",
    "           , principalDf.loc[principalDf.index[i], 'principal component 2']\n",
    "           , color = c \n",
    "           , s = 50)\n",
    "ax.scatter(principalDf.loc[\"pyr_1\", 'principal component 1']\n",
    "           , principalDf.loc[principalDf.index[i], 'principal component 2']\n",
    "           , color = \"green\"\n",
    "           , s = 50)\n",
    "\n",
    "ax.grid()"
   ]
  },
  {
   "cell_type": "code",
   "execution_count": 26,
   "metadata": {},
   "outputs": [],
   "source": [
    "pd.DataFrame({'ac_1':abs_usages_1, 'ac_2':abs_usages_2, 'ac_3':abs_usages_3}).to_csv(f'{INTERMEDIATE}/proteomics/acetate_usages.csv')\n"
   ]
  }
 ],
 "metadata": {
  "kernelspec": {
   "display_name": "Python 3",
   "language": "python",
   "name": "python3"
  },
  "language_info": {
   "codemirror_mode": {
    "name": "ipython",
    "version": 3
   },
   "file_extension": ".py",
   "mimetype": "text/x-python",
   "name": "python",
   "nbconvert_exporter": "python",
   "pygments_lexer": "ipython3",
   "version": "3.7.3"
  }
 },
 "nbformat": 4,
 "nbformat_minor": 4
}
