{
 "cells": [
  {
   "cell_type": "code",
   "execution_count": 1,
   "metadata": {},
   "outputs": [
    {
     "name": "stdout",
     "output_type": "stream",
     "text": [
      "Standard variables loaded, you are good to go!\n"
     ]
    }
   ],
   "source": [
    "import os\n",
    "from dotenv import load_dotenv, find_dotenv\n",
    "from os.path import join, dirname, basename, exists, isdir\n",
    "\n",
    "### Load environmental variables from the project root directory ###\n",
    "# find .env automagically by walking up directories until it's found\n",
    "dotenv_path = find_dotenv()\n",
    "\n",
    "# load up the entries as environment variables\n",
    "load_dotenv(dotenv_path)\n",
    "\n",
    "# now you can get the variables using their names\n",
    "\n",
    "# Check whether a network drive has been specified\n",
    "DATABASE = os.environ.get(\"NETWORK_URL\")\n",
    "if DATABASE == 'None':\n",
    "    pass\n",
    "else:\n",
    "    pass\n",
    "    #mount network drive here\n",
    "\n",
    "# set up directory paths\n",
    "CURRENT_DIR = os.getcwd()\n",
    "PROJ = dirname(dotenv_path) # project root directory\n",
    "\n",
    "DATA = join(PROJ, 'data') #data directory\n",
    "RAW_EXTERNAL = join(DATA, 'raw_external') # external data raw directory\n",
    "RAW_INTERNAL = join(DATA, 'raw_internal') # internal data raw directory\n",
    "INTERMEDIATE = join(DATA, 'intermediate') # intermediate data directory\n",
    "FINAL = join(DATA, 'final') # final data directory\n",
    "\n",
    "RESULTS = join(PROJ, 'results') # output directory\n",
    "FIGURES = join(RESULTS, 'figures') # figure output directory\n",
    "PICTURES = join(RESULTS, 'pictures') # picture output directory\n",
    "\n",
    "\n",
    "# make folders specific for certain data\n",
    "folder_name = ''\n",
    "if folder_name != '':\n",
    "    #make folders if they don't exist\n",
    "    if not exists(join(RAW_EXTERNAL, folder_name)):\n",
    "        os.makedirs(join(RAW_EXTERNAL, folder_name))\n",
    "\n",
    "    if not exists(join(INTERMEDIATE, folder_name)):\n",
    "        os.makedirs(join(INTERMEDIATE, folder_name))\n",
    "\n",
    "    if not exists(join(FINAL, folder_name)):\n",
    "        os.makedirs(join(FINAL, folder_name))\n",
    "\n",
    "\n",
    "print('Standard variables loaded, you are good to go!')"
   ]
  },
  {
   "cell_type": "code",
   "execution_count": 2,
   "metadata": {},
   "outputs": [
    {
     "name": "stdout",
     "output_type": "stream",
     "text": [
      "Uniprot Accession\n",
      "P0A8T7    155.045008\n",
      "P0A8V2    150.520276\n",
      "P36683     93.420946\n",
      "P15254    141.295898\n",
      "P09831    163.176315\n",
      "             ...    \n",
      "P36667     31.022762\n",
      "P0AC78     40.912094\n",
      "P76164      8.702816\n",
      "P38506     28.130364\n",
      "Q46810     21.481914\n",
      "Name: Molecular weight (Da), Length: 2359, dtype: float64\n"
     ]
    }
   ],
   "source": [
    "import pandas as pd\n",
    "import re\n",
    "\n",
    "# Extract of supplementary table 5:\n",
    "data = pd.read_csv(f\"{RAW_INTERNAL}/proteomics/protein_values.csv\", index_col=0)\n",
    "data_counts = pd.read_csv(f\"{RAW_EXTERNAL}/raw_proteomics_all.csv\", index_col=0)\n",
    "data_counts = data_counts.drop(data_counts.index[0])\n",
    "\n",
    "# remove original index and duplicates\n",
    "data_counts.index = data_counts['UP']\n",
    "\n",
    "# # Molecular weights:\n",
    "MW = data[\"Molecular weight (Da)\"] # Da = g/mol\n",
    "MW = MW / 1000 # kDa = g/mmol\n",
    "print(MW)\n",
    "\n"
   ]
  },
  {
   "cell_type": "code",
   "execution_count": 3,
   "metadata": {},
   "outputs": [],
   "source": [
    "# start and end columns\n",
    "start_column = data_counts.columns.get_loc(\"LB\")\n",
    "end_column = data_counts.columns.get_loc(\"fructose.2\")\n",
    "\n",
    "# rename columns from .2 to uncertainty\n",
    "# rename_dict = {col_name:re.sub(r\".2$\", \"_uncertainty\", col_name) for col_name in \\\n",
    "#  data.columns[start_column_uncertainty:end_column_uncertainty+1]}\n",
    "# data = data.rename(columns=rename_dict)\n",
    "# list of indices of data needed\n",
    "list_of_indices = list(range(start_column,end_column+1))\n",
    "data_counts = data_counts.iloc[:, list_of_indices]\n",
    "\n",
    "# get cell volumes\n",
    "cell_volumes = pd.read_csv(f\"{RAW_INTERNAL}/proteomics/growth_conditions.csv\", index_col=0)\n",
    "cell_volumes = cell_volumes[\"Single cell volume [fl]1\"]\n",
    "# remove the first two rows of LB\n",
    "cell_volumes = cell_volumes.loc[~cell_volumes.index.duplicated(keep='first')]\n",
    "# rename the number 3 in there\n",
    "cell_volumes = cell_volumes.rename({'Osmotic-stress glucose3':'Osmotic-stress glucose_uncertainty'}, axis='index')\n"
   ]
  },
  {
   "cell_type": "code",
   "execution_count": 4,
   "metadata": {},
   "outputs": [
    {
     "name": "stdout",
     "output_type": "stream",
     "text": [
      "chemostatµ01\n",
      "chemostatµ01\n",
      "stationary1day\n",
      "stationary1day\n",
      "stationary1day\n",
      "stationary3days\n",
      "stationary3days\n",
      "stationary3days\n",
      "glucose3\n",
      "glucose4\n",
      "glucose5\n",
      "50mmnacl\n",
      "50mmnacl\n",
      "50mmnacl\n",
      "42c\n",
      "42c\n",
      "42c\n",
      "ph6\n",
      "ph6\n",
      "ph6\n"
     ]
    }
   ],
   "source": [
    "# Convert values to mmol/cell:\n",
    "data_counts = data_counts.apply(lambda x: pd.to_numeric(x, errors='coerce'))\n",
    "data_counts = data_counts.astype(float) / 6.022e+23 * 1000\n",
    "\n",
    "# convert names\n",
    "cell_volumes.index = [re.sub(r'\\W+', '', i).lower() for i in cell_volumes.index]\n",
    "data_counts.columns = [re.sub(r'\\W+', '', i).lower() for i in data_counts.columns]\n",
    "\n",
    "\n",
    "# Iterate through the dataset and divide by the corresponding cell volume, to get mmol/fL:\n",
    "for (col_name, d) in data_counts.iteritems():\n",
    "    chemo_name = re.sub(r'2$', '', re.sub(r'1$', '', col_name))\n",
    "    try:\n",
    "        data_counts[col_name] = data_counts[col_name] / cell_volumes.loc[chemo_name]#[\"cell_volume\"]\n",
    "    except:\n",
    "        print(chemo_name)\n",
    "\n",
    "# Finally, convert to mmol/gDW:\n",
    "water_content = 0.3\n",
    "cell_density = 1.105e-12\n",
    "data_counts = data_counts / cell_density / water_content\n",
    "\n"
   ]
  },
  {
   "cell_type": "code",
   "execution_count": 76,
   "metadata": {},
   "outputs": [],
   "source": [
    "data_counts.to_csv(f\"{INTERMEDIATE}/proteomics/proteomics_concentrations.csv\")"
   ]
  }
 ],
 "metadata": {
  "kernelspec": {
   "display_name": "Python 3",
   "language": "python",
   "name": "python3"
  },
  "language_info": {
   "codemirror_mode": {
    "name": "ipython",
    "version": 3
   },
   "file_extension": ".py",
   "mimetype": "text/x-python",
   "name": "python",
   "nbconvert_exporter": "python",
   "pygments_lexer": "ipython3",
   "version": "3.7.3"
  }
 },
 "nbformat": 4,
 "nbformat_minor": 4
}
