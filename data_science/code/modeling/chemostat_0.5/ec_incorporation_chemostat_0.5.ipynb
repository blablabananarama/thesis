{
 "cells": [
  {
   "cell_type": "code",
   "execution_count": 3,
   "metadata": {},
   "outputs": [
    {
     "name": "stdout",
     "output_type": "stream",
     "text": [
      "Standard variables loaded, you are good to go!\n"
     ]
    }
   ],
   "source": [
    "import os\n",
    "from dotenv import load_dotenv, find_dotenv\n",
    "from os.path import join, dirname, basename, exists, isdir\n",
    "\n",
    "### Load environmental variables from the project root directory ###\n",
    "# find .env automagically by walking up directories until it's found\n",
    "dotenv_path = find_dotenv()\n",
    "\n",
    "# load up the entries as environment variables\n",
    "load_dotenv(dotenv_path)\n",
    "\n",
    "# now you can get the variables using their names\n",
    "\n",
    "# Check whether a network drive has been specified\n",
    "DATABASE = os.environ.get(\"NETWORK_URL\")\n",
    "if DATABASE == 'None':\n",
    "    pass\n",
    "else:\n",
    "    pass\n",
    "    #mount network drive here\n",
    "\n",
    "# set up directory pathsa\n",
    "CURRENT_DIR = os.getcwd()\n",
    "PROJ = dirname(dotenv_path) # project root directory\n",
    "\n",
    "DATA = join(PROJ, 'data') #data directory\n",
    "RAW_EXTERNAL = join(DATA, 'raw_external') # external data raw directory\n",
    "RAW_INTERNAL = join(DATA, 'raw_internal') # internal data raw directory\n",
    "INTERMEDIATE = join(DATA, 'intermediate') # intermediate data directory\n",
    "FINAL = join(DATA, 'final') # final data directory\n",
    "\n",
    "RESULTS = join(PROJ, 'results') # output directory\n",
    "FIGURES = join(RESULTS, 'figures') # figure output directory\n",
    "PICTURES = join(RESULTS, 'pictures') # picture output directory\n",
    "\n",
    "\n",
    "# make folders specific for certain data\n",
    "folder_name = ''\n",
    "if folder_name != '':\n",
    "    #make folders if they don't exist\n",
    "    if not exists(join(RAW_EXTERNAL, folder_name)):\n",
    "        os.makedirs(join(RAW_EXTERNAL, folder_name))\n",
    "\n",
    "    if not exists(join(INTERMEDIATE, folder_name)):\n",
    "        os.makedirs(join(INTERMEDIATE, folder_name))\n",
    "\n",
    "    if not exists(join(FINAL, folder_name)):\n",
    "        os.makedirs(join(FINAL, folder_name))\n",
    "\n",
    "\n",
    "print('Standard variables loaded, you are good to go!')"
   ]
  },
  {
   "cell_type": "code",
   "execution_count": 4,
   "metadata": {},
   "outputs": [],
   "source": [
    "import cobra\n",
    "import os\n",
    "import pandas as pd\n",
    "import cameo\n",
    "import wget\n",
    "import ssl\n",
    "from scipy.stats import pearsonr\n",
    "\n",
    "\n",
    "#E. coli model:\n",
    "ssl._create_default_https_context = ssl._create_unverified_context\n",
    "wget.download(\"https://raw.githubusercontent.com/BenjaSanchez/notebooks/master/e_coli_simulations/eciML1515.xml\")\n",
    "eColi_Model = cobra.io.read_sbml_model(\"eciML1515.xml\")\n",
    "os.remove(\"eciML1515.xml\")\n",
    "\n",
    "\n",
    "# proteomics data:\n",
    "proteomics_dataset = f\"{INTERMEDIATE}/proteomics/proteomics_concentrations.csv\"\n",
    "weights_location = f\"{INTERMEDIATE}/proteomics/proteomics_masses.csv\""
   ]
  },
  {
   "cell_type": "code",
   "execution_count": 5,
   "metadata": {},
   "outputs": [],
   "source": [
    "from collections import namedtuple\n",
    "from cobra.medium.boundary_types import find_external_compartment\n",
    "from cobra.io.dict import reaction_to_dict\n",
    "import pandas as pd\n",
    "import numpy as np"
   ]
  },
  {
   "cell_type": "code",
   "execution_count": 6,
   "metadata": {},
   "outputs": [],
   "source": [
    "from simulations.modeling.driven import (\n",
    "    adjust_fluxes2model,\n",
    "    flexibilize_proteomics,\n",
    "    minimize_distance,\n",
    ")"
   ]
  },
  {
   "cell_type": "code",
   "execution_count": 7,
   "metadata": {},
   "outputs": [],
   "source": [
    "exchange_reaction = \"chemostat µ=0.5\"\n",
    "exchange_reaction_lowercase = \"chemostatµ05\"\n"
   ]
  },
  {
   "cell_type": "code",
   "execution_count": 8,
   "metadata": {},
   "outputs": [],
   "source": [
    "def reset_real_proteomics(proteomics_dataset):\n",
    "    '''loads set of proteomics data from the provided dataset file into dict of lists'''\n",
    "    data = pd.read_csv(proteomics_dataset, index_col=\"UP\")  # yeast\n",
    "    data_dict = {}\n",
    "    for i in range(0,data.shape[1], 3):\n",
    "        uncertainty = data.iloc[:,i:i+3].std(axis=1)\n",
    "        uncertainty_name = data.columns[i]+ \"_uncertainty\"\n",
    "        data[uncertainty_name] = uncertainty\n",
    "        data_dict[data.columns[i]] = [{'identifier':data.index[j], 'measurement':data.iloc[j,i], 'uncertainty':data[uncertainty_name][j] }\\\n",
    "         for j in range(0, len(data.iloc[:,i]))]\n",
    "        data_dict[data.columns[i+1]] = [{'identifier':data.index[j], 'measurement':data.iloc[j,i+1], 'uncertainty':data[uncertainty_name][j] }\\\n",
    "         for j in range(0, len(data.iloc[:,i+1]))]\n",
    "        data_dict[data.columns[i+2]] = [{'identifier':data.index[j], 'measurement':data.iloc[j,i+2], 'uncertainty':data[uncertainty_name][j] }\\\n",
    "         for j in range(0, len(data.iloc[:,i+2]))]\n",
    "    return data_dict\n",
    "\n"
   ]
  },
  {
   "cell_type": "code",
   "execution_count": 9,
   "metadata": {},
   "outputs": [],
   "source": [
    "proteomics_data = reset_real_proteomics(proteomics_dataset)\n",
    "\n",
    "growth_rates = pd.read_csv(f\"{RAW_INTERNAL}/proteomics/growth_conditions.csv\")\n",
    "growth_rates = growth_rates.drop(growth_rates.columns.difference(['Growth condition','Growth rate (h-1)', 'Stdev']), 1)\n",
    "growth_rates = growth_rates.drop([0,1], axis=0)"
   ]
  },
  {
   "cell_type": "code",
   "execution_count": 11,
   "metadata": {},
   "outputs": [
    {
     "name": "stdout",
     "output_type": "stream",
     "text": [
      "[]\n",
      "<Solution 0.877 at 0x125b4f400>\n"
     ]
    }
   ],
   "source": [
    "\n",
    "def find_exchange_rxn(compound, model):\n",
    "    exchange_reactions = [i for i in model.reactions if \"EX\" in i.id]\n",
    "    compound_ex_rxn = [i for i in exchange_reactions if compound in i.name]\n",
    "    compound_ex_rxn = [i for i in compound_ex_rxn if len(list(i._metabolites.keys())) == 1 \\\n",
    "                       & (list(i._metabolites.values())[0] == 1.0) \\\n",
    "                        & (list(i._metabolites.keys())[0].name == compound + \" [extracellular space]\")]\n",
    "    return compound_ex_rxn\n",
    "\n",
    "\n",
    "# find Pyruvate\n",
    "ac_ex = find_exchange_rxn(exchange_reaction, eColi_Model)\n",
    "print(ac_ex)\n",
    "model = eColi_Model\n",
    "\n",
    "# minimal medium with pyruvate\n",
    "# pyruvate_growth_rate = list(growth_rates['Growth rate (h-1)'].loc[growth_rates['Growth condition'] == \"Acetate\"])[0]\n",
    "# model = eColi_Model.copy()\n",
    "# medium = model.medium\n",
    "# medium.pop(\"EX_glc__D_e_REV\", None)\n",
    "\n",
    "\n",
    "\n",
    "# medium[f'{ac_ex[0].id}'] = 10\n",
    "# model.medium = medium\n",
    "# pyr_model.medium = minimal_medium(pyr_model).to_dict()\n",
    "print(model.optimize())"
   ]
  },
  {
   "cell_type": "code",
   "execution_count": 12,
   "metadata": {},
   "outputs": [
    {
     "name": "stdout",
     "output_type": "stream",
     "text": [
      "Number of proteins originally:  2058\n",
      "Number of proteins incorporated:  1957\n",
      "Number of proteins originally:  2058\n",
      "Number of proteins incorporated:  1956\n",
      "Number of proteins originally:  2058\n",
      "Number of proteins incorporated:  1955\n"
     ]
    }
   ],
   "source": [
    "# Flexibilize proteomics\n",
    "\n",
    "ec_model_1 = model\n",
    "ec_model_2 = model\n",
    "ec_model_3 = model\n",
    "\n",
    "# first \n",
    "print(\"Number of proteins originally: \", len(proteomics_data[exchange_reaction_lowercase]))\n",
    "growth_rate = {\"measurement\":float(list(growth_rates['Growth rate (h-1)'].loc[growth_rates['Growth condition'] == exchange_reaction])[0]),\\\n",
    "    \"uncertainty\":float(list(growth_rates['Stdev'].loc[growth_rates['Growth condition'] == exchange_reaction])[0])}\n",
    "new_growth_rate, new_proteomics, warnings = flexibilize_proteomics(ec_model_1,  \"BIOMASS_Ec_iML1515_core_75p37M\", growth_rate, proteomics_data[exchange_reaction_lowercase], [])\n",
    "print(\"Number of proteins incorporated: \", len(new_proteomics))\n",
    "\n",
    "# first \n",
    "print(\"Number of proteins originally: \", len(proteomics_data[exchange_reaction_lowercase + \"2\"]))\n",
    "growth_rate = {\"measurement\":float(list(growth_rates['Growth rate (h-1)'].loc[growth_rates['Growth condition'] == exchange_reaction])[0]),\\\n",
    "    \"uncertainty\":float(list(growth_rates['Stdev'].loc[growth_rates['Growth condition'] == exchange_reaction])[0])}\n",
    "new_growth_rate, new_proteomics, warnings = flexibilize_proteomics(ec_model_2,  \"BIOMASS_Ec_iML1515_core_75p37M\", growth_rate, proteomics_data[exchange_reaction_lowercase + \"1\"], [])\n",
    "print(\"Number of proteins incorporated: \", len(new_proteomics))\n",
    "\n",
    "# first \n",
    "print(\"Number of proteins originally: \", len(proteomics_data[exchange_reaction_lowercase + \"2\"]))\n",
    "growth_rate = {\"measurement\":float(list(growth_rates['Growth rate (h-1)'].loc[growth_rates['Growth condition'] == exchange_reaction])[0]),\\\n",
    "    \"uncertainty\":float(list(growth_rates['Stdev'].loc[growth_rates['Growth condition'] == exchange_reaction])[0])}\n",
    "new_growth_rate, new_proteomics, warnings = flexibilize_proteomics(ec_model_3,  \"BIOMASS_Ec_iML1515_core_75p37M\", growth_rate, proteomics_data[exchange_reaction_lowercase + \"2\"], [])\n",
    "print(\"Number of proteins incorporated: \", len(new_proteomics))\n"
   ]
  },
  {
   "cell_type": "markdown",
   "metadata": {},
   "source": [
    "# Extraction of the usages \n",
    "\n"
   ]
  },
  {
   "cell_type": "code",
   "execution_count": 13,
   "metadata": {},
   "outputs": [],
   "source": [
    "\n",
    "weights = pd.read_csv(weights_location, index_col = \"UP\")\n",
    "# usages of ac proteins\n",
    "\n",
    "#solution = pyr_model.optimize()\n",
    "\n",
    "# pyr model uages\n",
    "\n",
    "\n",
    "def get_usages(prot_int_model, weights):\n",
    "    # get the usages of a model integrated with proteomics\n",
    "    try:\n",
    "        solution = cobra.flux_analysis.pfba(prot_int_model)\n",
    "    except:\n",
    "        print(\"used normal fba\")\n",
    "        solution = prot_int_model.optimize()\n",
    "    abs_usages = pd.Series()\n",
    "    perc_usages = pd.Series()\n",
    "    mass_usages = 0\n",
    "    non_mass_proteins = []\n",
    "    for reaction in prot_int_model.reactions:\n",
    "        if reaction.id.startswith(\"prot_\"):\n",
    "            prot_id = reaction.id.replace(\"prot_\",\"\")\n",
    "            prot_id = prot_id.replace(\"_exchange\",\"\")\n",
    "            abs_usage = solution.fluxes[reaction.id]\n",
    "            abs_usages = abs_usages.append(pd.Series({prot_id:abs_usage}))\n",
    "            perc_usage = solution.fluxes[reaction.id]/reaction.upper_bound\n",
    "            perc_usages = perc_usages.append(pd.Series({prot_id:perc_usage}))\n",
    "            try: \n",
    "                if perc_usage <= 100:\n",
    "                    mass_usages += perc_usage/100 * weights[prot_id]\n",
    "            except:\n",
    "                non_mass_proteins.append(prot_id)\n",
    "    return abs_usages, perc_usages, mass_usages, non_mass_proteins\n",
    "\n",
    "# \n",
    "abs_usages_1, perc_usages_1, mass_usage_1, non_mass_proteins_1 = get_usages(ec_model_1, weights[f\"{exchange_reaction}\"])\n",
    "abs_usages_2, perc_usages_2, mass_usage_2, non_mass_proteins_2 = get_usages(ec_model_2, weights[f\"{exchange_reaction}.1\"])\n",
    "abs_usages_3, perc_usages_3, mass_usage_3, non_mass_proteins_3 = get_usages(ec_model_3, weights[f\"{exchange_reaction}.2\"])"
   ]
  },
  {
   "cell_type": "code",
   "execution_count": 14,
   "metadata": {},
   "outputs": [
    {
     "name": "stdout",
     "output_type": "stream",
     "text": [
      "Mass of Proteins total:  117633655349.57416\n",
      "Mass actually used:  123101086.04662248\n"
     ]
    }
   ],
   "source": [
    "len(non_mass_proteins_1)\n",
    "print(\"Mass of Proteins total: \", sum(weights[\"acetate\"]))\n",
    "print(\"Mass actually used: \", sum(weights[\"acetate\"])*(mass_usage_1/sum(weights[\"acetate\"])))"
   ]
  },
  {
   "cell_type": "code",
   "execution_count": 15,
   "metadata": {},
   "outputs": [],
   "source": [
    "abs_usages_df = pd.DataFrame({f\"{exchange_reaction_lowercase}\": perc_usages_1, f\"{exchange_reaction_lowercase}.1\": perc_usages_2, f\"{exchange_reaction_lowercase}.2\": perc_usages_3})\n",
    "abs_usages_df.to_csv(f\"{FINAL}/abs_usages_gecko/{exchange_reaction_lowercase}\")"
   ]
  },
  {
   "cell_type": "markdown",
   "metadata": {},
   "source": [
    "# Masses\n",
    "\n",
    "Masses that are actually used seem very low, at  0,9 %\n",
    "\n",
    "What should I actually do here?\n",
    "\n",
    "Total protein mass: 117633655349 Dalton"
   ]
  },
  {
   "cell_type": "code",
   "execution_count": 18,
   "metadata": {
    "scrolled": true
   },
   "outputs": [
    {
     "data": {
      "image/png": "[encoded data removed]",
      "text/plain": [
       "<Figure size 432x288 with 1 Axes>"
      ]
     },
     "metadata": {
      "needs_background": "light"
     },
     "output_type": "display_data"
    }
   ],
   "source": [
    "import numpy as np; np.random.seed(42)\n",
    "import matplotlib.pyplot as plt\n",
    "import seaborn as sns\n",
    "\n",
    "df = perc_usages_1.to_frame()\n",
    "df[\"perc_usages_2\"] = perc_usages_2\n",
    "df[\"perc_usages_3\"] = perc_usages_3\n",
    "df.columns = [\"Measurement 1\", \"Measurement 2\", \"Measurement 3\"]\n",
    "\n",
    "sns.boxplot(x=\"variable\", y=\"value\", data=pd.melt(df[(df > 0) & (df < 100)]))\n",
    "plt.xlabel('Measurements')\n",
    "plt.ylabel('Usage of measurement in %')\n",
    "plt.title('% usage of proteins per ec simulation ')\n",
    "plt.savefig(f'{FIGURES}/ec_incorporation_perc_usage_box_ac')\n",
    "plt.show()\n",
    "\n"
   ]
  },
  {
   "cell_type": "code",
   "execution_count": 19,
   "metadata": {},
   "outputs": [
    {
     "data": {
      "text/plain": [
       "<matplotlib.axes._subplots.AxesSubplot at 0x12eef3e48>"
      ]
     },
     "execution_count": 19,
     "metadata": {},
     "output_type": "execute_result"
    },
    {
     "data": {
      "image/png": "[encoded data removed]",
      "text/plain": [
       "<Figure size 432x288 with 1 Axes>"
      ]
     },
     "metadata": {
      "needs_background": "light"
     },
     "output_type": "display_data"
    }
   ],
   "source": [
    "#df['pct'] = df['Location'].div(df.groupby('Hour')['Location'].transform('sum'))\n",
    "#g = sns.FacetGrid(df, row=\"pct\", hue=\"pct\", aspect=15, height=.5, palette=pal)\n",
    "\n",
    "perc_incorporation_pyr = pd.melt(df[(df > 0) & (df < 100)])\n",
    " \n",
    "# Method 1: on the same Axis\n",
    "sns.distplot( df[(df > 0) & (df < 100)].iloc[:,0] , color=\"skyblue\", label=\"1\", kde=False)\n",
    "sns.distplot( df[(df > 0) & (df < 100)].iloc[:,1], color=\"red\", label=\"2\", kde=False)\n",
    "sns.distplot( df[(df > 0) & (df < 100)].iloc[:,2], color=\"green\", label=\"3\", kde=False)\n"
   ]
  },
  {
   "cell_type": "code",
   "execution_count": 20,
   "metadata": {},
   "outputs": [
    {
     "data": {
      "image/png": "[encoded data removed]",
      "text/plain": [
       "<Figure size 576x576 with 1 Axes>"
      ]
     },
     "metadata": {
      "needs_background": "light"
     },
     "output_type": "display_data"
    }
   ],
   "source": [
    "from sklearn.preprocessing import StandardScaler\n",
    "\n",
    "# standardize data for pca \n",
    "pca_df_all_proteomics_and_pyr = pd.read_csv(proteomics_dataset, index_col=\"UP\")# .loc[df.index,:]\n",
    "pca_df_all_proteomics_and_pyr['pyr_1'] = abs_usages_1\n",
    "pca_df_all_proteomics_and_pyr = pca_df_all_proteomics_and_pyr.T.dropna(axis='columns')\n",
    "x = pca_df_all_proteomics_and_pyr.values\n",
    "x = StandardScaler().fit_transform(x)\n",
    "\n",
    "# run pca\n",
    "from sklearn.decomposition import PCA\n",
    "pca = PCA(n_components=2)\n",
    "principalComponents = pca.fit_transform(x)\n",
    "principalDf = pd.DataFrame(data = principalComponents, columns = ['principal component 1', 'principal component 2'])\n",
    "principalDf.index = pca_df_all_proteomics_and_pyr.index\n",
    "\n",
    "fig = plt.figure(figsize = (8,8))\n",
    "ax = fig.add_subplot(1,1,1) \n",
    "ax.set_xlabel('Principal Component 1', fontsize = 15)\n",
    "ax.set_ylabel('Principal Component 2', fontsize = 15)\n",
    "ax.set_title('2 component PCA with zero values', fontsize = 20)\n",
    "\n",
    "amount = len(principalDf.index)\n",
    "for i in range(amount):\n",
    "    c = [float(i)/float(amount), 0.0, float(amount-i)/float(amount)] #R,G,B\n",
    "    ax.scatter(principalDf.loc[principalDf.index[i], 'principal component 1']\n",
    "           , principalDf.loc[principalDf.index[i], 'principal component 2']\n",
    "           , color = c \n",
    "           , s = 50)\n",
    "ax.scatter(principalDf.loc[\"pyr_1\", 'principal component 1']\n",
    "           , principalDf.loc[principalDf.index[i], 'principal component 2']\n",
    "           , color = \"green\"\n",
    "           , s = 50)\n",
    "\n",
    "\n",
    "#ax.legend(pca_df_all_proteomics_and_pyr.index)\n",
    "ax.grid()\n",
    "plt.savefig(f'{FIGURES}/all_conditions_PCA')\n"
   ]
  },
  {
   "cell_type": "code",
   "execution_count": 13,
   "metadata": {},
   "outputs": [
    {
     "name": "stderr",
     "output_type": "stream",
     "text": [
      "/Library/Python/3.7/site-packages/pandas/core/indexing.py:1418: FutureWarning:\n",
      "\n",
      "\n",
      "Passing list-likes to .loc or [] with any missing label will raise\n",
      "KeyError in the future, you can use .reindex() as an alternative.\n",
      "\n",
      "See the documentation here:\n",
      "https://pandas.pydata.org/pandas-docs/stable/user_guide/indexing.html#deprecate-loc-reindex-listlike\n",
      "\n"
     ]
    },
    {
     "data": {
      "image/png": "[encoded data removed]",
      "text/plain": [
       "<Figure size 576x576 with 1 Axes>"
      ]
     },
     "metadata": {
      "needs_background": "light"
     },
     "output_type": "display_data"
    }
   ],
   "source": [
    "# standardize data for pca \n",
    "# #features = ['sepal length', 'sepal width', 'petal length', 'petal width']# Separating out the features\n",
    "pca_df_all_proteomics_and_pyr = pd.read_csv(proteomics_dataset, index_col=\"UP\").loc[df.index,:]\n",
    "pca_df_all_proteomics_and_pyr['pyr_1'] = abs_usages_1\n",
    "pca_df_all_proteomics_and_pyr = pca_df_all_proteomics_and_pyr[pca_df_all_proteomics_and_pyr['pyr_1'] > 0]\n",
    "pca_df_all_proteomics_and_pyr = pca_df_all_proteomics_and_pyr.T.dropna(axis='columns')\n",
    "x = pca_df_all_proteomics_and_pyr.values\n",
    "x = StandardScaler().fit_transform(x)\n",
    "\n",
    "# run pca\n",
    "from sklearn.decomposition import PCA\n",
    "pca = PCA(n_components=2)\n",
    "principalComponents = pca.fit_transform(x)\n",
    "principalDf = pd.DataFrame(data = principalComponents, columns = ['principal component 1', 'principal component 2'])\n",
    "principalDf.index = pca_df_all_proteomics_and_pyr.index\n",
    "\n",
    "fig = plt.figure(figsize = (8,8))\n",
    "ax = fig.add_subplot(1,1,1) \n",
    "ax.set_xlabel('Principal Component 1', fontsize = 15)\n",
    "ax.set_ylabel('Principal Component 2', fontsize = 15)\n",
    "ax.set_title('2 component PCA without zero values', fontsize = 20)\n",
    "\n",
    "amount = len(principalDf.index)\n",
    "for i in range(amount):\n",
    "    c = [float(i)/float(amount), 0.0, float(amount-i)/float(amount)] #R,G,B\n",
    "    ax.scatter(principalDf.loc[principalDf.index[i], 'principal component 1']\n",
    "           , principalDf.loc[principalDf.index[i], 'principal component 2']\n",
    "           , color = c \n",
    "           , s = 50)\n",
    "ax.scatter(principalDf.loc[\"pyr_1\", 'principal component 1']\n",
    "           , principalDf.loc[principalDf.index[i], 'principal component 2']\n",
    "           , color = \"green\"\n",
    "           , s = 50)\n",
    "\n",
    "ax.grid()"
   ]
  },
  {
   "cell_type": "code",
   "execution_count": 26,
   "metadata": {},
   "outputs": [],
   "source": [
    "pd.DataFrame({'ac_1':abs_usages_1, 'ac_2':abs_usages_2, 'ac_3':abs_usages_3}).to_csv(f'{INTERMEDIATE}/proteomics/acetate_usages.csv')\n"
   ]
  },
  {
   "cell_type": "markdown",
   "metadata": {},
   "source": [
    "# Check sensibility\n",
    "- try using fluxomics data to compare the fluxes to the values of the non-ec model"
   ]
  },
  {
   "cell_type": "code",
   "execution_count": 239,
   "metadata": {},
   "outputs": [
    {
     "data": {
      "text/plain": [
       "D [h-1]\n",
       "glucose consumption rate [mmol gdw-1 h-1]    2.80\n",
       "GLC + ATP -> G6P                             2.84\n",
       "G6P -> 6PG + NADPH                           1.24\n",
       "6PG -> P5P + CO2 + NADPH                     0.97\n",
       "G6P -> F6P                                   1.58\n",
       "6PG -> T3P + PYR                             0.28\n",
       "F6P + ATP -> 2T3P                            2.12\n",
       "2P5P -> S7P + T3P                            0.31\n",
       "P5P + E4P -> F6P + T3P                       0.23\n",
       "S7P + T3P -> E4P + F6P                       0.31\n",
       "T3P -> PGA + ATP + NADH                      4.72\n",
       "PGA -> PEP                                   4.42\n",
       "PEP -> PYR + ATP                             4.58\n",
       "PYR -> AcCoA + CO2 + NADH                    4.64\n",
       "OAA + AcCoA -> ICT                           2.88\n",
       "ICT -> OGA + CO2 + NADPH                     1.56\n",
       "OGA -> FUM + CO2 + 1.5*ATP + 2NADH           1.28\n",
       "FUM -> MAL                                   2.61\n",
       "MAL -> OAA + NADH                            3.52\n",
       "MAL -> PYR + CO2 + NADH                      0.41\n",
       "OAA + ATP -> PEP + CO2                       1.16\n",
       "PEP + CO2 -> OAA                             0.84\n",
       "AcCoA -> Acetate + ATP                       0.00\n",
       "ICT + AcCoA -> MAL + FUM + NADH              1.33\n",
       "NADPH -> NADH                                0.58\n",
       "O2 + 2NADH -> 2P/O x ATP                     9.11\n",
       "Biomass                                      0.18\n",
       "Name: 0.19, dtype: float64"
      ]
     },
     "execution_count": 239,
     "metadata": {},
     "output_type": "execute_result"
    }
   ],
   "source": [
    "# load fluxomics data\n",
    "fluxes = pd.read_csv(f\"{RAW_EXTERNAL}/chemostat_flux.csv\", index_col = \"D [h-1]\")[\"0.19\"]\n",
    "\n",
    "fluxes"
   ]
  },
  {
   "cell_type": "code",
   "execution_count": 240,
   "metadata": {},
   "outputs": [],
   "source": [
    "ec_model_sol = ec_model_1.optimize()\n",
    "ec_model_pfba = cobra.flux_analysis.pfba(ec_model_1)"
   ]
  },
  {
   "cell_type": "code",
   "execution_count": 242,
   "metadata": {},
   "outputs": [
    {
     "name": "stdout",
     "output_type": "stream",
     "text": [
      "GLC + ATP -> G6P : 3.076127514751424\n",
      "g6p nadph : 3.076127514751424\n",
      "G6P -> F6P : 2.5168621099324184\n",
      "6PG -> T3P + PYR : 0.0\n",
      "F6P + ATP -> 2T3P : 0.2338547795227729\n",
      "PEP -> PYR + ATP : 0.0\n",
      "AcCoA -> Acetate + ATP:  0.0\n"
     ]
    }
   ],
   "source": [
    "\n",
    "\n",
    "# compare the \n",
    "type(ec_model_1.optimize().fluxes)\n",
    "f = ec_model_1.optimize()\n",
    "g = [i for i in range(0, len(f.fluxes)) if \"EX_glc\" in f.fluxes.index[i]]\n",
    "f.fluxes[g]\n",
    "\n",
    "# find reaction GLC + ATP -> G6P     \n",
    "glc_metabolite = ec_model_1.metabolites.get_by_id(\"glc__D_c\")\n",
    "atp_metabolite = ec_model_1.metabolites.get_by_id(\"atp_c\")\n",
    "reactions_glc_atp = [i for i in model.reactions\\\n",
    " if glc_metabolite in i.metabolites and atp_metabolite in i.metabolites]\n",
    "hexokinase = reactions[0]\n",
    "print(\"GLC + ATP -> G6P :\",ec_model_sol[hexokinase.id])\n",
    "\n",
    "# find flux glc atp \n",
    "\n",
    "# find reaction G6P -> 6PG + NADPH\n",
    "g6p_metabolite = ec_model_1.metabolites.get_by_id(\"g6p_c\")\n",
    "nadph_metabolite = ec_model_1.metabolites.get_by_id(\"nadph_c\")\n",
    "nadp_reactions = [i for i in model.reactions\\\n",
    " if nadph_metabolite in i.metabolites and g6p_metabolite in i.metabolites]\n",
    "g6p_nadph = nadp_reactions[0]\n",
    "print(\"G6P -> 6PG + NADPH :\",ec_model_sol[g6p_nadph.id])\n",
    "\n",
    "\n",
    "# find reaction G6P -> F6P\n",
    "f6p_metabolite = ec_model_1.metabolites.get_by_id(\"f6p_c\")\n",
    "g6p_metabolite = ec_model_1.metabolites.get_by_id(\"g6p_c\")\n",
    "f6p_reactions = [i for i in model.reactions\\\n",
    " if f6p_metabolite in i.metabolites and g6p_metabolite in i.metabolites]\n",
    "f6p_reaction = f6p_reactions[0]\n",
    "print(\"G6P -> F6P :\",ec_model_sol[f6p_reaction.id])\n",
    "\n",
    "\n",
    "# find reaction 6PG -> T3P + PYR\n",
    "pyr_metabolite = ec_model_1.metabolites.get_by_id(\"pyr_c\")\n",
    "sixpgl_metabolite = ec_model_1.metabolites.get_by_id(\"6pgl_c\")\n",
    "pyr_reactions = [i for i in model.reactions\\\n",
    " if pyr_metabolite in i.metabolites]# and sixpgl_metabolite in i.metabolites]\n",
    "pyr_reaction = pyr_reactions[0]\n",
    "print(\"6PG -> T3P + PYR :\",ec_model_sol[pyr_reaction.id])\n",
    "\n",
    "\n",
    "# find reaction F6P + ATP -> 2T3P\n",
    "pyr_reactions = [i for i in model.reactions\\\n",
    " if f6p_metabolite in i.metabolites and atp_metabolite in i.metabolites]\n",
    "f6p_reaction = pyr_reactions[0]\n",
    "print(\"F6P + ATP -> 2T3P :\",ec_model_sol[f6p_reaction.id])\n",
    "\n",
    "\n",
    "# find reaction PGA -> PEP\n",
    "pep_metabolite = ec_model_1.metabolites.get_by_id(\"pep_c\")\n",
    "pga_reactions = [i for i in model.reactions\\\n",
    " if pep_metabolite in i.metabolites]# and atp_metabolite in i.metabolites]\n",
    "pga_reaction = pga_reactions[0]\n",
    "#ec_model_1.optimize()[pga_reactions.id]\n",
    "\n",
    "# find reaction PEP -> PYR + ATP\n",
    "pep_metabolite = ec_model_1.metabolites.get_by_id(\"pep_c\")\n",
    "peppyr_reactions = [i for i in model.reactions\\\n",
    " if pep_metabolite in i.metabolites and atp_metabolite in i.metabolites]\n",
    "peppyr_reaction = peppyr_reactions[1]\n",
    "print(\"PEP -> PYR + ATP :\",ec_model_sol[peppyr_reaction.id])\n",
    "\n",
    "\n",
    "# find reaction PYR -> AcCoA + CO2 + NADH\n",
    "pep_metabolite = ec_model_1.metabolites.get_by_id(\"pep_c\")\n",
    "co2_metabolite = ec_model_1.metabolites.get_by_id(\"co2_c\")\n",
    "accoa_metabolite = ec_model_1.metabolites.get_by_id(\"accoa_c\")\n",
    "pyraccoa_reactions = [i for i in model.reactions\\\n",
    " if pyr_metabolite in i.metabolites and co2_metabolite in i.metabolites and accoa_metabolite in i.metabolites]\n",
    "#pyraccoa_reaction = pyraccoa_reactions[0]\n",
    "#ec_model_1.optimize()[pyraccoa_reaction.id]\n",
    "\n",
    "# find reaction FUM -> MAL\n",
    "fum_metabolite = ec_model_1.metabolites.get_by_id(\"fum_c\")\n",
    "co2_metabolite = ec_model_1.metabolites.get_by_id(\"co2_c\")\n",
    "accoa_metabolite = ec_model_1.metabolites.get_by_id(\"accoa_c\")\n",
    "pyraccoa_reactions = [i for i in model.reactions\\\n",
    " if pyr_metabolite in i.metabolites and co2_metabolite in i.metabolites and accoa_metabolite in i.metabolites]\n",
    "#pyraccoa_reaction = pyraccoa_reactions[0]\n",
    "#ec_model_1.optimize()[pyraccoa_reaction.id]\n",
    "\n",
    "\n",
    "# find reaction AcCoA -> Acetate + ATP\n",
    "ac_metabolite = ec_model_1.metabolites.get_by_id(\"ac_c\")\n",
    "accoaac_reactions = [i for i in model.reactions\\\n",
    " if ac_metabolite in i.metabolites and accoa_metabolite in i.metabolites and atp_metabolite in i.metabolites]\n",
    "accoaac_reaction = accoaac_reactions[0]\n",
    "print(\"AcCoA -> Acetate + ATP: \" ,ec_model_sol[accoaac_reaction.id])\n",
    "\n",
    "# find reaction NADPH -> NADH\n",
    "nadh_metabolite = ec_model_1.metabolites.get_by_id(\"nadh_c\")\n",
    "nadpnadh_reactions = [i for i in model.reactions\\\n",
    " if nadh_metabolite in i.metabolites and nadph_metabolite in i.metabolites]\n",
    "nadpnadh_reaction = nadpnadh_reactions[0]\n",
    "#ec_model_1.optimize()[nadpnadh_reaction.id]"
   ]
  },
  {
   "cell_type": "code",
   "execution_count": 237,
   "metadata": {
    "scrolled": true
   },
   "outputs": [
    {
     "ename": "AttributeError",
     "evalue": "'Solution' object has no attribute 'reactions'",
     "output_type": "error",
     "traceback": [
      "\u001b[0;31m---------------------------------------------------------------------------\u001b[0m",
      "\u001b[0;31mAttributeError\u001b[0m                            Traceback (most recent call last)",
      "\u001b[0;32m<ipython-input-237-f1ee43964d1a>\u001b[0m in \u001b[0;36m<module>\u001b[0;34m\u001b[0m\n\u001b[1;32m      6\u001b[0m \u001b[0;34m\u001b[0m\u001b[0m\n\u001b[1;32m      7\u001b[0m \u001b[0munc_model_sol\u001b[0m \u001b[0;34m=\u001b[0m \u001b[0munc_model\u001b[0m\u001b[0;34m.\u001b[0m\u001b[0moptimize\u001b[0m\u001b[0;34m(\u001b[0m\u001b[0;34m)\u001b[0m\u001b[0;34m\u001b[0m\u001b[0;34m\u001b[0m\u001b[0m\n\u001b[0;32m----> 8\u001b[0;31m \u001b[0munc_model_pfba_sol\u001b[0m \u001b[0;34m=\u001b[0m \u001b[0mcobra\u001b[0m\u001b[0;34m.\u001b[0m\u001b[0mflux_analysis\u001b[0m\u001b[0;34m.\u001b[0m\u001b[0mpfba\u001b[0m\u001b[0;34m(\u001b[0m\u001b[0munc_model_sol\u001b[0m\u001b[0;34m)\u001b[0m\u001b[0;34m\u001b[0m\u001b[0;34m\u001b[0m\u001b[0m\n\u001b[0m",
      "\u001b[0;32m/Library/Python/3.7/site-packages/cobra/flux_analysis/parsimonious.py\u001b[0m in \u001b[0;36mpfba\u001b[0;34m(model, fraction_of_optimum, objective, reactions)\u001b[0m\n\u001b[1;32m     62\u001b[0m \u001b[0;34m\u001b[0m\u001b[0m\n\u001b[1;32m     63\u001b[0m     \"\"\"\n\u001b[0;32m---> 64\u001b[0;31m     \u001b[0mreactions\u001b[0m \u001b[0;34m=\u001b[0m \u001b[0mmodel\u001b[0m\u001b[0;34m.\u001b[0m\u001b[0mreactions\u001b[0m \u001b[0;32mif\u001b[0m \u001b[0mreactions\u001b[0m \u001b[0;32mis\u001b[0m \u001b[0;32mNone\u001b[0m\u001b[0;31m \u001b[0m\u001b[0;31m\\\u001b[0m\u001b[0;34m\u001b[0m\u001b[0;34m\u001b[0m\u001b[0m\n\u001b[0m\u001b[1;32m     65\u001b[0m         \u001b[0;32melse\u001b[0m \u001b[0mmodel\u001b[0m\u001b[0;34m.\u001b[0m\u001b[0mreactions\u001b[0m\u001b[0;34m.\u001b[0m\u001b[0mget_by_any\u001b[0m\u001b[0;34m(\u001b[0m\u001b[0mreactions\u001b[0m\u001b[0;34m)\u001b[0m\u001b[0;34m\u001b[0m\u001b[0;34m\u001b[0m\u001b[0m\n\u001b[1;32m     66\u001b[0m     \u001b[0;32mwith\u001b[0m \u001b[0mmodel\u001b[0m \u001b[0;32mas\u001b[0m \u001b[0mm\u001b[0m\u001b[0;34m:\u001b[0m\u001b[0;34m\u001b[0m\u001b[0;34m\u001b[0m\u001b[0m\n",
      "\u001b[0;31mAttributeError\u001b[0m: 'Solution' object has no attribute 'reactions'"
     ]
    }
   ],
   "source": [
    "\n",
    "#E. coli model:\n",
    "ssl._create_default_https_context = ssl._create_unverified_context\n",
    "wget.download(\"https://raw.githubusercontent.com/BenjaSanchez/notebooks/master/e_coli_simulations/eciML1515.xml\")\n",
    "unc_model = cobra.io.read_sbml_model(\"eciML1515.xml\")\n",
    "os.remove(\"eciML1515.xml\")\n",
    "\n",
    "unc_model_sol = unc_model.optimize()\n",
    "#unc_model_pfba_sol = cobra.flux_analysis.pfba(unc_model_sol)"
   ]
  },
  {
   "cell_type": "code",
   "execution_count": 244,
   "metadata": {},
   "outputs": [
    {
     "name": "stdout",
     "output_type": "stream",
     "text": [
      "GLC + ATP -> G6P : 2.355367839801507\n",
      "G6P -> 6PG + NADPH : 2.355367839801507\n",
      "G6P -> F6P : 7.644632160198492\n",
      "6PG -> T3P + PYR : 0.0\n",
      "F6P + ATP -> 2T3P : 0.0\n",
      "PEP -> PYR + ATP : 0.0\n",
      "AcCoA -> Acetate + ATP:  0.0\n"
     ]
    }
   ],
   "source": [
    "# load fluxomics data\n",
    "fluxes = pd.read_csv(f\"{RAW_EXTERNAL}/chemostat_flux.csv\", index_col = \"D [h-1]\")[\"0.19\"]\n",
    "\n",
    "\n",
    "# compare the \n",
    "type(ec_model_1.optimize().fluxes)\n",
    "f = ec_model_1.optimize()\n",
    "g = [i for i in range(0, len(f.fluxes)) if \"EX_glc\" in f.fluxes.index[i]]\n",
    "f.fluxes[g]\n",
    "unc_model.medium\n",
    "\n",
    "# find reaction GLC + ATP -> G6P     \n",
    "glc_metabolite = ec_model_1.metabolites.get_by_id(\"glc__D_c\")\n",
    "atp_metabolite = ec_model_1.metabolites.get_by_id(\"atp_c\")\n",
    "reactions_glc_atp = [i for i in model.reactions\\\n",
    " if glc_metabolite in i.metabolites and atp_metabolite in i.metabolites]\n",
    "hexokinase = reactions[0]\n",
    "print(\"GLC + ATP -> G6P :\",unc_model_sol[hexokinase.id])\n",
    "\n",
    "# find flux glc atp \n",
    "\n",
    "# find reaction G6P -> 6PG + NADPH\n",
    "g6p_metabolite = ec_model_1.metabolites.get_by_id(\"g6p_c\")\n",
    "nadph_metabolite = ec_model_1.metabolites.get_by_id(\"nadph_c\")\n",
    "nadp_reactions = [i for i in model.reactions\\\n",
    " if nadph_metabolite in i.metabolites and g6p_metabolite in i.metabolites]\n",
    "g6p_nadph = nadp_reactions[0]\n",
    "print(\"G6P -> 6PG + NADPH :\",unc_model_sol[g6p_nadph.id])\n",
    "\n",
    "\n",
    "# find reaction G6P -> F6P\n",
    "f6p_metabolite = ec_model_1.metabolites.get_by_id(\"f6p_c\")\n",
    "g6p_metabolite = ec_model_1.metabolites.get_by_id(\"g6p_c\")\n",
    "f6p_reactions = [i for i in model.reactions\\\n",
    " if f6p_metabolite in i.metabolites and g6p_metabolite in i.metabolites]\n",
    "f6p_reaction = f6p_reactions[0]\n",
    "print(\"G6P -> F6P :\",unc_model_sol[f6p_reaction.id])\n",
    "\n",
    "\n",
    "# find reaction 6PG -> T3P + PYR\n",
    "pyr_metabolite = ec_model_1.metabolites.get_by_id(\"pyr_c\")\n",
    "sixpgl_metabolite = ec_model_1.metabolites.get_by_id(\"6pgl_c\")\n",
    "pyr_reactions = [i for i in model.reactions\\\n",
    " if pyr_metabolite in i.metabolites]# and sixpgl_metabolite in i.metabolites]\n",
    "pyr_reaction = pyr_reactions[0]\n",
    "print(\"6PG -> T3P + PYR :\",unc_model_sol[pyr_reaction.id])\n",
    "\n",
    "\n",
    "# find reaction F6P + ATP -> 2T3P\n",
    "pyr_reactions = [i for i in model.reactions\\\n",
    " if f6p_metabolite in i.metabolites and atp_metabolite in i.metabolites]\n",
    "f6p_reaction = pyr_reactions[0]\n",
    "print(\"F6P + ATP -> 2T3P :\",unc_model_sol[f6p_reaction.id])\n",
    "\n",
    "\n",
    "# find reaction PGA -> PEP\n",
    "pep_metabolite = ec_model_1.metabolites.get_by_id(\"pep_c\")\n",
    "pga_reactions = [i for i in model.reactions\\\n",
    " if pep_metabolite in i.metabolites]# and atp_metabolite in i.metabolites]\n",
    "pga_reaction = pga_reactions[0]\n",
    "#ec_model_1.optimize()[pga_reactions.id]\n",
    "\n",
    "# find reaction PEP -> PYR + ATP\n",
    "pep_metabolite = ec_model_1.metabolites.get_by_id(\"pep_c\")\n",
    "peppyr_reactions = [i for i in model.reactions\\\n",
    " if pep_metabolite in i.metabolites and atp_metabolite in i.metabolites]\n",
    "peppyr_reaction = peppyr_reactions[1]\n",
    "print(\"PEP -> PYR + ATP :\",unc_model_sol[peppyr_reaction.id])\n",
    "\n",
    "\n",
    "# find reaction PYR -> AcCoA + CO2 + NADH\n",
    "pep_metabolite = ec_model_1.metabolites.get_by_id(\"pep_c\")\n",
    "co2_metabolite = ec_model_1.metabolites.get_by_id(\"co2_c\")\n",
    "accoa_metabolite = ec_model_1.metabolites.get_by_id(\"accoa_c\")\n",
    "pyraccoa_reactions = [i for i in model.reactions\\\n",
    " if pyr_metabolite in i.metabolites and co2_metabolite in i.metabolites and accoa_metabolite in i.metabolites]\n",
    "#pyraccoa_reaction = pyraccoa_reactions[0]\n",
    "#ec_model_1.optimize()[pyraccoa_reaction.id]\n",
    "\n",
    "# find reaction FUM -> MAL\n",
    "fum_metabolite = ec_model_1.metabolites.get_by_id(\"fum_c\")\n",
    "co2_metabolite = ec_model_1.metabolites.get_by_id(\"co2_c\")\n",
    "accoa_metabolite = ec_model_1.metabolites.get_by_id(\"accoa_c\")\n",
    "pyraccoa_reactions = [i for i in model.reactions\\\n",
    " if pyr_metabolite in i.metabolites and co2_metabolite in i.metabolites and accoa_metabolite in i.metabolites]\n",
    "#pyraccoa_reaction = pyraccoa_reactions[0]\n",
    "#ec_model_1.optimize()[pyraccoa_reaction.id]\n",
    "\n",
    "\n",
    "# find reaction AcCoA -> Acetate + ATP\n",
    "ac_metabolite = ec_model_1.metabolites.get_by_id(\"ac_c\")\n",
    "accoaac_reactions = [i for i in model.reactions\\\n",
    " if ac_metabolite in i.metabolites and accoa_metabolite in i.metabolites and atp_metabolite in i.metabolites]\n",
    "accoaac_reaction = accoaac_reactions[0]\n",
    "print(\"AcCoA -> Acetate + ATP: \" ,unc_model_sol[accoaac_reaction.id])\n",
    "\n",
    "# find reaction NADPH -> NADH\n",
    "nadh_metabolite = ec_model_1.metabolites.get_by_id(\"nadh_c\")\n",
    "nadpnadh_reactions = [i for i in model.reactions\\\n",
    " if nadh_metabolite in i.metabolites and nadph_metabolite in i.metabolites]\n",
    "nadpnadh_reaction = nadpnadh_reactions[0]\n",
    "#ec_model_1.optimize()[nadpnadh_reaction.id]"
   ]
  }
 ],
 "metadata": {
  "kernelspec": {
   "display_name": "Python 3",
   "language": "python",
   "name": "python3"
  },
  "language_info": {
   "codemirror_mode": {
    "name": "ipython",
    "version": 3
   },
   "file_extension": ".py",
   "mimetype": "text/x-python",
   "name": "python",
   "nbconvert_exporter": "python",
   "pygments_lexer": "ipython3",
   "version": "3.7.3"
  }
 },
 "nbformat": 4,
 "nbformat_minor": 4
}
